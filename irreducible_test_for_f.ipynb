{
 "cells": [
  {
   "cell_type": "code",
   "execution_count": 5,
   "metadata": {
    "collapsed": false
   },
   "outputs": [
   ],
   "source": [
    "K.<a> = NumberField(x - 1)\n",
    "from sage.rings.polynomial.cyclotomic import cyclotomic_coeffs\n",
    "S = ZZ['x']\n",
    "K.<w> = NumberField(x^2 - x + 1)\n",
    "R.<x> = PolynomialRing(ZZ)\n",
    "from collections import defaultdict\n",
    "\n",
    "\n",
    "def is_relatively_prime(m,n):\n",
    "    if gcd(m,n) ==1:\n",
    "        return 1\n",
    "    else:\n",
    "        return 0 \n",
    "    \n",
    "def raw_fekete(n):\n",
    "    \"Fekete polynomial with Delta odd \"\n",
    "    D=n\n",
    "    v=[is_relatively_prime(a+1,n) for a in range(0,D-1)]\n",
    "    F_D=R(v)\n",
    "    return F_D*x  \n",
    "\n",
    "def fekete_by_last_factor(n):\n",
    "    F=raw_fekete(n)\n",
    "    f = F.factor()[-1][0]\n",
    "    return f\n",
    "\n",
    "\n",
    "def divisor_set_general(q,p):\n",
    "    divisor = set()\n",
    "    for d in range(2, q):\n",
    "        if q%d ==1:\n",
    "            divisor.add(d)\n",
    "    for d in range(2,p):\n",
    "        if p%d==1 and d !=q:\n",
    "            divisor.add(d)\n",
    "    for d in range(2,p+q+1):\n",
    "        if (q*p+1)%d==0 and (p+q)%d==0:\n",
    "            divisor.add(d)\n",
    "    return divisor \n",
    "\n",
    "def cyclotomic_factor(q,p):\n",
    "    \"\"\"\n",
    "    return the cyclotmic factor of F_{qp}\n",
    "    \"\"\"\n",
    "    cyc_factor =x\n",
    "    divisor_set = divisor_set_general(q,p)\n",
    "    for d in divisor_set:\n",
    "        cyc_factor *=S(cyclotomic_coeffs(d))\n",
    "    return cyc_factor\n",
    "\n",
    "def fekete(q,p):\n",
    "    n=p*q\n",
    "    cyc_factor = cyclotomic_factor(q,p)\n",
    "    F= raw_fekete(n)\n",
    "    f,r =F.quo_rem(cyc_factor) \n",
    "    return f \n",
    "\n",
    "def middle_coef(f):\n",
    "    coefs = f.coefficients(sparse=True)\n",
    "    deg = len(coefs)\n",
    "    half_deg = deg //2 \n",
    "    return coefs[half_deg]\n",
    "\n",
    "def max_coef(n):\n",
    "    f=fekete(n)\n",
    "    coefs = f.coefficients(sparse=True)\n",
    "    abs_coefs = [abs(a) for a in coefs]\n",
    "    return max(abs_coefs)\n",
    "\n",
    "        \n",
    "def reduced_fekete(f):\n",
    "    u=f.trace_polynomial()\n",
    "    g_D=u[0]\n",
    "    return g_D\n",
    "\n",
    "def fekete_reduction(f, q):\n",
    "    f=f.change_ring(GF(q))\n",
    "    return f.factor()         \n",
    "                \n",
    "def irreducible(f,n):\n",
    "    for q in range(n):\n",
    "        if is_prime(q): \n",
    "            factor=fekete_reduction(f,q)\n",
    "            if len(factor)==1 and factor[0][1]==1:\n",
    "                    return q\n",
    "    return  -1         \n",
    "               \n",
    "def irreducible_2(f,m,n):\n",
    "    for q in range(m,n):\n",
    "        if is_prime(q): \n",
    "            factor=fekete_reduction(f,q)\n",
    "            if len(factor)==1 and factor[0][1]==1:\n",
    "                    return q\n",
    "    return  -1     \n",
    "\n",
    "def test_irreducible(f,q):\n",
    "    factors = fekete_reduction(f,q)\n",
    "    d=defaultdict(int)\n",
    "    for factor in factors:\n",
    "        degree = factor[0].degree()\n",
    "        d[degree] += factor[1]\n",
    "    for degree, count in d.items():\n",
    "        if count % 2 ==1:\n",
    "            return True\n",
    "    return False    \n",
    "\n",
    "def find_smallest_q1(f,n):\n",
    "    for q in range(2,n):\n",
    "        if is_prime(q) and test_irreducible(f,q):\n",
    "            return q\n",
    "    return  -1       \n",
    "\n",
    "def finding_pair_q1_q2(f,n):\n",
    "    g=f.trace_polynomial()[0]\n",
    "    q2 = irreducible(g,n)\n",
    "    q1 = find_smallest_q1(f,n)\n",
    "    return [q1, q2]\n",
    "\n",
    "def irreducible_test(f,n):\n",
    "    pair = finding_pair_q1_q2(f,n)\n",
    "    if pair[0] !=-1 and pair[1] !=-1:\n",
    "        return True\n",
    "    return False\n",
    "    \n",
    "    "
   ]
  },
  {
   "cell_type": "code",
   "execution_count": 0,
   "metadata": {
    "collapsed": false
   },
   "outputs": [
   ],
   "source": [
   ]
  },
  {
   "cell_type": "markdown",
   "metadata": {
    "collapsed": false
   },
   "source": [
    "# Finding the pair $(q_1, q_2)$ such that \n",
    "\n",
    "1. $g_{pq}$ is irreducible modulo $q_2$. \n",
    "\n",
    "2. In the factorization of $f_{pq}$ modulo $q_1$, there exists a degree that appears an odd number of times. \n",
    "\n"
   ]
  },
  {
   "cell_type": "markdown",
   "metadata": {
    "collapsed": false
   },
   "source": [
    "We explain the strategy with a \\(random\\) example, say $q=11$ and $p=37$. First we compute $f_{pq}$. \n"
   ]
  },
  {
   "cell_type": "code",
   "execution_count": 3,
   "metadata": {
    "collapsed": false
   },
   "outputs": [
    {
     "data": {
      "text/plain": [
       "x^22 - x^18 + x^17 - x^16 + x^15 - x^13 + x^12 + x^10 - x^9 + x^7 - x^6 + x^5 - x^4 + 1"
      ]
     },
     "execution_count": 3,
     "metadata": {
     },
     "output_type": "execute_result"
    }
   ],
   "source": [
    "q=5\n",
    "p=7\n",
    "f = fekete(q,p)\n",
    "f"
   ]
  },
  {
   "cell_type": "markdown",
   "metadata": {
    "collapsed": false
   },
   "source": [
    "We can also compute $g_{pq}$ \n",
    "\n"
   ]
  },
  {
   "cell_type": "code",
   "execution_count": 4,
   "metadata": {
    "collapsed": false
   },
   "outputs": [
    {
     "data": {
      "text/plain": [
       "x^11 - 11*x^9 + 43*x^7 + x^6 - 71*x^5 - 5*x^4 + 46*x^3 + 4*x^2 - 8*x + 2"
      ]
     },
     "execution_count": 4,
     "metadata": {
     },
     "output_type": "execute_result"
    }
   ],
   "source": [
    "g = reduced_fekete(f)\n",
    "g"
   ]
  },
  {
   "cell_type": "markdown",
   "metadata": {
    "collapsed": false
   },
   "source": [
    "The following function returns \\(q\\_1, q\\_2\\). Here we restrict $q_1, q_2 \\leq n$ with $n=10^5$ \n"
   ]
  },
  {
   "cell_type": "code",
   "execution_count": 9,
   "metadata": {
    "collapsed": false
   },
   "outputs": [
    {
     "data": {
      "text/plain": [
       "[2, 29]"
      ]
     },
     "execution_count": 9,
     "metadata": {
     },
     "output_type": "execute_result"
    }
   ],
   "source": [
    "n=10**5\n",
    "finding_pair_q1_q2(f,n)"
   ]
  },
  {
   "cell_type": "markdown",
   "metadata": {
    "collapsed": false
   },
   "source": [
    "Let us test that this indeed works. First let us consider $f_{pq}$ modulo $q_1=2$. \n",
    "\n"
   ]
  },
  {
   "cell_type": "code",
   "execution_count": 10,
   "metadata": {
    "collapsed": false
   },
   "outputs": [
    {
     "data": {
      "text/plain": [
       "(x + 1)^8 * (x^2 + x + 1)^2 * (x^3 + x + 1) * (x^3 + x^2 + 1) * (x^4 + x^3 + x^2 + x + 1)"
      ]
     },
     "execution_count": 10,
     "metadata": {
     },
     "output_type": "execute_result"
    }
   ],
   "source": [
    "fekete_reduction(f,2)"
   ]
  },
  {
   "cell_type": "markdown",
   "metadata": {
    "collapsed": false
   },
   "source": [
    "We see for example that degree 4 appears only one time."
   ]
  },
  {
   "cell_type": "markdown",
   "metadata": {
    "collapsed": false
   },
   "source": [
    "Let us consider $g_{pq}$ modulo $q_2=29$. \n",
    "\n"
   ]
  },
  {
   "cell_type": "code",
   "execution_count": 8,
   "metadata": {
    "collapsed": false
   },
   "outputs": [
    {
     "data": {
      "text/plain": [
       "x^11 + 18*x^9 + 14*x^7 + x^6 + 16*x^5 + 24*x^4 + 17*x^3 + 4*x^2 + 21*x + 2"
      ]
     },
     "execution_count": 8,
     "metadata": {
     },
     "output_type": "execute_result"
    }
   ],
   "source": [
    "fekete_reduction(g,29)"
   ]
  },
  {
   "cell_type": "markdown",
   "metadata": {
    "collapsed": false
   },
   "source": [
    "We see that it is indeed irreducible. So, we conclude that $f$ is irreducible as well."
   ]
  },
  {
   "cell_type": "markdown",
   "metadata": {
    "collapsed": false
   },
   "source": [
    "# With the following blocks of code, we check that $f_{pq}$ is irreducible for $3 \\leq q <p \\leq 50$\n",
    "\n"
   ]
  },
  {
   "cell_type": "code",
   "execution_count": 3,
   "metadata": {
    "collapsed": false
   },
   "outputs": [
    {
     "name": "stdout",
     "output_type": "stream",
     "text": [
      "[13, 17, 19, 23, 29, 31, 37, 41, 43, 47, 53, 59, 61, 67, 71, 73, 79, 83, 89, 97, 101]\n"
     ]
    }
   ],
   "source": [
    "P=Primes()\n",
    "q_list = []\n",
    "q=11\n",
    "while q<100:\n",
    "    q=P.next(q)\n",
    "    q_list.append(q)\n",
    "print(q_list)    "
   ]
  },
  {
   "cell_type": "code",
   "execution_count": 7,
   "metadata": {
    "collapsed": false
   },
   "outputs": [
    {
     "name": "stdout",
     "output_type": "stream",
     "text": [
      "[[13, 17, [2, 449]], [13, 19, [2, 761]], [13, 23, [2, 19]], [13, 29, [2, 313]], [13, 31, [2, 2969]], [13, 37, [2, 457]], [13, 41, [2, 1039]], [13, 43, [2, 5]], [13, 47, [2, 607]], [13, 53, [2, 991]], [13, 59, [2, 2311]], [13, 61, [2, 631]], [13, 67, [2, 409]], [13, 71, [2, 1597]], [13, 73, [2, 2687]], [17, 19, [2, 127]], [17, 23, [5, 31]], [17, 29, [2, 2647]], [17, 31, [3, 263]], [17, 37, [2, 569]], [17, 41, [3, 5399]], [17, 43, [2, 311]], [17, 47, [3, 463]], [17, 53, [2, 7789]], [19, 23, [2, 37]], [19, 29, [2, 1931]], [19, 31, [2, 1303]], [19, 37, [2, 353]], [19, 41, [2, 1187]], [19, 43, [2, 6857]], [19, 47, [2, 2777]], [23, 29, [2, 43]], [23, 31, [3, 3221]], [23, 37, [2, 1949]], [23, 41, [5, 853]], [23, 43, [2, 107]], [29, 31, [2, 1213]]]\n",
      "CPU times: user 3min 59s, sys: 760 ms, total: 4min\n",
      "Wall time: 12min 10s\n"
     ]
    }
   ],
   "source": [
    "%%time\n",
    "irreducible_finding =[]\n",
    "n=10**5\n",
    "for q in q_list:\n",
    "    p=P.next(q)\n",
    "    while p * q < 1000: \n",
    "        f=fekete(q,p)\n",
    "        irreducible_finding.append([q,p,finding_pair_q1_q2(f,n)])\n",
    "        p=P.next(p)              \n",
    "print(irreducible_finding)                           \n",
    "        "
   ]
  },
  {
   "cell_type": "code",
   "execution_count": 13,
   "metadata": {
    "collapsed": false
   },
   "outputs": [
    {
     "name": "stdout",
     "output_type": "stream",
     "text": [
      "[[13, 79, [3, 6703]], [13, 83, [2, 359]], [13, 89, [2, 4861]], [13, 97, [2, 5839]], [13, 101, [2, 4987]], [13, 103, [2, 12347]], [13, 107, [2, 4271]], [13, 109, [2, 419]], [13, 113, [2, 9403]], [13, 127, [2, 373]], [13, 131, [2, 1319]], [13, 137, [2, 4447]], [13, 139, [2, 6469]], [13, 149, [2, 919]], [13, 151, [2, 6883]], [17, 59, [2, 2699]], [17, 61, [2, 317]], [17, 67, [2, 3347]], [17, 71, [3, 5023]], [17, 73, [3, 503]], [17, 79, [3, 257]], [17, 83, [2, 1259]], [17, 89, [3, 1531]], [17, 97, [3, 15361]], [17, 101, [2, 2467]], [17, 103, [3, 8329]], [17, 107, [2, 577]], [17, 109, [2, 1109]], [17, 113, [3, 33161]], [19, 53, [2, 1103]], [19, 59, [2, 5021]], [19, 61, [2, 227]], [19, 67, [2, 823]], [19, 71, [2, 5107]], [19, 73, [2, 1459]], [19, 79, [2, 241]], [19, 83, [2, 5333]], [19, 89, [2, 3391]], [19, 97, [2, 3803]], [19, 101, [2, 2797]], [19, 103, [2, 16417]], [23, 47, [3, 563]], [23, 53, [2, 1429]], [23, 59, [2, 2749]], [23, 61, [2, 7877]], [23, 67, [2, 6323]], [23, 71, [3, 563]], [23, 73, [3, 18701]], [23, 79, [3, 2683]], [23, 83, [2, 9221]], [29, 37, [2, 1873]], [29, 41, [2, 7621]], [29, 43, [2, 6257]], [29, 47, [2, 2647]], [29, 53, [2, 10601]], [29, 59, [2, 239]], [29, 61, [2, 2539]], [29, 67, [2, 4139]], [31, 37, [2, 19]], [31, 41, [3, 11]], [31, 43, [2, 10729]], [31, 47, [3, 3323]], [31, 53, [2, 6481]], [31, 59, [2, 3329]], [31, 61, [2, 5717]], [37, 41, [2, 839]], [37, 43, [2, 293]], [37, 47, [2, 4567]], [37, 53, [2, 5741]], [41, 43, [2, 173]], [41, 47, [5, 3067]]]\n",
      "CPU times: user 1h 59min 26s, sys: 18.3 s, total: 1h 59min 45s\n",
      "Wall time: 6h 8min 53s\n"
     ]
    }
   ],
   "source": [
    "%%time\n",
    "irreducible_finding =[]\n",
    "n=10**5\n",
    "lower_range = 1000\n",
    "upper_range = 2000\n",
    "for q in q_list:\n",
    "    p=max(P.next(q), P.next(lower_range//q))    \n",
    "    while p * q < upper_range: \n",
    "        f=fekete(q,p)\n",
    "        irreducible_finding.append([q,p,finding_pair_q1_q2(f,n)])\n",
    "        p=P.next(p)              \n",
    "print(irreducible_finding)                           \n",
    "        "
   ]
  },
  {
   "cell_type": "code",
   "execution_count": 15,
   "metadata": {
    "collapsed": false
   },
   "outputs": [
    {
     "name": "stdout",
     "output_type": "stream",
     "text": [
      "[[13, 157, [2, 3449]], [13, 163, [2, 877]], [13, 167, [2, 16127]], [13, 173, [2, 277]], [13, 179, [2, 2801]], [13, 181, [2, 109]], [13, 191, [2, 16249]], [13, 193, [2, 3581]], [13, 197, [2, 1931]], [13, 199, [2, 7127]], [13, 211, [2, 23]], [13, 223, [2, 30137]], [13, 227, [2, 9511]], [13, 229, [2, 2789]], [17, 127, [3, 7019]], [17, 131, [2, 6247]], [17, 137, [3, 13121]], [17, 139, [2, 4337]], [17, 149, [2, 127]], [17, 151, [3, 4447]], [17, 157, [2, 6113]], [17, 163, [2, 4657]], [17, 167, [3, 1811]], [17, 173, [2, 1619]], [19, 107, [2, 439]], [19, 109, [2, 6221]], [19, 113, [2, 9091]], [19, 127, [2, 5737]], [19, 131, [2, 28081]], [19, 137, [2, 1709]], [19, 139, [2, 6997]], [19, 149, [2, 2887]], [19, 151, [2, 3919]], [19, 157, [2, 19163]], [23, 89, [3, 7]], [23, 97, [3, 7331]], [23, 101, [2, 21163]], [23, 103, [3, 359]], [23, 107, [2, 211]], [23, 109, [2, 19273]], [23, 113, [3, 2423]], [23, 127, [3, 52817]], [29, 71, [2, 4021]], [29, 73, [2, 18457]], [29, 79, [2, 3631]], [29, 83, [2, 1193]], [29, 89, [2, 93581]], [29, 97, [2, 2203]], [29, 101, [2, 11597]], [29, 103, [2, 1511]], [31, 67, [2, 23509]], [31, 71, [3, 9931]], [31, 73, [3, 5419]], [31, 79, [3, 163]], [31, 83, [2, 9011]], [31, 89, [3, 449]], [37, 59, [2, 151]], [37, 61, [2, 1759]], [37, 67, [2, 5791]], [37, 71, [2, 5003]], [37, 73, [2, 18553]], [37, 79, [2, 3779]], [41, 53, [2, 20333]], [41, 59, [2, 3187]], [41, 61, [2, 31]], [41, 67, [2, 83]], [41, 71, [5, 11719]], [41, 73, [3, 19391]], [43, 47, [2, 83]], [43, 53, [2, 14557]], [43, 59, [2, 37561]], [43, 61, [2, 1487]], [43, 67, [2, 6229]], [47, 53, [2, 8317]], [47, 59, [2, 859]], [47, 61, [2, 2971]]]\n",
      "CPU times: user 11h 37min 56s, sys: 1min 52s, total: 11h 39min 48s\n",
      "Wall time: 1d 11h 57min 47s\n"
     ]
    }
   ],
   "source": [
    "%%time\n",
    "irreducible_finding =[]\n",
    "n=10**5\n",
    "lower_range = 2000\n",
    "upper_range = 3000\n",
    "for q in q_list:\n",
    "    p=max(P.next(q), P.next(lower_range//q))    \n",
    "    while p * q < upper_range: \n",
    "        f=fekete(q,p)\n",
    "        irreducible_finding.append([q,p,finding_pair_q1_q2(f,n)])\n",
    "        p=P.next(p)              \n",
    "print(irreducible_finding)                           \n",
    "        "
   ]
  },
  {
   "cell_type": "code",
   "execution_count": 16,
   "metadata": {
    "collapsed": false
   },
   "outputs": [
    {
     "name": "stdout",
     "output_type": "stream",
     "text": [
      "[[13, 233, [2, 9521]], [13, 239, [2, 4003]], [13, 241, [2, 7607]], [13, 251, [2, 4357]], [13, 257, [2, 9907]], [13, 263, [2, 18233]], [13, 269, [2, 10973]], [13, 271, [2, 35797]], [13, 277, [2, 3323]], [13, 281, [2, 14321]], [13, 283, [2, 2069]], [13, 293, [2, 16067]], [13, 307, [2, 1259]], [17, 179, [2, 36767]], [17, 181, [2, 2437]], [17, 191, [3, 3919]], [17, 193, [3, 151]], [17, 197, [2, 9649]], [17, 199, [3, 21001]], [17, 211, [2, 7699]], [17, 223, [3, 3137]], [17, 227, [2, 24121]], [17, 229, [2, 12377]], [17, 233, [3, 20327]], [19, 163, [2, 8017]], [19, 167, [2, 1889]], [19, 173, [2, 19427]], [19, 179, [2, 18451]], [19, 181, [2, 2699]], [19, 191, [3, 3187]], [19, 193, [2, 33809]], [19, 197, [2, 1571]], [19, 199, [2, 9013]], [23, 131, [2, 20341]], [23, 137, [3, 31]], [23, 139, [2, 7309]], [23, 149, [2, 19583]], [23, 151, [3, 313]], [23, 157, [2, 9133]], [23, 163, [2, 18077]], [23, 167, [5, 33893]], [23, 173, [2, 13381]], [29, 107, [2, 33161]], [29, 109, [2, 7477]], [29, 113, [2, 4049]], [29, 127, [2, 26539]], [29, 131, [2, 28289]], [29, 137, [2, 5519]], [31, 97, [3, 27527]], [31, 101, [2, 49277]], [31, 103, [3, 617]], [31, 107, [2, 13693]], [31, 109, [2, 18917]], [31, 113, [3, 1613]], [31, 127, [3, 16301]], [37, 83, [2, 18743]], [37, 89, [2, 12109]], [37, 97, [2, 42853]], [37, 101, [2, 10487]], [37, 103, [2, 19013]], [37, 107, [2, 10597]], [41, 79, [3, 9473]], [41, 83, [2, 6323]], [41, 89, [3, 14057]], [41, 97, [3, 91541]], [43, 71, [2, 107]], [43, 73, [2, 89]], [43, 79, [2, 19009]], [43, 83, [2, 4019]], [43, 89, [2, 7727]], [47, 67, [2, -1]], [47, 71, [3, 37]], [47, 73, [3, 10457]], [47, 79, [3, 5113]], [47, 83, [2, 3919]], [53, 59, [2, 14303]], [53, 61, [2, 1913]], [53, 67, [2, 4507]], [53, 71, [2, 14479]], [53, 73, [2, 2803]], [59, 61, [2, 9397]], [59, 67, [2, 11483]]]\n",
      "CPU times: user 1d 16h 37min 43s, sys: 7min 15s, total: 1d 16h 44min 58s\n",
      "Wall time: 5d 2h 5min 36s\n"
     ]
    }
   ],
   "source": [
    "%%time\n",
    "irreducible_finding =[]\n",
    "n=10**5\n",
    "lower_range = 3000\n",
    "upper_range = 4000\n",
    "for q in q_list:\n",
    "    p=max(P.next(q), P.next(lower_range//q))    \n",
    "    while p * q < upper_range: \n",
    "        f=fekete(q,p)\n",
    "        irreducible_finding.append([q,p,finding_pair_q1_q2(f,n)])\n",
    "        p=P.next(p)              \n",
    "print(irreducible_finding)                           \n",
    "        "
   ]
  },
  {
   "cell_type": "code",
   "execution_count": 17,
   "metadata": {
    "collapsed": false
   },
   "outputs": [
    {
     "name": "stdout",
     "output_type": "stream",
     "text": [
      "[[13, 311, [2, 14951]], [13, 313, [3, 7489]], [13, 317, [2, 44017]], [13, 331, [2, 53923]], [13, 337, [2, 42461]], [17, 239, [3, 1493]], [17, 241, [3, 26801]], [17, 251, [2, 66413]], [17, 257, [3, 15131]], [17, 263, [3, 2129]], [19, 211, [2, 263]], [19, 223, [2, 4001]], [19, 227, [2, 30347]], [19, 229, [2, 10753]], [19, 233, [2, 1777]], [23, 179, [2, 15641]], [23, 181, [2, 9769]], [23, 191, [3, 21617]], [23, 193, [3, 1493]], [29, 139, [2, 33713]], [29, 149, [2, 7963]], [29, 151, [2, 10193]], [31, 131, [2, 11633]], [31, 137, [3, 21683]], [31, 139, [2, 36997]], [37, 109, [3, 20809]], [37, 113, [2, 8081]], [41, 101, [2, 4801]], [41, 103, [3, 53]], [41, 107, [2, 11579]], [41, 109, [2, 2069]], [43, 97, [2, 16381]], [43, 101, [2, 26111]], [43, 103, [2, 33181]], [47, 89, [3, 47293]], [53, 79, [2, 23087]], [53, 83, [2, 6833]], [59, 71, [2, 25561]], [59, 73, [2, 12239]], [61, 67, [2, 5897]], [61, 71, [2, 503]], [61, 73, [2, 8387]]]\n",
      "CPU times: user 1d 14h 1min 58s, sys: 6min 18s, total: 1d 14h 8min 17s\n",
      "Wall time: 4d 18h 37min 3s\n"
     ]
    }
   ],
   "source": [
    "%%time\n",
    "irreducible_finding =[]\n",
    "n=10**5\n",
    "lower_range = 4000\n",
    "upper_range = 4500\n",
    "for q in q_list:\n",
    "    p=max(P.next(q), P.next(lower_range//q))    \n",
    "    while p * q < upper_range: \n",
    "        f=fekete(q,p)\n",
    "        irreducible_finding.append([q,p,finding_pair_q1_q2(f,n)])\n",
    "        p=P.next(p)              \n",
    "print(irreducible_finding)                           \n",
    "        "
   ]
  },
  {
   "cell_type": "code",
   "execution_count": 18,
   "metadata": {
    "collapsed": false
   },
   "outputs": [
    {
     "name": "stdout",
     "output_type": "stream",
     "text": [
      "[[13, 347, [2, 8887]], [13, 349, [2, 39569]], [13, 353, [2, 13597]], [13, 359, [2, 28603]], [13, 367, [2, 4157]], [13, 373, [2, 25073]], [13, 379, [2, 1481]], [13, 383, [2, 6577]], [17, 269, [2, 5303]], [17, 271, [3, 5113]], [17, 277, [2, 28297]], [17, 281, [3, 8447]], [17, 283, [2, 18211]], [17, 293, [2, 25391]], [19, 239, [2, 11071]], [19, 241, [2, 16091]], [19, 251, [2, 66533]], [19, 257, [2, 51383]], [19, 263, [2, 2671]], [23, 197, [2, 7549]], [23, 199, [3, 1697]], [23, 211, [2, 34781]], [29, 157, [2, 797]], [29, 163, [2, 5521]], [29, 167, [2, 4283]], [31, 149, [2, 56681]], [31, 151, [3, 23473]], [31, 157, [2, 18257]], [37, 127, [2, 9533]], [37, 131, [2, 829]], [41, 113, [3, 39901]], [43, 107, [2, 8513]], [43, 109, [2, 26119]], [43, 113, [2, 17923]], [47, 97, [3, 31063]], [47, 101, [2, 1889]], [47, 103, [3, 50587]], [53, 89, [2, 1741]], [59, 79, [2, 40559]], [59, 83, [2, 23321]], [61, 79, [2, 41911]], [67, 71, [2, 52237]], [67, 73, [2, 6121]]]\n",
      "CPU times: user 2d 6h 33min 3s, sys: 9min 4s, total: 2d 6h 42min 7s\n",
      "Wall time: 6d 2h 54min 52s\n"
     ]
    }
   ],
   "source": [
    "%%time\n",
    "irreducible_finding =[]\n",
    "n=10**5\n",
    "lower_range = 4500\n",
    "upper_range = 5000\n",
    "for q in q_list:\n",
    "    p=max(P.next(q), P.next(lower_range//q))    \n",
    "    while p * q < upper_range: \n",
    "        f=fekete(q,p)\n",
    "        irreducible_finding.append([q,p,finding_pair_q1_q2(f,n)])\n",
    "        p=P.next(p)              \n",
    "print(irreducible_finding)                           \n",
    "        "
   ]
  },
  {
   "cell_type": "code",
   "execution_count": 19,
   "metadata": {
    "collapsed": false
   },
   "outputs": [
    {
     "name": "stdout",
     "output_type": "stream",
     "text": [
      "[[13, 389, [2, 23753]], [13, 397, [2, 12421]], [13, 401, [2, 33619]], [13, 409, [2, 25447]], [13, 419, [2, 3989]], [13, 421, [2, 10433]], [17, 307, [2, 4691]], [17, 311, [3, 10303]], [17, 313, [3, 35831]], [17, 317, [2, 229]], [19, 269, [2, 1669]], [19, 271, [2, 21557]], [19, 277, [2, 8089]], [19, 281, [2, 3677]], [19, 283, [2, 11027]], [23, 223, [3, 2549]], [23, 227, [2, 19183]], [23, 229, [2, 5407]], [23, 233, [3, 7577]], [23, 239, [3, 31259]], [29, 173, [2, 1087]], [29, 179, [2, 5839]], [29, 181, [2, 5557]], [31, 163, [2, 32713]], [31, 167, [3, 6691]], [31, 173, [2, 19387]], [37, 137, [2, 7019]], [37, 139, [2, 14071]], [41, 127, [3, 35747]], [41, 131, [2, 15187]], [43, 127, [2, 80599]], [47, 107, [2, 6719]], [47, 109, [2, 43691]], [47, 113, [3, 61583]], [53, 97, [2, 10009]], [53, 101, [2, 5309]], [53, 103, [2, 20411]], [59, 89, [2, 859]], [61, 83, [2, 7757]], [61, 89, [2, 1213]], [67, 79, [2, 55807]], [71, 73, [3, 10987]]]\n",
      "CPU times: user 2d 4h 37min 7s, sys: 8min 17s, total: 2d 4h 45min 24s\n",
      "Wall time: 4d 13h 33min 24s\n"
     ]
    }
   ],
   "source": [
    "%%time\n",
    "irreducible_finding =[]\n",
    "n=10**5\n",
    "lower_range = 5000\n",
    "upper_range = 5500\n",
    "for q in q_list:\n",
    "    p=max(P.next(q), P.next(lower_range//q))    \n",
    "    while p * q < upper_range: \n",
    "        f=fekete(q,p)\n",
    "        irreducible_finding.append([q,p,finding_pair_q1_q2(f,n)])\n",
    "        p=P.next(p)              \n",
    "print(irreducible_finding)                           \n",
    "        "
   ]
  },
  {
   "cell_type": "code",
   "execution_count": 20,
   "metadata": {
    "collapsed": false
   },
   "outputs": [
    {
     "name": "stdout",
     "output_type": "stream",
     "text": [
      "[[13, 431, [2, 30517]], [13, 433, [2, 2617]], [13, 439, [2, 4229]], [13, 443, [2, 65867]], [13, 449, [2, 4273]], [13, 457, [2, 4337]], [13, 461, [2, 27281]], [17, 331, [2, 22189]], [17, 337, [3, 22013]], [17, 347, [2, 26759]], [17, 349, [2, 45053]], [19, 293, [2, 19501]], [19, 307, [2, 42013]], [19, 311, [2, 39443]], [19, 313, [2, 23567]], [23, 241, [3, 13469]], [23, 251, [2, 8941]], [23, 257, [3, 37879]], [29, 191, [2, 3947]], [29, 193, [2, 7829]], [29, 197, [2, 36583]], [29, 199, [2, 17497]], [31, 179, [2, 9173]], [31, 181, [2, 21283]], [31, 191, [3, 1021]], [31, 193, [3, 1151]], [37, 149, [2, 8627]], [37, 151, [2, 2593]], [37, 157, [2, 6101]], [41, 137, [3, 14011]], [41, 139, [2, 8863]], [43, 131, [2, 6473]], [43, 137, [2, 373]], [43, 139, [2, 5099]], [47, 127, [3, 1823]], [53, 107, [2, 13721]], [53, 109, [2, 4391]], [53, 113, [2, 9941]], [59, 97, [2, 18757]], [59, 101, [2, 41897]], [61, 97, [2, 25939]], [67, 83, [2, 18211]], [67, 89, [2, -1]], [71, 79, [3, 16603]], [71, 83, [2, 55663]], [73, 79, [3, 13597]]]\n",
      "CPU times: user 3d 1h 55min 6s, sys: 9min 38s, total: 3d 2h 4min 45s\n",
      "Wall time: 4d 10h 48min 38s\n"
     ]
    }
   ],
   "source": [
    "%%time\n",
    "irreducible_finding =[]\n",
    "n=10**5\n",
    "lower_range = 5500\n",
    "upper_range = 6000\n",
    "for q in q_list:\n",
    "    p=max(P.next(q), P.next(lower_range//q))    \n",
    "    while p * q < upper_range: \n",
    "        f=fekete(q,p)\n",
    "        irreducible_finding.append([q,p,finding_pair_q1_q2(f,n)])\n",
    "        p=P.next(p)              \n",
    "print(irreducible_finding)                           \n",
    "        "
   ]
  },
  {
   "cell_type": "code",
   "execution_count": 4,
   "metadata": {
    "collapsed": false
   },
   "outputs": [
    {
     "name": "stdout",
     "output_type": "stream",
     "text": [
      "[[13, 463, [2, 1217]], [13, 467, [2, 15661]], [17, 353, [3, 439]], [17, 359, [3, 5009]], [19, 317, [2, 5563]], [23, 263, [3, 16603]], [23, 269, [2, 23131]], [29, 211, [2, 34213]], [31, 197, [2, 20549]], [31, 199, [3, 27737]], [37, 163, [2, 6857]], [37, 167, [2, 7433]], [41, 149, [2, 3]], [41, 151, [3, 61381]], [47, 131, [2, 20899]], [59, 103, [2, 20549]], [61, 101, [2, 4091]], [73, 83, [2, 18121]]]\n",
      "CPU times: user 1d 55min 30s, sys: 2min 24s, total: 1d 57min 55s\n",
      "Wall time: 1d 1h 41min 37s\n"
     ]
    }
   ],
   "source": [
    "%%time\n",
    "irreducible_finding =[]\n",
    "n=10**5\n",
    "lower_range = 6000\n",
    "upper_range = 6200\n",
    "for q in q_list:\n",
    "    p=max(P.next(q), P.next(lower_range//q))    \n",
    "    while p * q < upper_range: \n",
    "        f=fekete(q,p)\n",
    "        irreducible_finding.append([q,p,finding_pair_q1_q2(f,n)])\n",
    "        p=P.next(p)              \n",
    "print(irreducible_finding)                           \n",
    "        "
   ]
  },
  {
   "cell_type": "code",
   "execution_count": 5,
   "metadata": {
    "collapsed": false
   },
   "outputs": [
    {
     "name": "stdout",
     "output_type": "stream",
     "text": [
      "[[13, 479, [2, 14087]], [13, 487, [2, 4441]], [13, 491, [2, 37277]], [17, 367, [3, 20261]], [17, 373, [2, 20101]], [19, 331, [2, 29243]], [23, 271, [3, 8783]], [23, 277, [2, 7589]], [59, 107, [2, 2621]], [61, 103, [2, 39323]], [71, 89, [3, 15737]]]\n",
      "CPU times: user 19h 8min 54s, sys: 2min 43s, total: 19h 11min 38s\n",
      "Wall time: 20h 34min 54s\n"
     ]
    }
   ],
   "source": [
    "%%time\n",
    "irreducible_finding =[]\n",
    "n=10**5\n",
    "lower_range = 6200\n",
    "upper_range = 6400\n",
    "for q in q_list:\n",
    "    p=max(P.next(q), P.next(lower_range//q))    \n",
    "    while p * q < upper_range: \n",
    "        f=fekete(q,p)\n",
    "        irreducible_finding.append([q,p,finding_pair_q1_q2(f,n)])\n",
    "        p=P.next(p)              \n",
    "print(irreducible_finding)                           \n",
    "        "
   ]
  },
  {
   "cell_type": "code",
   "execution_count": 7,
   "metadata": {
    "collapsed": false
   },
   "outputs": [
    {
     "name": "stdout",
     "output_type": "stream",
     "text": [
      "[[13, 499, [2, 41539]], [13, 503, [2, 113]], [17, 379, [2, 69809]], [17, 383, [5, 4639]], [19, 337, [2, 197]], [19, 347, [2, 43151]], [23, 281, [3, 25873]], [23, 283, [2, 3931]], [29, 223, [2, 16943]], [29, 227, [2, 73589]], [31, 211, [2, 54347]], [37, 173, [2, 49787]], [41, 157, [2, 7129]], [43, 149, [2, 23869]], [43, 151, [2, 131]], [47, 137, [3, 30269]], [47, 139, [2, 18541]], [59, 109, [2, 11087]], [61, 107, [2, 31469]], [67, 97, [2, 45523]], [73, 89, [3, 21187]], [79, 83, [2, 27967]]]\n",
      "CPU times: user 2d 16h 25min 2s, sys: 8min 10s, total: 2d 16h 33min 12s\n",
      "Wall time: 2d 23h 18min 47s\n"
     ]
    }
   ],
   "source": [
    "%%time\n",
    "irreducible_finding =[]\n",
    "n=10**5\n",
    "lower_range = 6400\n",
    "upper_range = 6600\n",
    "for q in q_list:\n",
    "    p=max(P.next(q), P.next(lower_range//q))    \n",
    "    while p * q < upper_range: \n",
    "        f=fekete(q,p)\n",
    "        irreducible_finding.append([q,p,finding_pair_q1_q2(f,n)])\n",
    "        p=P.next(p)              \n",
    "print(irreducible_finding)                           \n",
    "        "
   ]
  },
  {
   "cell_type": "code",
   "execution_count": 8,
   "metadata": {
    "collapsed": false
   },
   "outputs": [
    {
     "name": "stdout",
     "output_type": "stream",
     "text": [
      "[[13, 509, [2, 9343]], [13, 521, [3, 6211]], [13, 523, [2, 36161]], [17, 389, [2, 3389]], [17, 397, [2, 72679]], [19, 349, [2, 4549]], [19, 353, [2, 20879]], [23, 293, [2, 61979]], [29, 229, [2, 1931]], [29, 233, [3, 3677]], [37, 179, [2, 26437]], [37, 181, [2, 53857]], [41, 163, [2, 38447]], [43, 157, [2, 4289]], [53, 127, [2, 93889]], [59, 113, [2, 7639]], [61, 109, [2, 2777]], [67, 101, [2, 37273]]]\n",
      "CPU times: user 2d 6h 27min, sys: 5min 7s, total: 2d 6h 32min 7s\n",
      "Wall time: 2d 10h 51min 53s\n"
     ]
    }
   ],
   "source": [
    "%%time\n",
    "irreducible_finding =[]\n",
    "n=10**5\n",
    "lower_range = 6600\n",
    "upper_range = 6800\n",
    "for q in q_list:\n",
    "    p=max(P.next(q), P.next(lower_range//q))    \n",
    "    while p * q < upper_range: \n",
    "        f=fekete(q,p)\n",
    "        irreducible_finding.append([q,p,finding_pair_q1_q2(f,n)])\n",
    "        p=P.next(p)              \n",
    "print(irreducible_finding)                           \n",
    "        "
   ]
  },
  {
   "cell_type": "code",
   "execution_count": 9,
   "metadata": {
    "collapsed": false
   },
   "outputs": [
    {
     "name": "stdout",
     "output_type": "stream",
     "text": [
      "[[17, 401, [3, 2381]], [17, 409, [3, 27697]], [19, 359, [2, 6337]], [19, 367, [2, 10627]], [29, 239, [2, 49807]], [29, 241, [2, 21467]], [31, 223, [3, 10133]], [41, 167, [3, 2437]], [53, 131, [2, 35591]], [61, 113, [2, 38711]], [67, 103, [2, 32203]], [71, 97, [3, 93809]]]\n",
      "CPU times: user 1d 13h 46min 23s, sys: 3min 10s, total: 1d 13h 49min 34s\n",
      "Wall time: 1d 15h 13min 2s\n"
     ]
    }
   ],
   "source": [
    "%%time\n",
    "irreducible_finding =[]\n",
    "n=10**5\n",
    "lower_range = 6800\n",
    "upper_range = 7000\n",
    "for q in q_list:\n",
    "    p=max(P.next(q), P.next(lower_range//q))    \n",
    "    while p * q < upper_range: \n",
    "        f=fekete(q,p)\n",
    "        irreducible_finding.append([q,p,finding_pair_q1_q2(f,n)])\n",
    "        p=P.next(p)              \n",
    "print(irreducible_finding)                           \n",
    "        "
   ]
  },
  {
   "cell_type": "code",
   "execution_count": 10,
   "metadata": {
    "collapsed": false
   },
   "outputs": [
    {
     "name": "stdout",
     "output_type": "stream",
     "text": [
      "[[13, 541, [2, 6719]], [13, 547, [2, 5]], [17, 419, [2, 22129]], [17, 421, [2, 6833]], [19, 373, [2, 4649]], [23, 307, [2, 13093]], [23, 311, [3, 72431]], [23, 313, [3, 6619]], [31, 227, [2, 25667]], [31, 229, [2, 9721]], [37, 191, [2, 11243]], [37, 193, [2, 54377]], [41, 173, [2, 4201]], [43, 163, [2, 13901]], [43, 167, [2, 4211]], [47, 149, [2, 19441]], [47, 151, [3, 5783]], [67, 107, [2, 39863]], [71, 101, [2, 21179]], [73, 97, [3, 54001]], [79, 89, [3, 727]]]\n",
      "CPU times: user 2d 2h 7min 34s, sys: 5min 23s, total: 2d 2h 12min 58s\n",
      "Wall time: 2d 4h 11min 10s\n"
     ]
    }
   ],
   "source": [
    "%%time\n",
    "irreducible_finding =[]\n",
    "n=10**5\n",
    "lower_range = 7000\n",
    "upper_range = 7200\n",
    "for q in q_list:\n",
    "    p=max(P.next(q), P.next(lower_range//q))    \n",
    "    while p * q < upper_range: \n",
    "        f=fekete(q,p)\n",
    "        irreducible_finding.append([q,p,finding_pair_q1_q2(f,n)])\n",
    "        p=P.next(p)              \n",
    "print(irreducible_finding)                           \n",
    "        "
   ]
  },
  {
   "cell_type": "markdown",
   "metadata": {
    "collapsed": false
   },
   "source": [
    "We observe that in the above data, the case $(p,q)=(67, 47)$ could not find the prime $q_1$ such that $g_{pq}$ is irreducible.  It turns out that we need to search further. In the following line of code, we look for all $q_1 \\leq 2 \\times 10^5$. "
   ]
  },
  {
   "cell_type": "code",
   "execution_count": 6,
   "metadata": {
    "collapsed": false
   },
   "outputs": [
    {
     "data": {
      "text/plain": [
       "103409"
      ]
     },
     "execution_count": 6,
     "metadata": {
     },
     "output_type": "execute_result"
    }
   ],
   "source": [
    "p= 47 \n",
    "q= 67 \n",
    "f = fekete(q,p)\n",
    "g= reduced_fekete(f)\n",
    "m = 10**5\n",
    "n= 2*10**5\n",
    "irreducible_2(g,m,n)\n"
   ]
  },
  {
   "cell_type": "markdown",
   "metadata": {
    "collapsed": false
   },
   "source": [
    "We can do the same for the pair $(p,q) = (89, 67)$"
   ]
  },
  {
   "cell_type": "code",
   "execution_count": 7,
   "metadata": {
    "collapsed": false
   },
   "outputs": [
    {
     "data": {
      "text/plain": [
       "102551"
      ]
     },
     "execution_count": 7,
     "metadata": {
     },
     "output_type": "execute_result"
    }
   ],
   "source": [
    "p= 89\n",
    "q= 67 \n",
    "f = fekete(q,p)\n",
    "g= reduced_fekete(f)\n",
    "m = 10**5\n",
    "n= 2*10**5\n",
    "irreducible_2(g,m,n)\n"
   ]
  },
  {
   "cell_type": "code",
   "execution_count": 0,
   "metadata": {
    "collapsed": false
   },
   "outputs": [
   ],
   "source": [
   ]
  }
 ],
 "metadata": {
  "kernelspec": {
   "argv": [
    "sage-9.4",
    "--python",
    "-m",
    "sage.repl.ipython_kernel",
    "--matplotlib=inline",
    "-f",
    "{connection_file}"
   ],
   "display_name": "SageMath 9.4",
   "env": {
   },
   "language": "sagemath",
   "metadata": {
    "cocalc": {
     "description": "Open-source mathematical software system",
     "priority": 1,
     "url": "https://www.sagemath.org/"
    }
   },
   "name": "sage-9.4",
   "resource_dir": "/ext/jupyter/kernels/sage-9.4"
  },
  "language_info": {
   "codemirror_mode": {
    "name": "ipython",
    "version": 3
   },
   "file_extension": ".py",
   "mimetype": "text/x-python",
   "name": "python",
   "nbconvert_exporter": "python",
   "pygments_lexer": "ipython3",
   "version": "3.9.5"
  }
 },
 "nbformat": 4,
 "nbformat_minor": 4
}