{
 "cells": [
  {
   "cell_type": "code",
   "execution_count": 1,
   "metadata": {
    "collapsed": false
   },
   "outputs": [
   ],
   "source": [
    "K.<a> = NumberField(x - 1)\n",
    "from sage.rings.polynomial.cyclotomic import cyclotomic_coeffs\n",
    "S = ZZ['x']\n",
    "K.<w> = NumberField(x^2 - x + 1)\n",
    "R.<x> = PolynomialRing(ZZ)\n",
    "\n",
    "\n",
    "\n",
    "def is_relatively_prime(m,n):\n",
    "    if gcd(m,n) ==1:\n",
    "        return 1\n",
    "    else:\n",
    "        return 0 \n",
    "    \n",
    "def raw_fekete(n):\n",
    "    \"Fekete polynomial with Delta odd \"\n",
    "    D=n\n",
    "    v=[is_relatively_prime(a+1,n) for a in range(0,D-1)]\n",
    "    F_D=R(v)\n",
    "    return F_D*x  \n",
    "\n",
    "def fekete_by_last_factor(n):\n",
    "    F=raw_fekete(n)\n",
    "    f = F.factor()[-1][0]\n",
    "    return f\n",
    "\n",
    "def divisor_set_general(q,p):\n",
    "    divisor = set()\n",
    "    for d in range(2, q):\n",
    "        if q%d ==1:\n",
    "            divisor.add(d)\n",
    "    for d in range(2,p):\n",
    "        if p%d==1 and d !=q:\n",
    "            divisor.add(d)\n",
    "    for d in range(2,p+q+1):\n",
    "        if (q*p+1)%d==0 and (p+q)%d==0:\n",
    "            divisor.add(d)\n",
    "    return divisor \n",
    "   \n",
    "    \n",
    "def cyclotomic_factor(q,p):\n",
    "    \"\"\"\n",
    "    return the cyclotmic factor of F_{qp}\n",
    "    \"\"\"\n",
    "    cyc_factor =x\n",
    "    divisor_set = divisor_set_general(q,p)\n",
    "    for d in divisor_set:\n",
    "        cyc_factor *=S(cyclotomic_coeffs(d))\n",
    "    return cyc_factor\n",
    "\n",
    "\n",
    "def fekete(q,p):\n",
    "    n=p*q\n",
    "    cyc_factor = cyclotomic_factor(q,p)\n",
    "    F= raw_fekete(n)\n",
    "    f,r =F.quo_rem(cyc_factor) \n",
    "    return f \n",
    "\n",
    "\n",
    "def reduced_fekete(f):\n",
    "    u=f.trace_polynomial()\n",
    "    g_D=u[0]\n",
    "    return g_D\n",
    "\n",
    "def fekete_reduction(f, q):\n",
    "    f=f.change_ring(GF(q))\n",
    "    return f.factor()        \n",
    "\n",
    "\n",
    "def two_four_cycle(f,q):\n",
    "    factor = fekete_reduction(f,q)\n",
    "    number_of_factor = len(factor)\n",
    "    #check that f is separable modulo q\n",
    "    for i in range(number_of_factor):\n",
    "        if factor[i][1] >1:\n",
    "            return False\n",
    "    number_two_cycle =0 \n",
    "    number_four_cycle =0 \n",
    "    number_even_cycle =0\n",
    "    for i in range(number_of_factor):\n",
    "        if factor[i][0].degree() ==2:\n",
    "            number_two_cycle +=1\n",
    "        if factor[i][0].degree() == 4:\n",
    "            number_four_cycle +=1 \n",
    "        if factor[i][0].degree() % 2 ==0:\n",
    "            number_even_cycle +=1\n",
    "    if number_two_cycle ==1 and number_four_cycle ==1 and number_even_cycle ==2:\n",
    "        return True\n",
    "    return False\n",
    "            \n",
    "    \n",
    "def search_two_four_cycle(f,n):\n",
    "    for q in range(n):\n",
    "        if is_prime(q):\n",
    "            if two_four_cycle(f,q):\n",
    "                return q\n",
    "    return -1 \n",
    "\n",
    "def search_two_four_cycle_2(f,m,n):\n",
    "    for q in range(m,n):\n",
    "        if is_prime(q):\n",
    "            if two_four_cycle(f,q):\n",
    "                return q\n",
    "    return -1 \n",
    "\n",
    "\n",
    "\n",
    "def almost_cycle(f,n):\n",
    "    for q in range(n):\n",
    "        if is_prime(q): \n",
    "            factor=fekete_reduction(f,q)\n",
    "            if len(factor)==3: \n",
    "                factor1=factor[0][0]\n",
    "                factor2=factor[1][0]\n",
    "                degree1=factor1.degree()\n",
    "                degree2=factor2.degree()\n",
    "                if degree1==1 and degree2==1 and factor[0][1]==1 and factor[1][1]==1 and factor[2][1]==1: \n",
    "                    return q\n",
    "    return  -1         \n",
    "                \n",
    "def irreducible(f,n):\n",
    "    for q in range(n):\n",
    "        if is_prime(q): \n",
    "            factor=fekete_reduction(f,q)\n",
    "            if len(factor)==1 and factor[0][1]==1:\n",
    "                    return q\n",
    "    return  -1         \n",
    "                \n",
    "       \n",
    "    \n",
    "def length_test_2(v):\n",
    "    #count the number of even entries in v\n",
    "    count2=0\n",
    "    for item in v:\n",
    "        if item==2:\n",
    "            count2 +=1\n",
    "    count_even=0     \n",
    "    for item in v:        \n",
    "        if item %2 ==0:\n",
    "            count_even +=1\n",
    "    if count2==count_even==1:\n",
    "        return True\n",
    "    return False    \n",
    "\n",
    "def length_test_4(v):\n",
    "    #count the number of even entries in v\n",
    "    count4=0\n",
    "    for item in v:\n",
    "        if item==4:\n",
    "            count4 +=1\n",
    "    count_even=0     \n",
    "    for item in v:        \n",
    "        if item %2 ==0:\n",
    "            count_even +=1\n",
    "    if count4==count_even==1:\n",
    "        return True\n",
    "    return False    \n",
    "\n",
    "    \n",
    "def two_cycle(f,n):\n",
    "    result=[]\n",
    "    for q in range(n):\n",
    "        v=[]\n",
    "        if is_prime(q):\n",
    "            factor=fekete_reduction(f,q)\n",
    "            for item in factor:\n",
    "                v.append(item[0].degree())\n",
    "        if sum(v)==f.degree() and length_test_2(v):\n",
    "            return q\n",
    "    return -1    \n",
    "\n",
    "def two_cycle_2(f,m,n):\n",
    "    result=[]\n",
    "    for q in range(m,n):\n",
    "        v=[]\n",
    "        if is_prime(q):\n",
    "            factor=fekete_reduction(f,q)\n",
    "            for item in factor:\n",
    "                v.append(item[0].degree())\n",
    "        if sum(v)==f.degree() and length_test_2(v):\n",
    "            return q\n",
    "    return -1 \n",
    "\n",
    "def four_cycle(f,n):\n",
    "    result=[]\n",
    "    for q in range(n):\n",
    "        v=[]\n",
    "        if is_prime(q):\n",
    "            factor=fekete_reduction(f,q)\n",
    "            for item in factor:\n",
    "                v.append(item[0].degree())\n",
    "        if sum(v)==f.degree() and length_test_4(v):\n",
    "            return q\n",
    "    return -1  \n",
    "\n",
    "def cycle(g,n):\n",
    "    for q in range(n):\n",
    "        if is_prime(q): \n",
    "            factor=fekete_reduction(g,q)\n",
    "            if len(factor)==2: \n",
    "                factor1=factor[0][0]\n",
    "                coef=factor1.degree()\n",
    "                if coef==1 and factor[0][1]==1 and factor[1][1]==1: \n",
    "                                   return q\n",
    "    return  -1   \n",
    "                    \n",
    "\n",
    "                    \n",
    "def search_quadruple(f,n):\n",
    "    irr=irreducible(f,n)\n",
    "    print(f\"f is irreducible at q= \", irr)\n",
    "    q_cycle=almost_cycle(f,n)\n",
    "    print(f\"f has an (2m-2) cycle at q=\", q_cycle)\n",
    "    q_tranposition=two_cycle(f,n)\n",
    "    print(f\"f has an 2-cycle at q=\", q_tranposition)\n",
    "    q_four_cycle=four_cycle(f,n)\n",
    "    print(f\"f has an 4-cycle at q=\", q_four_cycle)\n",
    "    \n",
    "\n",
    "def quadruple(f,n):\n",
    "    irr=irreducible(f,n)\n",
    "    q_cycle=almost_cycle(f,n)\n",
    "    q_tranposition=two_cycle(f,n)\n",
    "    q_four_cycle=four_cycle(f,n)\n",
    "    result=(irr, q_cycle, q_tranposition, q_four_cycle)\n",
    "    return result\n",
    "    \n",
    "    \n",
    "def triple(g,n):\n",
    "    irr=irreducible(g,n)\n",
    "    q_cycle=cycle(g,n)\n",
    "    q_tranposition=two_cycle(g,n)\n",
    "    result=[irr, q_cycle, q_tranposition]\n",
    "    return result"
   ]
  },
  {
   "cell_type": "markdown",
   "metadata": {
    "collapsed": false
   },
   "source": [
    "As usual, we test the above code with a concrete example."
   ]
  },
  {
   "cell_type": "code",
   "execution_count": 8,
   "metadata": {
    "collapsed": false
   },
   "outputs": [
    {
     "name": "stdout",
     "output_type": "stream",
     "text": [
      "x^76 + x^75 + x^74 + x^73 + x^72 + x^71 + x^69 + x^68 + x^67 + x^65 + x^64 + x^62 + x^61 + x^60 + x^59 + x^58 + x^57 + x^54 + x^53 + x^52 + x^51 + x^50 + x^48 + x^47 + x^46 + x^45 + x^43 + x^41 + x^40 + x^39 + x^38 + x^37 + x^36 + x^34 + x^32 + x^31 + x^30 + x^29 + x^27 + x^26 + x^25 + x^24 + x^23 + x^20 + x^19 + x^18 + x^17 + x^16 + x^15 + x^13 + x^12 + x^10 + x^9 + x^8 + x^6 + x^5 + x^4 + x^3 + x^2 + x\n"
     ]
    }
   ],
   "source": [
    "q=7\n",
    "p=11\n",
    "n=q*p\n",
    "F=raw_fekete(n)\n",
    "print(F)"
   ]
  },
  {
   "cell_type": "code",
   "execution_count": 9,
   "metadata": {
    "collapsed": false
   },
   "outputs": [
    {
     "name": "stdout",
     "output_type": "stream",
     "text": [
      "x^62 - x^60 + x^55 - x^53 + x^51 - x^49 + x^48 - 2*x^46 + 2*x^45 + x^44 - 2*x^43 + x^41 + x^38 - x^37 - 2*x^36 + x^35 + 2*x^34 - x^32 - x^30 + 2*x^28 + x^27 - 2*x^26 - x^25 + x^24 + x^21 - 2*x^19 + x^18 + 2*x^17 - 2*x^16 + x^14 - x^13 + x^11 - x^9 + x^7 - x^2 + 1\n"
     ]
    }
   ],
   "source": [
    "f=fekete(q,p)\n",
    "print(f)"
   ]
  },
  {
   "cell_type": "code",
   "execution_count": 10,
   "metadata": {
    "collapsed": false
   },
   "outputs": [
    {
     "name": "stdout",
     "output_type": "stream",
     "text": [
      "x^31 - 32*x^29 + 463*x^27 - 4004*x^25 + x^24 + 23050*x^23 - 25*x^22 - 93104*x^21 + 275*x^20 + 270963*x^19 - 1750*x^18 - 574331*x^17 + 7124*x^16 + 885647*x^15 - 19361*x^14 - 981770*x^13 + 35551*x^12 + 763583*x^11 - 43579*x^10 - 399786*x^9 + 34277*x^8 + 131307*x^7 - 15907*x^6 - 23669*x^5 + 3646*x^4 + 1706*x^3 - 264*x^2 - 24*x + 2\n"
     ]
    }
   ],
   "source": [
    "g=reduced_fekete(f)\n",
    "print(g)"
   ]
  },
  {
   "cell_type": "code",
   "execution_count": 11,
   "metadata": {
    "collapsed": false
   },
   "outputs": [
    {
     "data": {
      "text/plain": [
       "x^31 + 6*x^29 + 7*x^27 + 5*x^25 + x^24 + 3*x^23 + 13*x^22 + 15*x^21 + 9*x^20 + 4*x^19 + 17*x^18 + x^17 + 18*x^16 + 17*x^13 + 2*x^12 + 11*x^11 + 7*x^10 + 12*x^9 + x^8 + 17*x^7 + 15*x^6 + 5*x^5 + 17*x^4 + 15*x^3 + 2*x^2 + 14*x + 2"
      ]
     },
     "execution_count": 11,
     "metadata": {
     },
     "output_type": "execute_result"
    }
   ],
   "source": [
    "fekete_reduction(g,19)"
   ]
  },
  {
   "cell_type": "code",
   "execution_count": 12,
   "metadata": {
    "collapsed": false
   },
   "outputs": [
    {
     "data": {
      "text/plain": [
       "(x + 80) * (x^30 + 59*x^29 + 113*x^28 + 134*x^27 + 29*x^26 + 43*x^25 + 62*x^24 + 45*x^23 + 129*x^22 + 80*x^21 + 20*x^20 + 65*x^19 + 134*x^18 + 40*x^17 + 14*x^16 + 27*x^15 + 3*x^14 + 137*x^13 + 8*x^12 + 22*x^11 + 103*x^10 + 28*x^9 + 101*x^8 + 65*x^7 + 34*x^6 + 138*x^5 + 41*x^4 + 88*x^3 + 87*x^2 + 4*x + 73)"
      ]
     },
     "execution_count": 12,
     "metadata": {
     },
     "output_type": "execute_result"
    }
   ],
   "source": [
    "fekete_reduction(g,139)"
   ]
  },
  {
   "cell_type": "code",
   "execution_count": 13,
   "metadata": {
    "collapsed": false
   },
   "outputs": [
    {
     "data": {
      "text/plain": [
       "(x^2 + 7*x + 3) * (x^3 + 11*x^2 + 5*x + 10) * (x^7 + 3*x^5 + 2*x^4 + 9*x^3 + 6*x^2 + 4*x + 10) * (x^19 + 8*x^18 + 9*x^17 + x^16 + 3*x^15 + x^14 + 12*x^13 + 3*x^12 + 10*x^11 + 9*x^10 + 5*x^9 + 6*x^8 + x^7 + 10*x^6 + 10*x^5 + 12*x^4 + 4*x^2 + 12*x + 2)"
      ]
     },
     "execution_count": 13,
     "metadata": {
     },
     "output_type": "execute_result"
    }
   ],
   "source": [
    "fekete_reduction(g,13)"
   ]
  },
  {
   "cell_type": "markdown",
   "metadata": {
    "collapsed": false
   },
   "source": [
    "# Galois group of $g_{7p}$"
   ]
  },
  {
   "cell_type": "code",
   "execution_count": 5,
   "metadata": {
    "collapsed": false
   },
   "outputs": [
    {
     "name": "stdout",
     "output_type": "stream",
     "text": [
      "11 [19, 139, 13]\n",
      "13 [17, 107, 43]\n"
     ]
    },
    {
     "name": "stdout",
     "output_type": "stream",
     "text": [
      "17 [373, 41, 29]\n"
     ]
    },
    {
     "name": "stdout",
     "output_type": "stream",
     "text": [
      "19 [53, 401, 43]\n"
     ]
    },
    {
     "name": "stdout",
     "output_type": "stream",
     "text": [
      "23 [113, 397, 19]\n"
     ]
    },
    {
     "name": "stdout",
     "output_type": "stream",
     "text": [
      "29 [1493, 421, 19]\n"
     ]
    },
    {
     "name": "stdout",
     "output_type": "stream",
     "text": [
      "31 [17, 577, 67]\n"
     ]
    },
    {
     "name": "stdout",
     "output_type": "stream",
     "text": [
      "37 [349, 1033, 23]\n"
     ]
    },
    {
     "name": "stdout",
     "output_type": "stream",
     "text": [
      "41 [73, 1009, 53]\n"
     ]
    },
    {
     "name": "stdout",
     "output_type": "stream",
     "text": [
      "43 [311, 1129, 229]\n"
     ]
    },
    {
     "name": "stdout",
     "output_type": "stream",
     "text": [
      "47 [337, 1091, 41]\n"
     ]
    },
    {
     "name": "stdout",
     "output_type": "stream",
     "text": [
      "53 [269, 479, 149]\n"
     ]
    },
    {
     "name": "stdout",
     "output_type": "stream",
     "text": [
      "59 [3083, 541, 499]\n"
     ]
    },
    {
     "name": "stdout",
     "output_type": "stream",
     "text": [
      "61 [967, 1327, 607]\n"
     ]
    },
    {
     "name": "stdout",
     "output_type": "stream",
     "text": [
      "67 [577, 881, 73]\n"
     ]
    },
    {
     "name": "stdout",
     "output_type": "stream",
     "text": [
      "71 [821, 2753, 109]\n"
     ]
    },
    {
     "name": "stdout",
     "output_type": "stream",
     "text": [
      "73 [47, 163, 71]\n"
     ]
    },
    {
     "name": "stdout",
     "output_type": "stream",
     "text": [
      "79 [83, 397, 167]\n"
     ]
    },
    {
     "name": "stdout",
     "output_type": "stream",
     "text": [
      "83 [353, 2141, 281]\n"
     ]
    },
    {
     "name": "stdout",
     "output_type": "stream",
     "text": [
      "89 [941, 1487, 103]\n"
     ]
    },
    {
     "name": "stdout",
     "output_type": "stream",
     "text": [
      "97 [661, 839, 163]\n"
     ]
    },
    {
     "name": "stdout",
     "output_type": "stream",
     "text": [
      "101 [6203, 1361, 173]\n"
     ]
    },
    {
     "name": "stdout",
     "output_type": "stream",
     "text": [
      "103 [3671, 2683, 601]\n"
     ]
    },
    {
     "name": "stdout",
     "output_type": "stream",
     "text": [
      "107 [1307, 3221, 73]\n"
     ]
    },
    {
     "name": "stdout",
     "output_type": "stream",
     "text": [
      "109 [97, 5227, 677]\n"
     ]
    },
    {
     "name": "stdout",
     "output_type": "stream",
     "text": [
      "113 [3361, 127, 107]\n"
     ]
    },
    {
     "name": "stdout",
     "output_type": "stream",
     "text": [
      "127 [8933, 557, 433]\n"
     ]
    },
    {
     "name": "stdout",
     "output_type": "stream",
     "text": [
      "131 [4919, 983, 463]\n"
     ]
    },
    {
     "name": "stdout",
     "output_type": "stream",
     "text": [
      "137 [601, 3623, 97]\n"
     ]
    },
    {
     "name": "stdout",
     "output_type": "stream",
     "text": [
      "139 [251, 421, 499]\n"
     ]
    },
    {
     "name": "stdout",
     "output_type": "stream",
     "text": [
      "149 [1733, 829, 199]\n"
     ]
    },
    {
     "name": "stdout",
     "output_type": "stream",
     "text": [
      "151 [1847, 1801, 1009]\n"
     ]
    },
    {
     "name": "stdout",
     "output_type": "stream",
     "text": [
      "157 [10357, 1301, 251]\n"
     ]
    },
    {
     "name": "stdout",
     "output_type": "stream",
     "text": [
      "163 [2833, 7417, 11]\n"
     ]
    },
    {
     "name": "stdout",
     "output_type": "stream",
     "text": [
      "167 [89, 2089, 617]\n"
     ]
    },
    {
     "name": "stdout",
     "output_type": "stream",
     "text": [
      "173 [5021, 2161, 103]\n"
     ]
    },
    {
     "name": "stdout",
     "output_type": "stream",
     "text": [
      "179 [3371, 2411, 31]\n"
     ]
    },
    {
     "name": "stdout",
     "output_type": "stream",
     "text": [
      "181 [269, 23, 683]\n"
     ]
    },
    {
     "name": "stdout",
     "output_type": "stream",
     "text": [
      "191 [1123, 79, 13]\n"
     ]
    },
    {
     "name": "stdout",
     "output_type": "stream",
     "text": [
      "193 [12011, 613, 79]\n"
     ]
    },
    {
     "name": "stdout",
     "output_type": "stream",
     "text": [
      "197 [757, 1753, 661]\n"
     ]
    },
    {
     "name": "stdout",
     "output_type": "stream",
     "text": [
      "199 [6871, 919, 701]\n"
     ]
    },
    {
     "name": "stdout",
     "output_type": "stream",
     "text": [
      "211 [227, 13291, 277]\n"
     ]
    }
   ],
   "source": [
    "P=Primes()\n",
    "n=10**5\n",
    "q=7\n",
    "p=q\n",
    "while p < 200: \n",
    "    p=P.next(p)\n",
    "    f=fekete(q,p)\n",
    "    g = reduced_fekete(f)\n",
    "    print(p, triple(g,n))"
   ]
  },
  {
   "cell_type": "code",
   "execution_count": 14,
   "metadata": {
    "collapsed": false
   },
   "outputs": [
    {
     "name": "stdout",
     "output_type": "stream",
     "text": [
      "223 [631, 2137, 61]\n"
     ]
    },
    {
     "name": "stdout",
     "output_type": "stream",
     "text": [
      "227 [11719, 13487, 193]\n"
     ]
    },
    {
     "name": "stdout",
     "output_type": "stream",
     "text": [
      "229 [1201, 3023, 239]\n"
     ]
    },
    {
     "name": "stdout",
     "output_type": "stream",
     "text": [
      "233 [419, 2671, 449]\n"
     ]
    },
    {
     "name": "stdout",
     "output_type": "stream",
     "text": [
      "239 [2017, 28309, 89]\n"
     ]
    },
    {
     "name": "stdout",
     "output_type": "stream",
     "text": [
      "241 [2647, 821, 167]\n"
     ]
    },
    {
     "name": "stdout",
     "output_type": "stream",
     "text": [
      "251 [59, 5051, 41]\n"
     ]
    },
    {
     "name": "stdout",
     "output_type": "stream",
     "text": [
      "257 [17, 8821, 421]\n"
     ]
    },
    {
     "name": "stdout",
     "output_type": "stream",
     "text": [
      "263 [6857, 8693, 1039]\n"
     ]
    },
    {
     "name": "stdout",
     "output_type": "stream",
     "text": [
      "269 [59, 797, 383]\n"
     ]
    },
    {
     "name": "stdout",
     "output_type": "stream",
     "text": [
      "271 [7019, 7417, 263]\n"
     ]
    },
    {
     "name": "stdout",
     "output_type": "stream",
     "text": [
      "277 [5189, 2663, 127]\n"
     ]
    },
    {
     "name": "stdout",
     "output_type": "stream",
     "text": [
      "281 [359, 1831, 257]\n"
     ]
    },
    {
     "name": "stdout",
     "output_type": "stream",
     "text": [
      "283 [5059, 3229, 149]\n"
     ]
    },
    {
     "name": "stdout",
     "output_type": "stream",
     "text": [
      "293 [6277, 8089, 79]\n"
     ]
    },
    {
     "name": "stdout",
     "output_type": "stream",
     "text": [
      "307 [4219, 9227, 317]\n",
      "CPU times: user 53min 21s, sys: 16.7 s, total: 53min 38s\n",
      "Wall time: 1h 53min 9s\n"
     ]
    }
   ],
   "source": [
    "%%time\n",
    "P=Primes()\n",
    "n=10**5\n",
    "q=7\n",
    "p=211\n",
    "while p < 300: \n",
    "    p=P.next(p)\n",
    "    f=fekete(q,p)\n",
    "    g = reduced_fekete(f)\n",
    "    print(p, triple(g,n))"
   ]
  },
  {
   "cell_type": "code",
   "execution_count": 15,
   "metadata": {
    "collapsed": false
   },
   "outputs": [
    {
     "name": "stdout",
     "output_type": "stream",
     "text": [
      "307 [4219, 9227, 317]\n"
     ]
    },
    {
     "name": "stdout",
     "output_type": "stream",
     "text": [
      "311 [5527, 1487, 463]\n"
     ]
    },
    {
     "name": "stdout",
     "output_type": "stream",
     "text": [
      "313 [5351, 47629, 47]\n"
     ]
    },
    {
     "name": "stdout",
     "output_type": "stream",
     "text": [
      "317 [15271, 1663, 149]\n"
     ]
    },
    {
     "name": "stdout",
     "output_type": "stream",
     "text": [
      "331 [27701, 3547, 13]\n"
     ]
    },
    {
     "name": "stdout",
     "output_type": "stream",
     "text": [
      "337 [2003, 4733, 43]\n"
     ]
    },
    {
     "name": "stdout",
     "output_type": "stream",
     "text": [
      "347 [15131, 13267, 1019]\n"
     ]
    },
    {
     "name": "stdout",
     "output_type": "stream",
     "text": [
      "349 [2857, 163, 839]\n"
     ]
    },
    {
     "name": "stdout",
     "output_type": "stream",
     "text": [
      "353 [16747, 7211, 599]\n"
     ]
    },
    {
     "name": "stdout",
     "output_type": "stream",
     "text": [
      "359 [5413, 27043, 373]\n"
     ]
    },
    {
     "name": "stdout",
     "output_type": "stream",
     "text": [
      "367 [16061, 18433, 1051]\n"
     ]
    },
    {
     "name": "stdout",
     "output_type": "stream",
     "text": [
      "373 [397, 28807, 59]\n"
     ]
    },
    {
     "name": "stdout",
     "output_type": "stream",
     "text": [
      "379 [5431, 23357, 641]\n"
     ]
    },
    {
     "name": "stdout",
     "output_type": "stream",
     "text": [
      "383 [12791, 12841, 509]\n"
     ]
    },
    {
     "name": "stdout",
     "output_type": "stream",
     "text": [
      "389 [3911, 2017, 653]\n"
     ]
    },
    {
     "name": "stdout",
     "output_type": "stream",
     "text": [
      "397 [2857, 12263, 193]\n"
     ]
    },
    {
     "name": "stdout",
     "output_type": "stream",
     "text": [
      "401 [5077, 967, 359]\n"
     ]
    },
    {
     "name": "stdout",
     "output_type": "stream",
     "text": [
      "409 [1361, 3911, 2593]\n"
     ]
    },
    {
     "name": "stdout",
     "output_type": "stream",
     "text": [
      "419 [383, 1559, 137]\n"
     ]
    },
    {
     "name": "stdout",
     "output_type": "stream",
     "text": [
      "421 [911, 3767, 53]\n"
     ]
    },
    {
     "name": "stdout",
     "output_type": "stream",
     "text": [
      "431 [7477, 463, 347]\n"
     ]
    },
    {
     "name": "stdout",
     "output_type": "stream",
     "text": [
      "433 [4229, 9901, 557]\n"
     ]
    },
    {
     "name": "stdout",
     "output_type": "stream",
     "text": [
      "439 [2137, 42703, 19]\n"
     ]
    },
    {
     "name": "stdout",
     "output_type": "stream",
     "text": [
      "443 [45979, 9791, 239]\n"
     ]
    },
    {
     "name": "stdout",
     "output_type": "stream",
     "text": [
      "449 [7723, 9277, 977]\n"
     ]
    },
    {
     "name": "stdout",
     "output_type": "stream",
     "text": [
      "457 [17, 1031, 349]\n"
     ]
    },
    {
     "name": "stdout",
     "output_type": "stream",
     "text": [
      "461 [9209, 3853, 79]\n"
     ]
    },
    {
     "name": "stdout",
     "output_type": "stream",
     "text": [
      "463 [20011, 12911, 1583]\n"
     ]
    },
    {
     "name": "stdout",
     "output_type": "stream",
     "text": [
      "467 [2003, 1033, 197]\n"
     ]
    },
    {
     "name": "stdout",
     "output_type": "stream",
     "text": [
      "479 [733, 6101, 2551]\n"
     ]
    },
    {
     "name": "stdout",
     "output_type": "stream",
     "text": [
      "487 [991, 2417, 1439]\n"
     ]
    },
    {
     "name": "stdout",
     "output_type": "stream",
     "text": [
      "491 [4861, 3307, 569]\n"
     ]
    },
    {
     "name": "stdout",
     "output_type": "stream",
     "text": [
      "499 [19319, 8387, 1621]\n"
     ]
    },
    {
     "name": "stdout",
     "output_type": "stream",
     "text": [
      "503 [4639, 3229, 811]\n",
      "CPU times: user 8h 57min 57s, sys: 3min 33s, total: 9h 1min 30s\n",
      "Wall time: 16h 9min 39s\n"
     ]
    }
   ],
   "source": [
    "%%time\n",
    "P=Primes()\n",
    "n=10**5\n",
    "q=7\n",
    "p=301\n",
    "while p < 500: \n",
    "    p=P.next(p)\n",
    "    f=fekete(q,p)\n",
    "    g = reduced_fekete(f)\n",
    "    print(p, triple(g,n))"
   ]
  },
  {
   "cell_type": "code",
   "execution_count": 16,
   "metadata": {
    "collapsed": false
   },
   "outputs": [
    {
     "name": "stdout",
     "output_type": "stream",
     "text": [
      "509 [919, 4021, 2609]\n"
     ]
    },
    {
     "name": "stdout",
     "output_type": "stream",
     "text": [
      "521 [6547, 2843, 101]\n"
     ]
    },
    {
     "name": "stdout",
     "output_type": "stream",
     "text": [
      "523 [43579, 36653, 251]\n"
     ]
    },
    {
     "name": "stdout",
     "output_type": "stream",
     "text": [
      "541 [14683, 3643, 59]\n"
     ]
    },
    {
     "name": "stdout",
     "output_type": "stream",
     "text": [
      "547 [21011, 3079, 281]\n"
     ]
    },
    {
     "name": "stdout",
     "output_type": "stream",
     "text": [
      "557 [4481, 9137, 457]\n"
     ]
    },
    {
     "name": "stdout",
     "output_type": "stream",
     "text": [
      "563 [1543, 11243, 4447]\n"
     ]
    },
    {
     "name": "stdout",
     "output_type": "stream",
     "text": [
      "569 [24709, 9059, 2927]\n"
     ]
    },
    {
     "name": "stdout",
     "output_type": "stream",
     "text": [
      "571 [3253, 39019, 89]\n"
     ]
    },
    {
     "name": "stdout",
     "output_type": "stream",
     "text": [
      "577 [887, 17419, 409]\n"
     ]
    },
    {
     "name": "stdout",
     "output_type": "stream",
     "text": [
      "587 [3407, 28517, 643]\n"
     ]
    },
    {
     "name": "stdout",
     "output_type": "stream",
     "text": [
      "593 [18859, 73823, 433]\n"
     ]
    },
    {
     "name": "stdout",
     "output_type": "stream",
     "text": [
      "599 [32579, 34211, 193]\n"
     ]
    },
    {
     "name": "stdout",
     "output_type": "stream",
     "text": [
      "601 [7309, 26539, 547]\n",
      "CPU times: user 15h 21min 14s, sys: 5min 20s, total: 15h 26min 35s\n",
      "Wall time: 1d 7h 7min 26s\n"
     ]
    }
   ],
   "source": [
    "%%time\n",
    "P=Primes()\n",
    "n=10**5\n",
    "q=7\n",
    "p=503\n",
    "while p < 600: \n",
    "    p=P.next(p)\n",
    "    f=fekete(q,p)\n",
    "    g = reduced_fekete(f)\n",
    "    print(p, triple(g,n))"
   ]
  },
  {
   "cell_type": "markdown",
   "metadata": {
    "collapsed": false
   },
   "source": [
    "# Galois group of $f_{7p}$. "
   ]
  },
  {
   "cell_type": "markdown",
   "metadata": {
    "collapsed": false
   },
   "source": [
    "First, we consider the case $p \\equiv 1 \\pmod{7}$. In this case, the discriminant of $f_{7p}$ is not a perfect square. To show that the Galois group of $f_{7p}$ is $(\\Z/2)^n \\rtimes S_n$ where $\\deg(f_{3p})=2n$, we need to show that the Galois group of $f_{7p}$ contains a 2-cycle. The following codes find the smallest prime $q$ such that the reduction of $f_{7p}$ modulo $q$ produces a 2-cycle. "
   ]
  },
  {
   "cell_type": "code",
   "execution_count": 19,
   "metadata": {
    "collapsed": false
   },
   "outputs": [
    {
     "name": "stdout",
     "output_type": "stream",
     "text": [
      "29 691\n"
     ]
    },
    {
     "name": "stdout",
     "output_type": "stream",
     "text": [
      "43 3517\n"
     ]
    },
    {
     "name": "stdout",
     "output_type": "stream",
     "text": [
      "71 2113\n",
      "CPU times: user 58.6 s, sys: 573 ms, total: 59.2 s\n",
      "Wall time: 2min 9s\n"
     ]
    }
   ],
   "source": [
    "%%time\n",
    "P=Primes()\n",
    "n=10**5\n",
    "q=7\n",
    "p=7\n",
    "while p < 100: \n",
    "    p=P.next(p)\n",
    "    if p % q ==1: \n",
    "        f = fekete(q,p)\n",
    "        print(p, two_cycle(f,n))"
   ]
  },
  {
   "cell_type": "code",
   "execution_count": 20,
   "metadata": {
    "collapsed": false
   },
   "outputs": [
    {
     "name": "stdout",
     "output_type": "stream",
     "text": [
      "113 181\n"
     ]
    },
    {
     "name": "stdout",
     "output_type": "stream",
     "text": [
      "127 523\n"
     ]
    },
    {
     "name": "stdout",
     "output_type": "stream",
     "text": [
      "197 1753\n"
     ]
    },
    {
     "name": "stdout",
     "output_type": "stream",
     "text": [
      "211 2287\n"
     ]
    },
    {
     "name": "stdout",
     "output_type": "stream",
     "text": [
      "239 23917\n"
     ]
    },
    {
     "name": "stdout",
     "output_type": "stream",
     "text": [
      "281 23203\n",
      "CPU times: user 5h 18min 45s, sys: 1min 46s, total: 5h 20min 31s\n",
      "Wall time: 11h 15min 52s\n"
     ]
    }
   ],
   "source": [
    "%%time\n",
    "P=Primes()\n",
    "n=10**5\n",
    "q=7\n",
    "p=71\n",
    "while p < 300: \n",
    "    p=P.next(p)\n",
    "    if p % q ==1: \n",
    "        f = fekete(q,p)\n",
    "        print(p, two_cycle(f,n))"
   ]
  },
  {
   "cell_type": "code",
   "execution_count": 21,
   "metadata": {
    "collapsed": false
   },
   "outputs": [
    {
     "name": "stdout",
     "output_type": "stream",
     "text": [
      "337 11161\n"
     ]
    },
    {
     "name": "stdout",
     "output_type": "stream",
     "text": [
      "379 13009\n",
      "CPU times: user 5h 21min 10s, sys: 1min 42s, total: 5h 22min 52s\n",
      "Wall time: 11h 23min 32s\n"
     ]
    }
   ],
   "source": [
    "%%time\n",
    "P=Primes()\n",
    "n=10**5\n",
    "q=7\n",
    "p=300\n",
    "while p < 400: \n",
    "    p=P.next(p)\n",
    "    if p % q ==1: \n",
    "        f = fekete(q,p)\n",
    "        print(p, two_cycle(f,n))"
   ]
  },
  {
   "cell_type": "code",
   "execution_count": 2,
   "metadata": {
    "collapsed": false
   },
   "outputs": [
    {
     "name": "stdout",
     "output_type": "stream",
     "text": [
      "421 33479\n"
     ]
    },
    {
     "name": "stdout",
     "output_type": "stream",
     "text": [
      "449 31337\n",
      "CPU times: user 23h 26min 10s, sys: 2min 58s, total: 23h 29min 9s\n",
      "Wall time: 2d 9min 25s\n"
     ]
    }
   ],
   "source": [
    "%%time\n",
    "P=Primes()\n",
    "n=10**5\n",
    "q=7\n",
    "p=400\n",
    "while p < 450: \n",
    "    p=P.next(p)\n",
    "    if p % q ==1: \n",
    "        f = fekete(q,p)\n",
    "        print(p, two_cycle(f,n))"
   ]
  },
  {
   "cell_type": "code",
   "execution_count": 4,
   "metadata": {
    "collapsed": false
   },
   "outputs": [
    {
     "name": "stdout",
     "output_type": "stream",
     "text": [
      "463 12911\n",
      "CPU times: user 4h 37min 8s, sys: 31.5 s, total: 4h 37min 40s\n",
      "Wall time: 7h 34min 44s\n"
     ]
    }
   ],
   "source": [
    "%%time\n",
    "P=Primes()\n",
    "n=10**5\n",
    "q=7\n",
    "p=450\n",
    "while p < 465: \n",
    "    p=P.next(p)\n",
    "    if p % q ==1: \n",
    "        f = fekete(q,p)\n",
    "        print(p, two_cycle(f,n))"
   ]
  },
  {
   "cell_type": "code",
   "execution_count": 7,
   "metadata": {
    "collapsed": false
   },
   "outputs": [
    {
     "name": "stdout",
     "output_type": "stream",
     "text": [
      "491 8179\n",
      "CPU times: user 3h 13min 53s, sys: 22.7 s, total: 3h 14min 15s\n",
      "Wall time: 6h 36min 11s\n"
     ]
    }
   ],
   "source": [
    "%%time\n",
    "P=Primes()\n",
    "n=10**5\n",
    "q=7\n",
    "p=463\n",
    "while p < 490: \n",
    "    p=P.next(p)\n",
    "    if p % q ==1: \n",
    "        f = fekete(q,p)\n",
    "        print(p, two_cycle(f,n))"
   ]
  },
  {
   "cell_type": "markdown",
   "metadata": {
    "collapsed": false
   },
   "source": [
    "We next consider the case $p \\not \\equiv 1 \\pmod{7}$. In this case, the discriminant of $f_{7p}$ is a perfect square. To verify that it is maximal, we need to find a 2-4 cycle. "
   ]
  },
  {
   "cell_type": "code",
   "execution_count": 8,
   "metadata": {
    "collapsed": false
   },
   "outputs": [
    {
     "name": "stdout",
     "output_type": "stream",
     "text": [
      "11 761\n"
     ]
    },
    {
     "name": "stdout",
     "output_type": "stream",
     "text": [
      "13 1093\n"
     ]
    },
    {
     "name": "stdout",
     "output_type": "stream",
     "text": [
      "17 4751\n"
     ]
    },
    {
     "name": "stdout",
     "output_type": "stream",
     "text": [
      "19 137\n",
      "23 19\n"
     ]
    },
    {
     "name": "stdout",
     "output_type": "stream",
     "text": [
      "31 3433\n"
     ]
    },
    {
     "name": "stdout",
     "output_type": "stream",
     "text": [
      "37 3527\n"
     ]
    },
    {
     "name": "stdout",
     "output_type": "stream",
     "text": [
      "41 2969\n"
     ]
    },
    {
     "name": "stdout",
     "output_type": "stream",
     "text": [
      "47 3407\n"
     ]
    },
    {
     "name": "stdout",
     "output_type": "stream",
     "text": [
      "53 11467\n"
     ]
    },
    {
     "name": "stdout",
     "output_type": "stream",
     "text": [
      "59 5023\n"
     ]
    },
    {
     "name": "stdout",
     "output_type": "stream",
     "text": [
      "61 6883\n"
     ]
    },
    {
     "name": "stdout",
     "output_type": "stream",
     "text": [
      "67 1613\n"
     ]
    },
    {
     "name": "stdout",
     "output_type": "stream",
     "text": [
      "73 11317\n"
     ]
    },
    {
     "name": "stdout",
     "output_type": "stream",
     "text": [
      "79 1667\n"
     ]
    },
    {
     "name": "stdout",
     "output_type": "stream",
     "text": [
      "83 2663\n"
     ]
    },
    {
     "name": "stdout",
     "output_type": "stream",
     "text": [
      "89 9551\n"
     ]
    },
    {
     "name": "stdout",
     "output_type": "stream",
     "text": [
      "97 2777\n"
     ]
    },
    {
     "name": "stdout",
     "output_type": "stream",
     "text": [
      "101 4157\n",
      "CPU times: user 17min 23s, sys: 2.65 s, total: 17min 26s\n",
      "Wall time: 35min 32s\n"
     ]
    }
   ],
   "source": [
    "%%time\n",
    "P=Primes()\n",
    "n=10**5\n",
    "q=7\n",
    "p=7\n",
    "while p < 100: \n",
    "    p=P.next(p)\n",
    "    if p % q !=1: \n",
    "        f = fekete(q,p)\n",
    "        print(p, search_two_four_cycle(f,n))"
   ]
  },
  {
   "cell_type": "code",
   "execution_count": 9,
   "metadata": {
    "collapsed": false
   },
   "outputs": [
    {
     "name": "stdout",
     "output_type": "stream",
     "text": [
      "101 4157\n"
     ]
    },
    {
     "name": "stdout",
     "output_type": "stream",
     "text": [
      "103 10487\n"
     ]
    },
    {
     "name": "stdout",
     "output_type": "stream",
     "text": [
      "107 9677\n"
     ]
    },
    {
     "name": "stdout",
     "output_type": "stream",
     "text": [
      "109 4933\n"
     ]
    },
    {
     "name": "stdout",
     "output_type": "stream",
     "text": [
      "131 10651\n"
     ]
    },
    {
     "name": "stdout",
     "output_type": "stream",
     "text": [
      "137 2657\n"
     ]
    },
    {
     "name": "stdout",
     "output_type": "stream",
     "text": [
      "139 15679\n"
     ]
    },
    {
     "name": "stdout",
     "output_type": "stream",
     "text": [
      "149 3121\n"
     ]
    },
    {
     "name": "stdout",
     "output_type": "stream",
     "text": [
      "151 2273\n"
     ]
    },
    {
     "name": "stdout",
     "output_type": "stream",
     "text": [
      "157 17989\n"
     ]
    },
    {
     "name": "stdout",
     "output_type": "stream",
     "text": [
      "163 16691\n"
     ]
    },
    {
     "name": "stdout",
     "output_type": "stream",
     "text": [
      "167 883\n"
     ]
    },
    {
     "name": "stdout",
     "output_type": "stream",
     "text": [
      "173 4397\n"
     ]
    },
    {
     "name": "stdout",
     "output_type": "stream",
     "text": [
      "179 4957\n"
     ]
    },
    {
     "name": "stdout",
     "output_type": "stream",
     "text": [
      "181 10631\n"
     ]
    },
    {
     "name": "stdout",
     "output_type": "stream",
     "text": [
      "191 4127\n"
     ]
    },
    {
     "name": "stdout",
     "output_type": "stream",
     "text": [
      "193 79\n"
     ]
    },
    {
     "name": "stdout",
     "output_type": "stream",
     "text": [
      "199 701\n",
      "CPU times: user 2h 50min 5s, sys: 16.5 s, total: 2h 50min 21s\n",
      "Wall time: 3h 8min 56s\n"
     ]
    }
   ],
   "source": [
    "%%time\n",
    "P=Primes()\n",
    "n=10**5\n",
    "q=7\n",
    "p=100\n",
    "while p < 200: \n",
    "    p=P.next(p)\n",
    "    if p % q !=1: \n",
    "        f = fekete(q,p)\n",
    "        print(p, search_two_four_cycle(f,n))"
   ]
  },
  {
   "cell_type": "code",
   "execution_count": 10,
   "metadata": {
    "collapsed": false
   },
   "outputs": [
    {
     "name": "stdout",
     "output_type": "stream",
     "text": [
      "223 61\n"
     ]
    },
    {
     "name": "stdout",
     "output_type": "stream",
     "text": [
      "227 33937\n"
     ]
    },
    {
     "name": "stdout",
     "output_type": "stream",
     "text": [
      "229 34511\n"
     ]
    },
    {
     "name": "stdout",
     "output_type": "stream",
     "text": [
      "233 4231\n"
     ]
    },
    {
     "name": "stdout",
     "output_type": "stream",
     "text": [
      "241 2593\n"
     ]
    },
    {
     "name": "stdout",
     "output_type": "stream",
     "text": [
      "251 11177\n"
     ]
    },
    {
     "name": "stdout",
     "output_type": "stream",
     "text": [
      "257 37277\n"
     ]
    },
    {
     "name": "stdout",
     "output_type": "stream",
     "text": [
      "263 13967\n"
     ]
    },
    {
     "name": "stdout",
     "output_type": "stream",
     "text": [
      "269 23971\n"
     ]
    },
    {
     "name": "stdout",
     "output_type": "stream",
     "text": [
      "271 17851\n"
     ]
    },
    {
     "name": "stdout",
     "output_type": "stream",
     "text": [
      "277 15271\n"
     ]
    },
    {
     "name": "stdout",
     "output_type": "stream",
     "text": [
      "283 14821\n"
     ]
    },
    {
     "name": "stdout",
     "output_type": "stream",
     "text": [
      "293 18013\n"
     ]
    },
    {
     "name": "stdout",
     "output_type": "stream",
     "text": [
      "307 42727\n",
      "CPU times: user 1d 2h 57min 6s, sys: 2min 36s, total: 1d 2h 59min 42s\n",
      "Wall time: 1d 16h 59min 48s\n"
     ]
    }
   ],
   "source": [
    "%%time\n",
    "P=Primes()\n",
    "n=10**5\n",
    "q=7\n",
    "p=200\n",
    "while p < 300: \n",
    "    p=P.next(p)\n",
    "    if p % q !=1: \n",
    "        f = fekete(q,p)\n",
    "        print(p, search_two_four_cycle(f,n))"
   ]
  },
  {
   "cell_type": "code",
   "execution_count": 11,
   "metadata": {
    "collapsed": false
   },
   "outputs": [
    {
     "name": "stdout",
     "output_type": "stream",
     "text": [
      "311 829\n"
     ]
    },
    {
     "name": "stdout",
     "output_type": "stream",
     "text": [
      "313 1031\n"
     ]
    },
    {
     "name": "stdout",
     "output_type": "stream",
     "text": [
      "317 17881\n"
     ]
    },
    {
     "name": "stdout",
     "output_type": "stream",
     "text": [
      "331 2339\n"
     ]
    },
    {
     "name": "stdout",
     "output_type": "stream",
     "text": [
      "347 19231\n"
     ]
    },
    {
     "name": "stdout",
     "output_type": "stream",
     "text": [
      "349 77239\n"
     ]
    },
    {
     "name": "stdout",
     "output_type": "stream",
     "text": [
      "353 34849\n",
      "CPU times: user 1d 6h 10min 20s, sys: 2min 48s, total: 1d 6h 13min 8s\n",
      "Wall time: 2d 1h 7min 4s\n"
     ]
    }
   ],
   "source": [
    "%%time\n",
    "P=Primes()\n",
    "n=10**5\n",
    "q=7\n",
    "p=307\n",
    "while p < 350: \n",
    "    p=P.next(p)\n",
    "    if p % q !=1: \n",
    "        f = fekete(q,p)\n",
    "        print(p, search_two_four_cycle(f,n))"
   ]
  },
  {
   "cell_type": "code",
   "execution_count": 12,
   "metadata": {
    "collapsed": false
   },
   "outputs": [
    {
     "name": "stdout",
     "output_type": "stream",
     "text": [
      "359 19139\n"
     ]
    },
    {
     "name": "stdout",
     "output_type": "stream",
     "text": [
      "367 39079\n"
     ]
    },
    {
     "name": "stdout",
     "output_type": "stream",
     "text": [
      "373 6361\n",
      "CPU times: user 13h 51min 13s, sys: 1min 19s, total: 13h 52min 32s\n",
      "Wall time: 1d 2min 27s\n"
     ]
    }
   ],
   "source": [
    "%%time\n",
    "P=Primes()\n",
    "n=10**5\n",
    "q=7\n",
    "p=353\n",
    "while p < 370: \n",
    "    p=P.next(p)\n",
    "    if p % q !=1: \n",
    "        f = fekete(q,p)\n",
    "        print(p, search_two_four_cycle(f,n))"
   ]
  },
  {
   "cell_type": "code",
   "execution_count": 13,
   "metadata": {
    "collapsed": false
   },
   "outputs": [
    {
     "name": "stdout",
     "output_type": "stream",
     "text": [
      "383 55337\n"
     ]
    },
    {
     "name": "stdout",
     "output_type": "stream",
     "text": [
      "389 41659\n"
     ]
    },
    {
     "name": "stdout",
     "output_type": "stream",
     "text": [
      "397 7151\n"
     ]
    },
    {
     "name": "stdout",
     "output_type": "stream",
     "text": [
      "401 30403\n",
      "CPU times: user 1d 11h 9min 25s, sys: 3min 51s, total: 1d 11h 13min 17s\n",
      "Wall time: 2d 20h 57min 32s\n"
     ]
    }
   ],
   "source": [
    "%%time\n",
    "P=Primes()\n",
    "n=10**5\n",
    "q=7\n",
    "p=373\n",
    "while p < 400: \n",
    "    p=P.next(p)\n",
    "    if p % q !=1: \n",
    "        f = fekete(q,p)\n",
    "        print(p, search_two_four_cycle(f,n))"
   ]
  },
  {
   "cell_type": "code",
   "execution_count": 14,
   "metadata": {
    "collapsed": false
   },
   "outputs": [
    {
     "name": "stdout",
     "output_type": "stream",
     "text": [
      "409 12919\n"
     ]
    },
    {
     "name": "stdout",
     "output_type": "stream",
     "text": [
      "419 23431\n"
     ]
    },
    {
     "name": "stdout",
     "output_type": "stream",
     "text": [
      "431 14057\n"
     ]
    },
    {
     "name": "stdout",
     "output_type": "stream",
     "text": [
      "433 53633\n"
     ]
    },
    {
     "name": "stdout",
     "output_type": "stream",
     "text": [
      "439 31013\n"
     ]
    },
    {
     "name": "stdout",
     "output_type": "stream",
     "text": [
      "443 12541\n"
     ]
    },
    {
     "name": "stdout",
     "output_type": "stream",
     "text": [
      "457 20023\n",
      "CPU times: user 2d 22h 35min 30s, sys: 11min 22s, total: 2d 22h 46min 53s\n",
      "Wall time: 8d 16h 50min 25s\n"
     ]
    }
   ],
   "source": [
    "%%time\n",
    "P=Primes()\n",
    "n=10**5\n",
    "q=7\n",
    "p=401\n",
    "while p < 450: \n",
    "    p=P.next(p)\n",
    "    if p % q !=1: \n",
    "        f = fekete(q,p)\n",
    "        print(p, search_two_four_cycle(f,n))"
   ]
  },
  {
   "cell_type": "code",
   "execution_count": 15,
   "metadata": {
    "collapsed": false
   },
   "outputs": [
    {
     "name": "stdout",
     "output_type": "stream",
     "text": [
      "461 14407\n"
     ]
    },
    {
     "name": "stdout",
     "output_type": "stream",
     "text": [
      "467 48437\n"
     ]
    },
    {
     "name": "stdout",
     "output_type": "stream",
     "text": [
      "479 20117\n"
     ]
    },
    {
     "name": "stdout",
     "output_type": "stream",
     "text": [
      "487 20753\n"
     ]
    },
    {
     "name": "stdout",
     "output_type": "stream",
     "text": [
      "499 2531\n"
     ]
    },
    {
     "name": "stdout",
     "output_type": "stream",
     "text": [
      "503 5869\n",
      "CPU times: user 2d 11h 19min 54s, sys: 9min 15s, total: 2d 11h 29min 9s\n",
      "Wall time: 7d 13h 7min 21s\n"
     ]
    }
   ],
   "source": [
    "%%time\n",
    "P=Primes()\n",
    "n=10**5\n",
    "q=7\n",
    "p=457\n",
    "while p < 500: \n",
    "    p=P.next(p)\n",
    "    if p % q !=1: \n",
    "        f = fekete(q,p)\n",
    "        print(p, search_two_four_cycle(f,n))"
   ]
  }
 ],
 "metadata": {
  "kernelspec": {
   "display_name": "SageMath 9.4",
   "language": "sagemath",
   "metadata": {
    "cocalc": {
     "description": "Open-source mathematical software system",
     "priority": 1,
     "url": "https://www.sagemath.org/"
    }
   },
   "name": "sage-9.4",
   "resource_dir": "/ext/jupyter/kernels/sage-9.4"
  },
  "language_info": {
   "codemirror_mode": {
    "name": "ipython",
    "version": 3
   },
   "file_extension": ".py",
   "mimetype": "text/x-python",
   "name": "python",
   "nbconvert_exporter": "python",
   "pygments_lexer": "ipython3",
   "version": "3.9.5"
  }
 },
 "nbformat": 4,
 "nbformat_minor": 4
}