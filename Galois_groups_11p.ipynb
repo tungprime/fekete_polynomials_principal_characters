{
 "cells": [
  {
   "cell_type": "code",
   "execution_count": 1,
   "metadata": {
    "collapsed": false
   },
   "outputs": [
   ],
   "source": [
    "K.<a> = NumberField(x - 1)\n",
    "from sage.rings.polynomial.cyclotomic import cyclotomic_coeffs\n",
    "S = ZZ['x']\n",
    "K.<w> = NumberField(x^2 - x + 1)\n",
    "R.<x> = PolynomialRing(ZZ)\n",
    "\n",
    "\n",
    "\n",
    "def is_relatively_prime(m,n):\n",
    "    if gcd(m,n) ==1:\n",
    "        return 1\n",
    "    else:\n",
    "        return 0 \n",
    "    \n",
    "def raw_fekete(n):\n",
    "    \"Fekete polynomial with Delta odd \"\n",
    "    D=n\n",
    "    v=[is_relatively_prime(a+1,n) for a in range(0,D-1)]\n",
    "    F_D=R(v)\n",
    "    return F_D*x  \n",
    "\n",
    "def fekete_by_last_factor(n):\n",
    "    F=raw_fekete(n)\n",
    "    f = F.factor()[-1][0]\n",
    "    return f\n",
    "\n",
    "def divisor_set_general(q,p):\n",
    "    divisor = set()\n",
    "    for d in range(2, q):\n",
    "        if q%d ==1:\n",
    "            divisor.add(d)\n",
    "    for d in range(2,p):\n",
    "        if p%d==1 and d !=q:\n",
    "            divisor.add(d)\n",
    "    for d in range(2,p+q+1):\n",
    "        if (q*p+1)%d==0 and (p+q)%d==0:\n",
    "            divisor.add(d)\n",
    "    return divisor \n",
    "   \n",
    "    \n",
    "def cyclotomic_factor(q,p):\n",
    "    \"\"\"\n",
    "    return the cyclotmic factor of F_{qp}\n",
    "    \"\"\"\n",
    "    cyc_factor =x\n",
    "    divisor_set = divisor_set_general(q,p)\n",
    "    for d in divisor_set:\n",
    "        cyc_factor *=S(cyclotomic_coeffs(d))\n",
    "    return cyc_factor\n",
    "\n",
    "\n",
    "def fekete(q,p):\n",
    "    n=p*q\n",
    "    cyc_factor = cyclotomic_factor(q,p)\n",
    "    F= raw_fekete(n)\n",
    "    f,r =F.quo_rem(cyc_factor) \n",
    "    return f \n",
    "\n",
    "\n",
    "def reduced_fekete(f):\n",
    "    u=f.trace_polynomial()\n",
    "    g_D=u[0]\n",
    "    return g_D\n",
    "\n",
    "def fekete_reduction(f, q):\n",
    "    f=f.change_ring(GF(q))\n",
    "    return f.factor()        \n",
    "\n",
    "\n",
    "def two_four_cycle(f,q):\n",
    "    factor = fekete_reduction(f,q)\n",
    "    number_of_factor = len(factor)\n",
    "    #check that f is separable modulo q\n",
    "    for i in range(number_of_factor):\n",
    "        if factor[i][1] >1:\n",
    "            return False\n",
    "    number_two_cycle =0 \n",
    "    number_four_cycle =0 \n",
    "    number_even_cycle =0\n",
    "    for i in range(number_of_factor):\n",
    "        if factor[i][0].degree() ==2:\n",
    "            number_two_cycle +=1\n",
    "        if factor[i][0].degree() == 4:\n",
    "            number_four_cycle +=1 \n",
    "        if factor[i][0].degree() % 2 ==0:\n",
    "            number_even_cycle +=1\n",
    "    if number_two_cycle ==1 and number_four_cycle ==1 and number_even_cycle ==2:\n",
    "        return True\n",
    "    return False\n",
    "            \n",
    "    \n",
    "def search_two_four_cycle(f,n):\n",
    "    for q in range(n):\n",
    "        if is_prime(q):\n",
    "            if two_four_cycle(f,q):\n",
    "                return q\n",
    "    return -1 \n",
    "\n",
    "def search_two_four_cycle_2(f,m,n):\n",
    "    for q in range(m,n):\n",
    "        if is_prime(q):\n",
    "            if two_four_cycle(f,q):\n",
    "                return q\n",
    "    return -1 \n",
    "\n",
    "\n",
    "\n",
    "def almost_cycle(f,n):\n",
    "    for q in range(n):\n",
    "        if is_prime(q): \n",
    "            factor=fekete_reduction(f,q)\n",
    "            if len(factor)==3: \n",
    "                factor1=factor[0][0]\n",
    "                factor2=factor[1][0]\n",
    "                degree1=factor1.degree()\n",
    "                degree2=factor2.degree()\n",
    "                if degree1==1 and degree2==1 and factor[0][1]==1 and factor[1][1]==1 and factor[2][1]==1: \n",
    "                    return q\n",
    "    return  -1         \n",
    "                \n",
    "def irreducible(f,n):\n",
    "    for q in range(n):\n",
    "        if is_prime(q): \n",
    "            factor=fekete_reduction(f,q)\n",
    "            if len(factor)==1 and factor[0][1]==1:\n",
    "                    return q\n",
    "    return  -1         \n",
    "                \n",
    "       \n",
    "    \n",
    "def length_test_2(v):\n",
    "    #count the number of even entries in v\n",
    "    count2=0\n",
    "    for item in v:\n",
    "        if item==2:\n",
    "            count2 +=1\n",
    "    count_even=0     \n",
    "    for item in v:        \n",
    "        if item %2 ==0:\n",
    "            count_even +=1\n",
    "    if count2==count_even==1:\n",
    "        return True\n",
    "    return False    \n",
    "\n",
    "def length_test_4(v):\n",
    "    #count the number of even entries in v\n",
    "    count4=0\n",
    "    for item in v:\n",
    "        if item==4:\n",
    "            count4 +=1\n",
    "    count_even=0     \n",
    "    for item in v:        \n",
    "        if item %2 ==0:\n",
    "            count_even +=1\n",
    "    if count4==count_even==1:\n",
    "        return True\n",
    "    return False    \n",
    "\n",
    "    \n",
    "def two_cycle(f,n):\n",
    "    result=[]\n",
    "    for q in range(n):\n",
    "        v=[]\n",
    "        if is_prime(q):\n",
    "            factor=fekete_reduction(f,q)\n",
    "            for item in factor:\n",
    "                v.append(item[0].degree())\n",
    "        if sum(v)==f.degree() and length_test_2(v):\n",
    "            return q\n",
    "    return -1    \n",
    "\n",
    "def two_cycle_2(f,m,n):\n",
    "    result=[]\n",
    "    for q in range(m,n):\n",
    "        v=[]\n",
    "        if is_prime(q):\n",
    "            factor=fekete_reduction(f,q)\n",
    "            for item in factor:\n",
    "                v.append(item[0].degree())\n",
    "        if sum(v)==f.degree() and length_test_2(v):\n",
    "            return q\n",
    "    return -1 \n",
    "\n",
    "def four_cycle(f,n):\n",
    "    result=[]\n",
    "    for q in range(n):\n",
    "        v=[]\n",
    "        if is_prime(q):\n",
    "            factor=fekete_reduction(f,q)\n",
    "            for item in factor:\n",
    "                v.append(item[0].degree())\n",
    "        if sum(v)==f.degree() and length_test_4(v):\n",
    "            return q\n",
    "    return -1  \n",
    "\n",
    "def cycle(g,n):\n",
    "    for q in range(n):\n",
    "        if is_prime(q): \n",
    "            factor=fekete_reduction(g,q)\n",
    "            if len(factor)==2: \n",
    "                factor1=factor[0][0]\n",
    "                coef=factor1.degree()\n",
    "                if coef==1 and factor[0][1]==1 and factor[1][1]==1: \n",
    "                                   return q\n",
    "    return  -1   \n",
    "                    \n",
    "\n",
    "                    \n",
    "def search_quadruple(f,n):\n",
    "    irr=irreducible(f,n)\n",
    "    print(f\"f is irreducible at q= \", irr)\n",
    "    q_cycle=almost_cycle(f,n)\n",
    "    print(f\"f has an (2m-2) cycle at q=\", q_cycle)\n",
    "    q_tranposition=two_cycle(f,n)\n",
    "    print(f\"f has an 2-cycle at q=\", q_tranposition)\n",
    "    q_four_cycle=four_cycle(f,n)\n",
    "    print(f\"f has an 4-cycle at q=\", q_four_cycle)\n",
    "    \n",
    "\n",
    "def quadruple(f,n):\n",
    "    irr=irreducible(f,n)\n",
    "    q_cycle=almost_cycle(f,n)\n",
    "    q_tranposition=two_cycle(f,n)\n",
    "    q_four_cycle=four_cycle(f,n)\n",
    "    result=(irr, q_cycle, q_tranposition, q_four_cycle)\n",
    "    return result\n",
    "    \n",
    "    \n",
    "def triple(g,n):\n",
    "    irr=irreducible(g,n)\n",
    "    q_cycle=cycle(g,n)\n",
    "    q_tranposition=two_cycle(g,n)\n",
    "    result=[irr, q_cycle, q_tranposition]\n",
    "    return result"
   ]
  },
  {
   "cell_type": "code",
   "execution_count": 4,
   "metadata": {
    "collapsed": false
   },
   "outputs": [
    {
     "data": {
      "text/plain": [
       "x^55 - 56*x^53 + 1483*x^51 - 24700*x^49 + 290276*x^47 - 2559808*x^45 + x^44 + 17586788*x^43 - 44*x^42 - 96474928*x^41 + 901*x^40 + 429651014*x^39 - 11400*x^38 - 1571131888*x^37 + 99789*x^36 + 4752957026*x^35 - 641172*x^34 - 11949259336*x^33 + 3131129*x^32 + 25017769297*x^31 - 11872290*x^30 - 43615970335*x^29 + 35403145*x^28 + 63181993729*x^27 - 83590294*x^26 - 75725722320*x^25 + 156577615*x^24 + 74604393370*x^23 - 232168714*x^22 - 59868635449*x^21 + 270828358*x^20 + 38657357873*x^19 - 246018191*x^18 - 19761625453*x^17 + 171539468*x^16 + 7827795044*x^15 - 90114246*x^14 - 2334313385*x^13 + 34883252*x^12 + 503701720*x^11 - 9714654*x^10 - 74323349*x^9 + 1897413*x^8 + 6882014*x^7 - 248485*x^6 - 345597*x^5 + 19042*x^4 + 7005*x^3 - 633*x^2 - 36*x + 5"
      ]
     },
     "execution_count": 4,
     "metadata": {
     },
     "output_type": "execute_result"
    }
   ],
   "source": [
    "q=11\n",
    "p=13\n",
    "f=fekete(11, 13)\n",
    "g=reduced_fekete(f)\n",
    "g"
   ]
  },
  {
   "cell_type": "code",
   "execution_count": 6,
   "metadata": {
    "collapsed": false
   },
   "outputs": [
    {
     "data": {
      "text/plain": [
       "x^55 + 12*x^53 + 4*x^51 + x^49 + x^47 + x^45 + x^44 + 16*x^43 + 7*x^42 + 4*x^41 + x^39 + 7*x^38 + 3*x^37 + 16*x^36 + 7*x^35 + x^32 + x^31 + 3*x^29 + 16*x^28 + 7*x^27 + 15*x^26 + 15*x^25 + 16*x^24 + 11*x^23 + 14*x^22 + 14*x^21 + 15*x^20 + 14*x^19 + 12*x^18 + 16*x^17 + 16*x^16 + 16*x^13 + 16*x^11 + 13*x^10 + 5*x^9 + 9*x^8 + 6*x^7 + 4*x^6 + 13*x^5 + 2*x^4 + x^3 + 13*x^2 + 15*x + 5"
      ]
     },
     "execution_count": 6,
     "metadata": {
     },
     "output_type": "execute_result"
    }
   ],
   "source": [
    "fekete_reduction(g, 17)"
   ]
  },
  {
   "cell_type": "code",
   "execution_count": 7,
   "metadata": {
    "collapsed": false
   },
   "outputs": [
    {
     "data": {
      "text/plain": [
       "(x + 106) * (x^54 + 247*x^53 + 237*x^52 + 294*x^51 + 324*x^50 + 250*x^49 + 338*x^48 + 178*x^47 + 304*x^46 + 252*x^45 + 264*x^44 + 257*x^43 + 267*x^42 + 247*x^41 + 265*x^40 + 345*x^39 + 30*x^38 + 246*x^37 + 205*x^36 + 46*x^35 + 241*x^34 + 99*x^33 + 89*x^32 + 116*x^31 + 305*x^30 + 305*x^29 + 281*x^28 + 288*x^27 + 158*x^26 + 302*x^25 + 171*x^24 + 106*x^23 + 260*x^22 + 66*x^21 + 117*x^20 + 4*x^19 + 218*x^18 + 54*x^17 + 350*x^16 + 142*x^15 + 50*x^14 + 295*x^13 + 220*x^12 + 123*x^11 + 42*x^10 + 43*x^9 + 126*x^8 + 96*x^7 + 340*x^6 + 346*x^5 + 26*x^4 + 48*x^3 + 152*x^2 + 199*x + 50)"
      ]
     },
     "execution_count": 7,
     "metadata": {
     },
     "output_type": "execute_result"
    }
   ],
   "source": [
    "fekete_reduction(g, 353)"
   ]
  },
  {
   "cell_type": "code",
   "execution_count": 8,
   "metadata": {
    "collapsed": false
   },
   "outputs": [
    {
     "data": {
      "text/plain": [
       "(x^2 + 10*x + 11) * (x^9 + 8*x^8 + 4*x^7 + 6*x^6 + 18*x^5 + 3*x^4 + 8*x^3 + 8*x^2 + x + 8) * (x^17 + 14*x^16 + 5*x^15 + 2*x^14 + 13*x^13 + 12*x^12 + 5*x^11 + 17*x^10 + 7*x^9 + 12*x^8 + 12*x^7 + 3*x^6 + 8*x^5 + 8*x^4 + 11*x^3 + 15*x^2 + 7*x + 17) * (x^27 + 6*x^26 + 8*x^25 + 9*x^24 + 11*x^23 + 18*x^22 + 18*x^21 + 13*x^20 + 13*x^19 + 18*x^18 + 18*x^17 + 6*x^16 + 16*x^15 + 18*x^14 + 5*x^13 + 13*x^12 + 10*x^11 + 4*x^10 + 16*x^9 + 8*x^8 + 12*x^7 + 18*x^6 + 14*x^5 + 10*x^4 + 2*x^3 + 7*x^2 + 4*x + 18)"
      ]
     },
     "execution_count": 8,
     "metadata": {
     },
     "output_type": "execute_result"
    }
   ],
   "source": [
    "fekete_reduction(g, 19)"
   ]
  },
  {
   "cell_type": "markdown",
   "metadata": {
    "collapsed": false
   },
   "source": [
    "# Galois groups of $g_{11p}$"
   ]
  },
  {
   "cell_type": "code",
   "execution_count": 2,
   "metadata": {
    "collapsed": false
   },
   "outputs": [
    {
     "name": "stdout",
     "output_type": "stream",
     "text": [
      "13 [17, 353, 19]\n"
     ]
    },
    {
     "name": "stdout",
     "output_type": "stream",
     "text": [
      "17 [1399, 347, 103]\n"
     ]
    },
    {
     "name": "stdout",
     "output_type": "stream",
     "text": [
      "19 [257, 173, 47]\n"
     ]
    },
    {
     "name": "stdout",
     "output_type": "stream",
     "text": [
      "23 [1319, 431, 397]\n"
     ]
    },
    {
     "name": "stdout",
     "output_type": "stream",
     "text": [
      "29 [1009, 643, 19]\n"
     ]
    },
    {
     "name": "stdout",
     "output_type": "stream",
     "text": [
      "31 [61, 53, 83]\n"
     ]
    },
    {
     "name": "stdout",
     "output_type": "stream",
     "text": [
      "37 [211, 1069, 353]\n"
     ]
    },
    {
     "name": "stdout",
     "output_type": "stream",
     "text": [
      "41 [839, 1459, 47]\n"
     ]
    },
    {
     "name": "stdout",
     "output_type": "stream",
     "text": [
      "43 [2089, 907, 41]\n"
     ]
    },
    {
     "name": "stdout",
     "output_type": "stream",
     "text": [
      "47 [953, 2287, 137]\n"
     ]
    },
    {
     "name": "stdout",
     "output_type": "stream",
     "text": [
      "53 [313, 919, 269]\n"
     ]
    },
    {
     "name": "stdout",
     "output_type": "stream",
     "text": [
      "59 [11719, 13873, 23]\n"
     ]
    },
    {
     "name": "stdout",
     "output_type": "stream",
     "text": [
      "61 [149, 1747, 13]\n"
     ]
    },
    {
     "name": "stdout",
     "output_type": "stream",
     "text": [
      "67 [2707, 2347, 1619]\n"
     ]
    },
    {
     "name": "stdout",
     "output_type": "stream",
     "text": [
      "71 [2861, 709, 263]\n"
     ]
    },
    {
     "name": "stdout",
     "output_type": "stream",
     "text": [
      "73 [349, 1019, 211]\n"
     ]
    },
    {
     "name": "stdout",
     "output_type": "stream",
     "text": [
      "79 [1229, 3023, 739]\n"
     ]
    },
    {
     "name": "stdout",
     "output_type": "stream",
     "text": [
      "83 [167, 10301, 29]\n"
     ]
    },
    {
     "name": "stdout",
     "output_type": "stream",
     "text": [
      "89 [71, 1831, 677]\n"
     ]
    },
    {
     "name": "stdout",
     "output_type": "stream",
     "text": [
      "97 [1487, 2207, 373]\n"
     ]
    },
    {
     "name": "stdout",
     "output_type": "stream",
     "text": [
      "101 [443, 7877, 311]\n",
      "CPU times: user 5min 17s, sys: 1.25 s, total: 5min 18s\n",
      "Wall time: 10min 52s\n"
     ]
    }
   ],
   "source": [
    "%%time\n",
    "P=Primes()\n",
    "n=10**5\n",
    "q=11\n",
    "p=q\n",
    "while p < 100: \n",
    "    p=P.next(p)\n",
    "    f=fekete(q,p)\n",
    "    g = reduced_fekete(f)\n",
    "    print(p, triple(g,n))"
   ]
  },
  {
   "cell_type": "code",
   "execution_count": 9,
   "metadata": {
    "collapsed": false
   },
   "outputs": [
    {
     "name": "stdout",
     "output_type": "stream",
     "text": [
      "103 [5413, 6217, 241]\n"
     ]
    },
    {
     "name": "stdout",
     "output_type": "stream",
     "text": [
      "107 [421, 157, 179]\n"
     ]
    },
    {
     "name": "stdout",
     "output_type": "stream",
     "text": [
      "109 [5009, 5591, 487]\n"
     ]
    },
    {
     "name": "stdout",
     "output_type": "stream",
     "text": [
      "113 [2039, 1439, 389]\n"
     ]
    },
    {
     "name": "stdout",
     "output_type": "stream",
     "text": [
      "127 [8839, 6067, 797]\n"
     ]
    },
    {
     "name": "stdout",
     "output_type": "stream",
     "text": [
      "131 [5779, 5407, 977]\n"
     ]
    },
    {
     "name": "stdout",
     "output_type": "stream",
     "text": [
      "137 [977, 2843, 113]\n"
     ]
    },
    {
     "name": "stdout",
     "output_type": "stream",
     "text": [
      "139 [5021, 5009, 331]\n"
     ]
    },
    {
     "name": "stdout",
     "output_type": "stream",
     "text": [
      "149 [11087, 449, 431]\n"
     ]
    },
    {
     "name": "stdout",
     "output_type": "stream",
     "text": [
      "151 [2137, 14249, 313]\n"
     ]
    },
    {
     "name": "stdout",
     "output_type": "stream",
     "text": [
      "157 [1307, 5651, 347]\n"
     ]
    },
    {
     "name": "stdout",
     "output_type": "stream",
     "text": [
      "163 [4657, 2441, 131]\n"
     ]
    },
    {
     "name": "stdout",
     "output_type": "stream",
     "text": [
      "167 [47, 8663, 109]\n"
     ]
    },
    {
     "name": "stdout",
     "output_type": "stream",
     "text": [
      "173 [2243, 2293, 17]\n"
     ]
    },
    {
     "name": "stdout",
     "output_type": "stream",
     "text": [
      "179 [6703, 10651, 1109]\n"
     ]
    },
    {
     "name": "stdout",
     "output_type": "stream",
     "text": [
      "181 [11941, 14879, 463]\n"
     ]
    },
    {
     "name": "stdout",
     "output_type": "stream",
     "text": [
      "191 [821, 1373, 73]\n"
     ]
    },
    {
     "name": "stdout",
     "output_type": "stream",
     "text": [
      "193 [20959, 18859, 19]\n"
     ]
    },
    {
     "name": "stdout",
     "output_type": "stream",
     "text": [
      "197 [32057, 9161, 433]\n"
     ]
    },
    {
     "name": "stdout",
     "output_type": "stream",
     "text": [
      "199 [2741, 6917, 1063]\n"
     ]
    },
    {
     "name": "stdout",
     "output_type": "stream",
     "text": [
      "211 [73, 1877, 67]\n",
      "CPU times: user 1h 40min 4s, sys: 15.9 s, total: 1h 40min 20s\n",
      "Wall time: 3h 27min 29s\n"
     ]
    }
   ],
   "source": [
    "%%time\n",
    "P=Primes()\n",
    "n=10**5\n",
    "q=11\n",
    "p=101\n",
    "while p < 200: \n",
    "    p=P.next(p)\n",
    "    f=fekete(q,p)\n",
    "    g = reduced_fekete(f)\n",
    "    print(p, triple(g,n))"
   ]
  },
  {
   "cell_type": "code",
   "execution_count": 10,
   "metadata": {
    "collapsed": false
   },
   "outputs": [
    {
     "name": "stdout",
     "output_type": "stream",
     "text": [
      "223 [661, 2027, 103]\n"
     ]
    },
    {
     "name": "stdout",
     "output_type": "stream",
     "text": [
      "227 [26237, 1783, 661]\n"
     ]
    },
    {
     "name": "stdout",
     "output_type": "stream",
     "text": [
      "229 [6899, 10243, 29]\n"
     ]
    },
    {
     "name": "stdout",
     "output_type": "stream",
     "text": [
      "233 [853, 36097, 23]\n"
     ]
    },
    {
     "name": "stdout",
     "output_type": "stream",
     "text": [
      "239 [7109, 2381, 73]\n"
     ]
    },
    {
     "name": "stdout",
     "output_type": "stream",
     "text": [
      "241 [8111, 9883, 541]\n"
     ]
    },
    {
     "name": "stdout",
     "output_type": "stream",
     "text": [
      "251 [23689, 4793, 1069]\n"
     ]
    },
    {
     "name": "stdout",
     "output_type": "stream",
     "text": [
      "257 [41131, 16619, 383]\n"
     ]
    },
    {
     "name": "stdout",
     "output_type": "stream",
     "text": [
      "263 [32993, 26713, 499]\n"
     ]
    },
    {
     "name": "stdout",
     "output_type": "stream",
     "text": [
      "269 [41443, 521, 193]\n"
     ]
    },
    {
     "name": "stdout",
     "output_type": "stream",
     "text": [
      "271 [2887, 701, 1103]\n"
     ]
    },
    {
     "name": "stdout",
     "output_type": "stream",
     "text": [
      "277 [18289, 307, 1283]\n"
     ]
    },
    {
     "name": "stdout",
     "output_type": "stream",
     "text": [
      "281 [631, 2633, 811]\n"
     ]
    },
    {
     "name": "stdout",
     "output_type": "stream",
     "text": [
      "283 [23, 3083, 109]\n"
     ]
    },
    {
     "name": "stdout",
     "output_type": "stream",
     "text": [
      "293 [22639, 2437, 139]\n"
     ]
    },
    {
     "name": "stdout",
     "output_type": "stream",
     "text": [
      "307 [1429, 6079, 139]\n",
      "CPU times: user 5h 41min 32s, sys: 37.5 s, total: 5h 42min 10s\n",
      "Wall time: 11h 52min 23s\n"
     ]
    }
   ],
   "source": [
    "%%time\n",
    "P=Primes()\n",
    "n=10**5\n",
    "q=11\n",
    "p=211\n",
    "while p < 300: \n",
    "    p=P.next(p)\n",
    "    f=fekete(q,p)\n",
    "    g = reduced_fekete(f)\n",
    "    print(p, triple(g,n))"
   ]
  },
  {
   "cell_type": "code",
   "execution_count": 11,
   "metadata": {
    "collapsed": false
   },
   "outputs": [
    {
     "name": "stdout",
     "output_type": "stream",
     "text": [
      "311 [2251, 2731, 937]\n"
     ]
    },
    {
     "name": "stdout",
     "output_type": "stream",
     "text": [
      "313 [4583, 11593, 191]\n"
     ]
    },
    {
     "name": "stdout",
     "output_type": "stream",
     "text": [
      "317 [269, 13697, 383]\n"
     ]
    },
    {
     "name": "stdout",
     "output_type": "stream",
     "text": [
      "331 [139, 17497, 241]\n"
     ]
    },
    {
     "name": "stdout",
     "output_type": "stream",
     "text": [
      "337 [1709, 61643, 2029]\n"
     ]
    },
    {
     "name": "stdout",
     "output_type": "stream",
     "text": [
      "347 [1283, 32009, 23]\n"
     ]
    },
    {
     "name": "stdout",
     "output_type": "stream",
     "text": [
      "349 [19289, 16453, 919]\n"
     ]
    },
    {
     "name": "stdout",
     "output_type": "stream",
     "text": [
      "353 [9859, 2131, 257]\n"
     ]
    },
    {
     "name": "stdout",
     "output_type": "stream",
     "text": [
      "359 [4259, 23291, 661]\n"
     ]
    },
    {
     "name": "stdout",
     "output_type": "stream",
     "text": [
      "367 [1069, 4973, 271]\n"
     ]
    },
    {
     "name": "stdout",
     "output_type": "stream",
     "text": [
      "373 [11579, 787, 389]\n"
     ]
    },
    {
     "name": "stdout",
     "output_type": "stream",
     "text": [
      "379 [1259, 331, 1049]\n"
     ]
    },
    {
     "name": "stdout",
     "output_type": "stream",
     "text": [
      "383 [5569, 4567, 199]\n"
     ]
    },
    {
     "name": "stdout",
     "output_type": "stream",
     "text": [
      "389 [14563, 15817, 23]\n"
     ]
    },
    {
     "name": "stdout",
     "output_type": "stream",
     "text": [
      "397 [1583, 4801, 157]\n"
     ]
    },
    {
     "name": "stdout",
     "output_type": "stream",
     "text": [
      "401 [24709, 6311, 547]\n",
      "CPU times: user 9h 40min 36s, sys: 54.5 s, total: 9h 41min 31s\n",
      "Wall time: 15h 23min 11s\n"
     ]
    }
   ],
   "source": [
    "%%time\n",
    "P=Primes()\n",
    "n=10**5\n",
    "q=11\n",
    "p=307\n",
    "while p < 400: \n",
    "    p=P.next(p)\n",
    "    f=fekete(q,p)\n",
    "    g = reduced_fekete(f)\n",
    "    print(p, triple(g,n))"
   ]
  },
  {
   "cell_type": "code",
   "execution_count": 12,
   "metadata": {
    "collapsed": false
   },
   "outputs": [
    {
     "name": "stdout",
     "output_type": "stream",
     "text": [
      "409 [4447, 6871, 1367]\n"
     ]
    },
    {
     "name": "stdout",
     "output_type": "stream",
     "text": [
      "419 [55997, 39313, 787]\n"
     ]
    },
    {
     "name": "stdout",
     "output_type": "stream",
     "text": [
      "421 [8609, 7129, 317]\n"
     ]
    },
    {
     "name": "stdout",
     "output_type": "stream",
     "text": [
      "431 [1619, 19861, 751]\n"
     ]
    },
    {
     "name": "stdout",
     "output_type": "stream",
     "text": [
      "433 [11173, 3299, 17]\n"
     ]
    },
    {
     "name": "stdout",
     "output_type": "stream",
     "text": [
      "439 [29983, 20627, 149]\n"
     ]
    },
    {
     "name": "stdout",
     "output_type": "stream",
     "text": [
      "443 [5303, 26863, 2297]\n"
     ]
    },
    {
     "name": "stdout",
     "output_type": "stream",
     "text": [
      "449 [19079, 733, 47]\n"
     ]
    },
    {
     "name": "stdout",
     "output_type": "stream",
     "text": [
      "457 [1741, 10771, 37]\n",
      "CPU times: user 11h 46min 48s, sys: 50.4 s, total: 11h 47min 38s\n",
      "Wall time: 12h 1min 54s\n"
     ]
    }
   ],
   "source": [
    "%%time\n",
    "P=Primes()\n",
    "n=10**5\n",
    "q=11\n",
    "p=401\n",
    "while p < 450: \n",
    "    p=P.next(p)\n",
    "    f=fekete(q,p)\n",
    "    g = reduced_fekete(f)\n",
    "    print(p, triple(g,n))"
   ]
  },
  {
   "cell_type": "code",
   "execution_count": 13,
   "metadata": {
    "collapsed": false
   },
   "outputs": [
    {
     "name": "stdout",
     "output_type": "stream",
     "text": [
      "461 [1399, 31153, 479]\n"
     ]
    },
    {
     "name": "stdout",
     "output_type": "stream",
     "text": [
      "463 [10141, 11321, 83]\n"
     ]
    },
    {
     "name": "stdout",
     "output_type": "stream",
     "text": [
      "467 [47713, 15359, 617]\n"
     ]
    },
    {
     "name": "stdout",
     "output_type": "stream",
     "text": [
      "479 [40801, 3911, 1361]\n"
     ]
    },
    {
     "name": "stdout",
     "output_type": "stream",
     "text": [
      "487 [36263, 28859, 151]\n"
     ]
    },
    {
     "name": "stdout",
     "output_type": "stream",
     "text": [
      "491 [21613, 41411, 919]\n"
     ]
    },
    {
     "name": "stdout",
     "output_type": "stream",
     "text": [
      "499 [63211, 1907, 101]\n"
     ]
    },
    {
     "name": "stdout",
     "output_type": "stream",
     "text": [
      "503 [8101, 80021, 863]\n",
      "CPU times: user 1d 2h 36min 52s, sys: 2min 25s, total: 1d 2h 39min 17s\n",
      "Wall time: 1d 21h 34min 59s\n"
     ]
    }
   ],
   "source": [
    "%%time\n",
    "P=Primes()\n",
    "n=10**5\n",
    "q=11\n",
    "p=457\n",
    "while p < 500: \n",
    "    p=P.next(p)\n",
    "    f=fekete(q,p)\n",
    "    g = reduced_fekete(f)\n",
    "    print(p, triple(g,n))"
   ]
  },
  {
   "cell_type": "markdown",
   "metadata": {
    "collapsed": false
   },
   "source": [
    " # Galois group of $f_{11p}$."
   ]
  },
  {
   "cell_type": "markdown",
   "metadata": {
    "collapsed": false
   },
   "source": [
    "First, we consider the case $p \\equiv 1 \\pmod{11}$. In this case, the discriminant of $f_{11p}$ is not a perfect square. To show that the Galois group of $f_{11p}$ is $(\\Z/2)^n \\rtimes S_n$ where $\\deg(f_{11p})=2n$, we need to show that the Galois group of $f_{11p}$ contains a 2-cycle. The following codes find the smallest prime $q$ such that the reduction of $f_{11p}$ modulo $q$ produces a 2-cycle. "
   ]
  },
  {
   "cell_type": "code",
   "execution_count": 14,
   "metadata": {
    "collapsed": false
   },
   "outputs": [
    {
     "name": "stdout",
     "output_type": "stream",
     "text": [
      "23 431\n"
     ]
    },
    {
     "name": "stdout",
     "output_type": "stream",
     "text": [
      "67 3329\n"
     ]
    },
    {
     "name": "stdout",
     "output_type": "stream",
     "text": [
      "89 4583\n",
      "CPU times: user 8min 55s, sys: 1.12 s, total: 8min 56s\n",
      "Wall time: 18min 12s\n"
     ]
    }
   ],
   "source": [
    "%%time\n",
    "P=Primes()\n",
    "n=10**5\n",
    "q=11\n",
    "p=11\n",
    "while p < 100: \n",
    "    p=P.next(p)\n",
    "    if p % q ==1: \n",
    "        f = fekete(q,p)\n",
    "        print(p, two_cycle(f,n))"
   ]
  },
  {
   "cell_type": "code",
   "execution_count": 15,
   "metadata": {
    "collapsed": false
   },
   "outputs": [
    {
     "name": "stdout",
     "output_type": "stream",
     "text": [
      "199 7937\n",
      "CPU times: user 1h 14min 48s, sys: 9.13 s, total: 1h 14min 57s\n",
      "Wall time: 2h 32min 42s\n"
     ]
    }
   ],
   "source": [
    "%%time\n",
    "P=Primes()\n",
    "n=10**5\n",
    "q=11\n",
    "p=89\n",
    "while p < 200: \n",
    "    p=P.next(p)\n",
    "    if p % q ==1: \n",
    "        f = fekete(q,p)\n",
    "        print(p, two_cycle(f,n))"
   ]
  },
  {
   "cell_type": "code",
   "execution_count": 17,
   "metadata": {
    "collapsed": false
   },
   "outputs": [
    {
     "name": "stdout",
     "output_type": "stream",
     "text": [
      "331 193\n"
     ]
    },
    {
     "name": "stdout",
     "output_type": "stream",
     "text": [
      "353 4231\n"
     ]
    },
    {
     "name": "stdout",
     "output_type": "stream",
     "text": [
      "397 34033\n",
      "CPU times: user 1d 10h 25min 37s, sys: 4min 3s, total: 1d 10h 29min 41s\n",
      "Wall time: 2d 20h 57min 3s\n"
     ]
    }
   ],
   "source": [
    "%%time\n",
    "P=Primes()\n",
    "n=10**5\n",
    "q=11\n",
    "p=200\n",
    "while p < 400: \n",
    "    p=P.next(p)\n",
    "    if p % q ==1: \n",
    "        f = fekete(q,p)\n",
    "        print(p, two_cycle(f,n))"
   ]
  },
  {
   "cell_type": "code",
   "execution_count": 18,
   "metadata": {
    "collapsed": false
   },
   "outputs": [
    {
     "name": "stdout",
     "output_type": "stream",
     "text": [
      "419 39313\n"
     ]
    },
    {
     "name": "stdout",
     "output_type": "stream",
     "text": [
      "463 4397\n",
      "CPU times: user 2d 5h 2min 7s, sys: 7min 39s, total: 2d 5h 9min 46s\n",
      "Wall time: 5d 13h 26min 14s\n"
     ]
    }
   ],
   "source": [
    "%%time\n",
    "P=Primes()\n",
    "n=10**5\n",
    "q=11\n",
    "p=400\n",
    "while p < 500: \n",
    "    p=P.next(p)\n",
    "    if p % q ==1: \n",
    "        f = fekete(q,p)\n",
    "        print(p, two_cycle(f,n))"
   ]
  },
  {
   "cell_type": "markdown",
   "metadata": {
    "collapsed": false
   },
   "source": [
    "We next consider the case $p \\not \\equiv 1 \\pmod{11}$. In this case, the discriminant of $f_{11p}$ is a perfect square. To verify that it is maximal, we need to find a 2-4 cycle. "
   ]
  },
  {
   "cell_type": "code",
   "execution_count": 19,
   "metadata": {
    "collapsed": false
   },
   "outputs": [
    {
     "name": "stdout",
     "output_type": "stream",
     "text": [
      "13 1423\n"
     ]
    },
    {
     "name": "stdout",
     "output_type": "stream",
     "text": [
      "17 2081\n"
     ]
    },
    {
     "name": "stdout",
     "output_type": "stream",
     "text": [
      "19 47\n"
     ]
    },
    {
     "name": "stdout",
     "output_type": "stream",
     "text": [
      "29 1873\n"
     ]
    },
    {
     "name": "stdout",
     "output_type": "stream",
     "text": [
      "31 1861\n"
     ]
    },
    {
     "name": "stdout",
     "output_type": "stream",
     "text": [
      "37 4733\n"
     ]
    },
    {
     "name": "stdout",
     "output_type": "stream",
     "text": [
      "41 11731\n"
     ]
    },
    {
     "name": "stdout",
     "output_type": "stream",
     "text": [
      "43 937\n"
     ]
    },
    {
     "name": "stdout",
     "output_type": "stream",
     "text": [
      "47 1093\n"
     ]
    },
    {
     "name": "stdout",
     "output_type": "stream",
     "text": [
      "53 16943\n"
     ]
    },
    {
     "name": "stdout",
     "output_type": "stream",
     "text": [
      "59 2063\n"
     ]
    },
    {
     "name": "stdout",
     "output_type": "stream",
     "text": [
      "61 4093\n"
     ]
    },
    {
     "name": "stdout",
     "output_type": "stream",
     "text": [
      "71 28279\n"
     ]
    },
    {
     "name": "stdout",
     "output_type": "stream",
     "text": [
      "73 7457\n"
     ]
    },
    {
     "name": "stdout",
     "output_type": "stream",
     "text": [
      "79 10993\n"
     ]
    },
    {
     "name": "stdout",
     "output_type": "stream",
     "text": [
      "83 17579\n"
     ]
    },
    {
     "name": "stdout",
     "output_type": "stream",
     "text": [
      "97 20173\n"
     ]
    },
    {
     "name": "stdout",
     "output_type": "stream",
     "text": [
      "101 1811\n",
      "CPU times: user 2h 41min 34s, sys: 30.8 s, total: 2h 42min 5s\n",
      "Wall time: 8h 19min 52s\n"
     ]
    }
   ],
   "source": [
    "%%time\n",
    "P=Primes()\n",
    "n=10**5\n",
    "q=11\n",
    "p=11\n",
    "while p < 100: \n",
    "    p=P.next(p)\n",
    "    if p % q !=1: \n",
    "        f = fekete(q,p)\n",
    "        print(p, search_two_four_cycle(f,n))"
   ]
  },
  {
   "cell_type": "code",
   "execution_count": 20,
   "metadata": {
    "collapsed": false
   },
   "outputs": [
    {
     "name": "stdout",
     "output_type": "stream",
     "text": [
      "103 3671\n"
     ]
    },
    {
     "name": "stdout",
     "output_type": "stream",
     "text": [
      "107 2699\n"
     ]
    },
    {
     "name": "stdout",
     "output_type": "stream",
     "text": [
      "109 53549\n"
     ]
    },
    {
     "name": "stdout",
     "output_type": "stream",
     "text": [
      "113 35677\n"
     ]
    },
    {
     "name": "stdout",
     "output_type": "stream",
     "text": [
      "127 23059\n"
     ]
    },
    {
     "name": "stdout",
     "output_type": "stream",
     "text": [
      "131 26107\n"
     ]
    },
    {
     "name": "stdout",
     "output_type": "stream",
     "text": [
      "137 5297\n"
     ]
    },
    {
     "name": "stdout",
     "output_type": "stream",
     "text": [
      "139 8537\n"
     ]
    },
    {
     "name": "stdout",
     "output_type": "stream",
     "text": [
      "149 5333\n"
     ]
    },
    {
     "name": "stdout",
     "output_type": "stream",
     "text": [
      "151 36073\n"
     ]
    },
    {
     "name": "stdout",
     "output_type": "stream",
     "text": [
      "157 6607\n"
     ]
    },
    {
     "name": "stdout",
     "output_type": "stream",
     "text": [
      "163 17419\n"
     ]
    },
    {
     "name": "stdout",
     "output_type": "stream",
     "text": [
      "167 9421\n"
     ]
    },
    {
     "name": "stdout",
     "output_type": "stream",
     "text": [
      "173 50101\n"
     ]
    },
    {
     "name": "stdout",
     "output_type": "stream",
     "text": [
      "179 11197\n"
     ]
    },
    {
     "name": "stdout",
     "output_type": "stream",
     "text": [
      "181 5683\n"
     ]
    },
    {
     "name": "stdout",
     "output_type": "stream",
     "text": [
      "191 17851\n"
     ]
    },
    {
     "name": "stdout",
     "output_type": "stream",
     "text": [
      "193 36013\n"
     ]
    },
    {
     "name": "stdout",
     "output_type": "stream",
     "text": [
      "197 27427\n"
     ]
    },
    {
     "name": "stdout",
     "output_type": "stream",
     "text": [
      "211 2719\n",
      "CPU times: user 2d 1h 33min 35s, sys: 8min 22s, total: 2d 1h 41min 58s\n",
      "Wall time: 6d 8h 12s\n"
     ]
    }
   ],
   "source": [
    "%%time\n",
    "P=Primes()\n",
    "n=10**5\n",
    "q=11\n",
    "p=101\n",
    "while p < 200: \n",
    "    p=P.next(p)\n",
    "    if p % q !=1: \n",
    "        f = fekete(q,p)\n",
    "        print(p, search_two_four_cycle(f,n))"
   ]
  },
  {
   "cell_type": "code",
   "execution_count": 21,
   "metadata": {
    "collapsed": false
   },
   "outputs": [
    {
     "name": "stdout",
     "output_type": "stream",
     "text": [
      "223 82013\n"
     ]
    },
    {
     "name": "stdout",
     "output_type": "stream",
     "text": [
      "227 5527\n"
     ]
    },
    {
     "name": "stdout",
     "output_type": "stream",
     "text": [
      "229 3407\n"
     ]
    },
    {
     "name": "stdout",
     "output_type": "stream",
     "text": [
      "233 5323\n"
     ]
    },
    {
     "name": "stdout",
     "output_type": "stream",
     "text": [
      "239 3407\n"
     ]
    },
    {
     "name": "stdout",
     "output_type": "stream",
     "text": [
      "241 34183\n"
     ]
    },
    {
     "name": "stdout",
     "output_type": "stream",
     "text": [
      "251 46049\n"
     ]
    },
    {
     "name": "stdout",
     "output_type": "stream",
     "text": [
      "257 6791\n"
     ]
    },
    {
     "name": "stdout",
     "output_type": "stream",
     "text": [
      "263 13367\n"
     ]
    },
    {
     "name": "stdout",
     "output_type": "stream",
     "text": [
      "269 92467\n"
     ]
    },
    {
     "name": "stdout",
     "output_type": "stream",
     "text": [
      "271 25301\n"
     ]
    },
    {
     "name": "stdout",
     "output_type": "stream",
     "text": [
      "277 23057\n"
     ]
    },
    {
     "name": "stdout",
     "output_type": "stream",
     "text": [
      "281 7517\n"
     ]
    },
    {
     "name": "stdout",
     "output_type": "stream",
     "text": [
      "283 4549\n"
     ]
    },
    {
     "name": "stdout",
     "output_type": "stream",
     "text": [
      "293 3967\n"
     ]
    },
    {
     "name": "stdout",
     "output_type": "stream",
     "text": [
      "307 24527\n",
      "CPU times: user 5d 22h 32min 47s, sys: 22min 23s, total: 5d 22h 55min 11s\n",
      "Wall time: 13d 17h 3min 26s\n"
     ]
    }
   ],
   "source": [
    "%%time\n",
    "P=Primes()\n",
    "n=10**5\n",
    "q=11\n",
    "p=211\n",
    "while p < 300: \n",
    "    p=P.next(p)\n",
    "    if p % q !=1: \n",
    "        f = fekete(q,p)\n",
    "        print(p, search_two_four_cycle(f,n))"
   ]
  }
 ],
 "metadata": {
  "kernelspec": {
   "display_name": "SageMath 9.4",
   "language": "sagemath",
   "metadata": {
    "cocalc": {
     "description": "Open-source mathematical software system",
     "priority": 1,
     "url": "https://www.sagemath.org/"
    }
   },
   "name": "sage-9.4",
   "resource_dir": "/ext/jupyter/kernels/sage-9.4"
  },
  "language_info": {
   "codemirror_mode": {
    "name": "ipython",
    "version": 3
   },
   "file_extension": ".py",
   "mimetype": "text/x-python",
   "name": "python",
   "nbconvert_exporter": "python",
   "pygments_lexer": "ipython3",
   "version": "3.9.5"
  }
 },
 "nbformat": 4,
 "nbformat_minor": 4
}