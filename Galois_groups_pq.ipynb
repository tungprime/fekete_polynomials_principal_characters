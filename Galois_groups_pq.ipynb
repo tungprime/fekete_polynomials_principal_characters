{
 "cells": [
  {
   "cell_type": "code",
   "execution_count": 31,
   "metadata": {
    "collapsed": false
   },
   "outputs": [
   ],
   "source": [
    "K.<a> = NumberField(x - 1)\n",
    "from sage.rings.polynomial.cyclotomic import cyclotomic_coeffs\n",
    "S = ZZ['x']\n",
    "K.<w> = NumberField(x^2 - x + 1)\n",
    "R.<x> = PolynomialRing(ZZ)\n",
    "\n",
    "\n",
    "\n",
    "def is_relatively_prime(m,n):\n",
    "    if gcd(m,n) ==1:\n",
    "        return 1\n",
    "    else:\n",
    "        return 0 \n",
    "    \n",
    "def raw_fekete(n):\n",
    "    \"Fekete polynomial with Delta odd \"\n",
    "    D=n\n",
    "    v=[is_relatively_prime(a+1,n) for a in range(0,D-1)]\n",
    "    F_D=R(v)\n",
    "    return F_D*x  \n",
    "\n",
    "def fekete_by_last_factor(n):\n",
    "    F=raw_fekete(n)\n",
    "    f = F.factor()[-1][0]\n",
    "    return f\n",
    "\n",
    "def divisor_set_general(q,p):\n",
    "    divisor = set()\n",
    "    for d in range(2, q):\n",
    "        if q%d ==1:\n",
    "            divisor.add(d)\n",
    "    for d in range(2,p):\n",
    "        if p%d==1 and d !=q:\n",
    "            divisor.add(d)\n",
    "    for d in range(2,p+q+1):\n",
    "        if (q*p+1)%d==0 and (p+q)%d==0:\n",
    "            divisor.add(d)\n",
    "    return divisor \n",
    "   \n",
    "    \n",
    "def cyclotomic_factor(q,p):\n",
    "    \"\"\"\n",
    "    return the cyclotmic factor of F_{qp}\n",
    "    \"\"\"\n",
    "    cyc_factor =x\n",
    "    divisor_set = divisor_set_general(q,p)\n",
    "    for d in divisor_set:\n",
    "        cyc_factor *=S(cyclotomic_coeffs(d))\n",
    "    return cyc_factor\n",
    "\n",
    "\n",
    "def fekete(q,p):\n",
    "    n=p*q\n",
    "    cyc_factor = cyclotomic_factor(q,p)\n",
    "    F= raw_fekete(n)\n",
    "    f,r =F.quo_rem(cyc_factor) \n",
    "    return f \n",
    "\n",
    "\n",
    "def reduced_fekete(f):\n",
    "    u=f.trace_polynomial()\n",
    "    g_D=u[0]\n",
    "    return g_D\n",
    "\n",
    "def fekete_reduction(f, q):\n",
    "    f=f.change_ring(GF(q))\n",
    "    return f.factor()        \n",
    "\n",
    "\n",
    "def two_four_cycle(f,q):\n",
    "    factor = fekete_reduction(f,q)\n",
    "    number_of_factor = len(factor)\n",
    "    #check that f is separable modulo q\n",
    "    for i in range(number_of_factor):\n",
    "        if factor[i][1] >1:\n",
    "            return False\n",
    "    number_two_cycle =0 \n",
    "    number_four_cycle =0 \n",
    "    number_even_cycle =0\n",
    "    for i in range(number_of_factor):\n",
    "        if factor[i][0].degree() ==2:\n",
    "            number_two_cycle +=1\n",
    "        if factor[i][0].degree() == 4:\n",
    "            number_four_cycle +=1 \n",
    "        if factor[i][0].degree() % 2 ==0:\n",
    "            number_even_cycle +=1\n",
    "    if number_two_cycle ==1 and number_four_cycle ==1 and number_even_cycle ==2:\n",
    "        return True\n",
    "    return False\n",
    "            \n",
    "    \n",
    "def search_two_four_cycle(f,n):\n",
    "    for q in range(n):\n",
    "        if is_prime(q):\n",
    "            if two_four_cycle(f,q):\n",
    "                return q\n",
    "    return -1 \n",
    "\n",
    "def search_two_four_cycle_2(f,m,n):\n",
    "    for q in range(m,n):\n",
    "        if is_prime(q):\n",
    "            if two_four_cycle(f,q):\n",
    "                return q\n",
    "    return -1 \n",
    "\n",
    "\n",
    "\n",
    "def almost_cycle(f,n):\n",
    "    for q in range(n):\n",
    "        if is_prime(q): \n",
    "            factor=fekete_reduction(f,q)\n",
    "            if len(factor)==3: \n",
    "                factor1=factor[0][0]\n",
    "                factor2=factor[1][0]\n",
    "                degree1=factor1.degree()\n",
    "                degree2=factor2.degree()\n",
    "                if degree1==1 and degree2==1 and factor[0][1]==1 and factor[1][1]==1 and factor[2][1]==1: \n",
    "                    return q\n",
    "    return  -1         \n",
    "                \n",
    "def irreducible(f,n):\n",
    "    for q in range(n):\n",
    "        if is_prime(q): \n",
    "            factor=fekete_reduction(f,q)\n",
    "            if len(factor)==1 and factor[0][1]==1:\n",
    "                    return q\n",
    "    return  -1         \n",
    "                \n",
    "       \n",
    "    \n",
    "def length_test_2(v):\n",
    "    #count the number of even entries in v\n",
    "    count2=0\n",
    "    for item in v:\n",
    "        if item==2:\n",
    "            count2 +=1\n",
    "    count_even=0     \n",
    "    for item in v:        \n",
    "        if item %2 ==0:\n",
    "            count_even +=1\n",
    "    if count2==count_even==1:\n",
    "        return True\n",
    "    return False    \n",
    "\n",
    "def length_test_4(v):\n",
    "    #count the number of even entries in v\n",
    "    count4=0\n",
    "    for item in v:\n",
    "        if item==4:\n",
    "            count4 +=1\n",
    "    count_even=0     \n",
    "    for item in v:        \n",
    "        if item %2 ==0:\n",
    "            count_even +=1\n",
    "    if count4==count_even==1:\n",
    "        return True\n",
    "    return False    \n",
    "\n",
    "    \n",
    "def two_cycle(f,n):\n",
    "    result=[]\n",
    "    for q in range(n):\n",
    "        v=[]\n",
    "        if is_prime(q):\n",
    "            factor=fekete_reduction(f,q)\n",
    "            for item in factor:\n",
    "                v.append(item[0].degree())\n",
    "        if sum(v)==f.degree() and length_test_2(v):\n",
    "            return q\n",
    "    return -1    \n",
    "\n",
    "def two_cycle_2(f,m,n):\n",
    "    result=[]\n",
    "    for q in range(m,n):\n",
    "        v=[]\n",
    "        if is_prime(q):\n",
    "            factor=fekete_reduction(f,q)\n",
    "            for item in factor:\n",
    "                v.append(item[0].degree())\n",
    "        if sum(v)==f.degree() and length_test_2(v):\n",
    "            return q\n",
    "    return -1 \n",
    "\n",
    "def four_cycle(f,n):\n",
    "    result=[]\n",
    "    for q in range(n):\n",
    "        v=[]\n",
    "        if is_prime(q):\n",
    "            factor=fekete_reduction(f,q)\n",
    "            for item in factor:\n",
    "                v.append(item[0].degree())\n",
    "        if sum(v)==f.degree() and length_test_4(v):\n",
    "            return q\n",
    "    return -1  \n",
    "\n",
    "def cycle(g,n):\n",
    "    for q in range(n):\n",
    "        if is_prime(q): \n",
    "            factor=fekete_reduction(g,q)\n",
    "            if len(factor)==2: \n",
    "                factor1=factor[0][0]\n",
    "                coef=factor1.degree()\n",
    "                if coef==1 and factor[0][1]==1 and factor[1][1]==1: \n",
    "                                   return q\n",
    "    return  -1   \n",
    "                    \n",
    "\n",
    "                    \n",
    "def search_quadruple(f,n):\n",
    "    irr=irreducible(f,n)\n",
    "    print(f\"f is irreducible at q= \", irr)\n",
    "    q_cycle=almost_cycle(f,n)\n",
    "    print(f\"f has an (2m-2) cycle at q=\", q_cycle)\n",
    "    q_tranposition=two_cycle(f,n)\n",
    "    print(f\"f has an 2-cycle at q=\", q_tranposition)\n",
    "    q_four_cycle=four_cycle(f,n)\n",
    "    print(f\"f has an 4-cycle at q=\", q_four_cycle)\n",
    "    \n",
    "\n",
    "def quadruple(f,n):\n",
    "    irr=irreducible(f,n)\n",
    "    q_cycle=almost_cycle(f,n)\n",
    "    q_tranposition=two_cycle(f,n)\n",
    "    q_four_cycle=four_cycle(f,n)\n",
    "    result=(irr, q_cycle, q_tranposition, q_four_cycle)\n",
    "    return result\n",
    "    \n",
    "    \n",
    "def triple(g,n):\n",
    "    irr=irreducible(g,n)\n",
    "    q_cycle=cycle(g,n)\n",
    "    q_tranposition=two_cycle(g,n)\n",
    "    result=[irr, q_cycle, q_tranposition]\n",
    "    return result\n",
    "\n",
    "def is_discriminant_a_square(q,p):\n",
    "    if p % q ==1:\n",
    "        return False\n",
    "    else:\n",
    "        if p % 4 == 1 and q % 4 ==1:\n",
    "            return False\n",
    "    return True    "
   ]
  },
  {
   "cell_type": "markdown",
   "metadata": {
    "collapsed": false
   },
   "source": [
    "# Galois group for $g_{n}$ with $n = pq$ and $n<1000$. \n",
    "\n",
    "We remark that since we already dealt with the case $q \\in \\{3, 5, 7, 11 \\}$ separately, we will only consider $q \\geq 13$. "
   ]
  },
  {
   "cell_type": "code",
   "execution_count": 18,
   "metadata": {
    "collapsed": false
   },
   "outputs": [
    {
     "name": "stdout",
     "output_type": "stream",
     "text": [
      "[13, 17, 19, 23, 29, 31, 37, 41, 43, 47, 53, 59, 61, 67, 71, 73, 79, 83, 89, 97]\n"
     ]
    }
   ],
   "source": [
    "q_list = [q for q in srange(2, 100) if is_prime(q) and q>11]\n",
    "print(q_list)"
   ]
  },
  {
   "cell_type": "markdown",
   "metadata": {
    "collapsed": false
   },
   "source": [
    "The following lines of code find the triple $(q_1, q_2, q_3)$ that guarantees that the Galois group of $g_n$ is $S_m$ where $m = \\deg(g_n)$."
   ]
  },
  {
   "cell_type": "code",
   "execution_count": 23,
   "metadata": {
    "collapsed": false
   },
   "outputs": [
    {
     "name": "stdout",
     "output_type": "stream",
     "text": [
      "[221, 13, 17] [449, 719, 193]\n"
     ]
    },
    {
     "name": "stdout",
     "output_type": "stream",
     "text": [
      "[247, 13, 19] [761, 1993, 191]\n"
     ]
    },
    {
     "name": "stdout",
     "output_type": "stream",
     "text": [
      "[299, 13, 23] [19, 503, 157]\n"
     ]
    },
    {
     "name": "stdout",
     "output_type": "stream",
     "text": [
      "[377, 13, 29] [313, 223, 241]\n"
     ]
    },
    {
     "name": "stdout",
     "output_type": "stream",
     "text": [
      "[403, 13, 31] [2969, 1021, 167]\n"
     ]
    },
    {
     "name": "stdout",
     "output_type": "stream",
     "text": [
      "[481, 13, 37] [457, 2399, 199]\n"
     ]
    },
    {
     "name": "stdout",
     "output_type": "stream",
     "text": [
      "[533, 13, 41] [1039, 881, 409]\n"
     ]
    },
    {
     "name": "stdout",
     "output_type": "stream",
     "text": [
      "[559, 13, 43] [5, 397, 383]\n"
     ]
    },
    {
     "name": "stdout",
     "output_type": "stream",
     "text": [
      "[611, 13, 47] [607, 877, 367]\n"
     ]
    },
    {
     "name": "stdout",
     "output_type": "stream",
     "text": [
      "[689, 13, 53] [991, 6971, 503]\n"
     ]
    },
    {
     "name": "stdout",
     "output_type": "stream",
     "text": [
      "[767, 13, 59] [2311, 1091, 307]\n"
     ]
    },
    {
     "name": "stdout",
     "output_type": "stream",
     "text": [
      "[793, 13, 61] [631, 12619, 463]\n"
     ]
    },
    {
     "name": "stdout",
     "output_type": "stream",
     "text": [
      "[871, 13, 67] [409, 6133, 1783]\n"
     ]
    },
    {
     "name": "stdout",
     "output_type": "stream",
     "text": [
      "[923, 13, 71] [1597, 439, 139]\n"
     ]
    },
    {
     "name": "stdout",
     "output_type": "stream",
     "text": [
      "[949, 13, 73] [2687, 7229, 1489]\n"
     ]
    },
    {
     "name": "stdout",
     "output_type": "stream",
     "text": [
      "[1027, 13, 79] [6703, 8999, 281]\n"
     ]
    },
    {
     "name": "stdout",
     "output_type": "stream",
     "text": [
      "[323, 17, 19] [127, 1163, 179]\n"
     ]
    },
    {
     "name": "stdout",
     "output_type": "stream",
     "text": [
      "[391, 17, 23] [31, 269, 499]\n"
     ]
    },
    {
     "name": "stdout",
     "output_type": "stream",
     "text": [
      "[493, 17, 29] [2647, 1327, 263]\n"
     ]
    },
    {
     "name": "stdout",
     "output_type": "stream",
     "text": [
      "[527, 17, 31] [263, 523, 109]\n"
     ]
    },
    {
     "name": "stdout",
     "output_type": "stream",
     "text": [
      "[629, 17, 37] [569, 653, 71]\n"
     ]
    },
    {
     "name": "stdout",
     "output_type": "stream",
     "text": [
      "[697, 17, 41] [5399, 761, 173]\n"
     ]
    },
    {
     "name": "stdout",
     "output_type": "stream",
     "text": [
      "[731, 17, 43] [311, 5651, 239]\n"
     ]
    },
    {
     "name": "stdout",
     "output_type": "stream",
     "text": [
      "[799, 17, 47] [463, 941, 197]\n"
     ]
    },
    {
     "name": "stdout",
     "output_type": "stream",
     "text": [
      "[901, 17, 53] [7789, 10831, 271]\n"
     ]
    },
    {
     "name": "stdout",
     "output_type": "stream",
     "text": [
      "[1003, 17, 59] [2699, 1607, 359]\n"
     ]
    },
    {
     "name": "stdout",
     "output_type": "stream",
     "text": [
      "[437, 19, 23] [37, 2399, 17]\n"
     ]
    },
    {
     "name": "stdout",
     "output_type": "stream",
     "text": [
      "[551, 19, 29] [1931, 523, 53]\n"
     ]
    },
    {
     "name": "stdout",
     "output_type": "stream",
     "text": [
      "[589, 19, 31] [1303, 2897, 223]\n"
     ]
    },
    {
     "name": "stdout",
     "output_type": "stream",
     "text": [
      "[703, 19, 37] [353, 571, 53]\n"
     ]
    },
    {
     "name": "stdout",
     "output_type": "stream",
     "text": [
      "[779, 19, 41] [1187, 2617, 881]\n"
     ]
    },
    {
     "name": "stdout",
     "output_type": "stream",
     "text": [
      "[817, 19, 43] [6857, 2311, 17]\n"
     ]
    },
    {
     "name": "stdout",
     "output_type": "stream",
     "text": [
      "[893, 19, 47] [2777, 307, 317]\n"
     ]
    },
    {
     "name": "stdout",
     "output_type": "stream",
     "text": [
      "[1007, 19, 53] [1103, 1163, 337]\n"
     ]
    },
    {
     "name": "stdout",
     "output_type": "stream",
     "text": [
      "[667, 23, 29] [43, 139, 109]\n"
     ]
    },
    {
     "name": "stdout",
     "output_type": "stream",
     "text": [
      "[713, 23, 31] [3221, 2593, 19]\n"
     ]
    },
    {
     "name": "stdout",
     "output_type": "stream",
     "text": [
      "[851, 23, 37] [1949, 11351, 401]\n"
     ]
    },
    {
     "name": "stdout",
     "output_type": "stream",
     "text": [
      "[943, 23, 41] [853, 10457, 113]\n"
     ]
    },
    {
     "name": "stdout",
     "output_type": "stream",
     "text": [
      "[989, 23, 43] [107, 3931, 83]\n"
     ]
    },
    {
     "name": "stdout",
     "output_type": "stream",
     "text": [
      "[1081, 23, 47] [563, 2609, 173]\n"
     ]
    },
    {
     "name": "stdout",
     "output_type": "stream",
     "text": [
      "[899, 29, 31] [1213, 8273, 269]\n"
     ]
    },
    {
     "name": "stdout",
     "output_type": "stream",
     "text": [
      "[1073, 29, 37] [1873, 1399, 59]\n"
     ]
    },
    {
     "name": "stdout",
     "output_type": "stream",
     "text": [
      "[1147, 31, 37] [19, 15173, 103]\n",
      "CPU times: user 16min 11s, sys: 4.75 s, total: 16min 16s\n",
      "Wall time: 17min 16s\n"
     ]
    }
   ],
   "source": [
    "%%time\n",
    "P=Primes()\n",
    "N=10**5\n",
    "q=13\n",
    "p=q\n",
    "for q in q_list: \n",
    "    p=q \n",
    "    while p*q < 1000: \n",
    "        p=P.next(p)\n",
    "        f=fekete(q,p)\n",
    "        g = reduced_fekete(f)\n",
    "        print([p*q, q, p], triple(g,N))"
   ]
  },
  {
   "cell_type": "markdown",
   "metadata": {
    "collapsed": false
   },
   "source": [
    "The following lines of code find the prime $q$ required to compute the Galois group of $f_n$. We remark that there are two cases to consider depending on whether the discriminant of $f_n$ is a square or not. "
   ]
  },
  {
   "cell_type": "code",
   "execution_count": 41,
   "metadata": {
    "collapsed": false
   },
   "outputs": [
    {
     "name": "stdout",
     "output_type": "stream",
     "text": [
      "[221, 13, 17] 1439\n"
     ]
    },
    {
     "name": "stdout",
     "output_type": "stream",
     "text": [
      "[247, 13, 19] 857\n"
     ]
    },
    {
     "name": "stdout",
     "output_type": "stream",
     "text": [
      "[299, 13, 23] 401\n"
     ]
    },
    {
     "name": "stdout",
     "output_type": "stream",
     "text": [
      "[377, 13, 29] 1427\n"
     ]
    },
    {
     "name": "stdout",
     "output_type": "stream",
     "text": [
      "[403, 13, 31] 4523\n"
     ]
    },
    {
     "name": "stdout",
     "output_type": "stream",
     "text": [
      "[481, 13, 37] 2971\n"
     ]
    },
    {
     "name": "stdout",
     "output_type": "stream",
     "text": [
      "[533, 13, 41] 2683\n"
     ]
    },
    {
     "name": "stdout",
     "output_type": "stream",
     "text": [
      "[559, 13, 43] 4051\n"
     ]
    },
    {
     "name": "stdout",
     "output_type": "stream",
     "text": [
      "[611, 13, 47] 2789\n"
     ]
    },
    {
     "name": "stdout",
     "output_type": "stream",
     "text": [
      "[689, 13, 53] 6971\n"
     ]
    },
    {
     "name": "stdout",
     "output_type": "stream",
     "text": [
      "[767, 13, 59] 887\n"
     ]
    },
    {
     "name": "stdout",
     "output_type": "stream",
     "text": [
      "[793, 13, 61] 3583\n"
     ]
    },
    {
     "name": "stdout",
     "output_type": "stream",
     "text": [
      "[871, 13, 67] 8219\n"
     ]
    },
    {
     "name": "stdout",
     "output_type": "stream",
     "text": [
      "[923, 13, 71] 9743\n"
     ]
    },
    {
     "name": "stdout",
     "output_type": "stream",
     "text": [
      "[949, 13, 73] 5107\n"
     ]
    },
    {
     "name": "stdout",
     "output_type": "stream",
     "text": [
      "[1027, 13, 79] 109\n"
     ]
    },
    {
     "name": "stdout",
     "output_type": "stream",
     "text": [
      "[323, 17, 19] 4261\n"
     ]
    },
    {
     "name": "stdout",
     "output_type": "stream",
     "text": [
      "[391, 17, 23] 4349\n"
     ]
    },
    {
     "name": "stdout",
     "output_type": "stream",
     "text": [
      "[493, 17, 29] 1327\n"
     ]
    },
    {
     "name": "stdout",
     "output_type": "stream",
     "text": [
      "[527, 17, 31] 3709\n"
     ]
    },
    {
     "name": "stdout",
     "output_type": "stream",
     "text": [
      "[629, 17, 37] 9371\n"
     ]
    },
    {
     "name": "stdout",
     "output_type": "stream",
     "text": [
      "[697, 17, 41] 3023\n"
     ]
    },
    {
     "name": "stdout",
     "output_type": "stream",
     "text": [
      "[731, 17, 43] 1061\n"
     ]
    },
    {
     "name": "stdout",
     "output_type": "stream",
     "text": [
      "[799, 17, 47] 29989\n"
     ]
    },
    {
     "name": "stdout",
     "output_type": "stream",
     "text": [
      "[901, 17, 53] 10831\n"
     ]
    },
    {
     "name": "stdout",
     "output_type": "stream",
     "text": [
      "[1003, 17, 59] 4603\n"
     ]
    },
    {
     "name": "stdout",
     "output_type": "stream",
     "text": [
      "[437, 19, 23] 659\n"
     ]
    },
    {
     "name": "stdout",
     "output_type": "stream",
     "text": [
      "[551, 19, 29] 199\n"
     ]
    },
    {
     "name": "stdout",
     "output_type": "stream",
     "text": [
      "[589, 19, 31] 7109\n"
     ]
    },
    {
     "name": "stdout",
     "output_type": "stream",
     "text": [
      "[703, 19, 37] 9871\n"
     ]
    },
    {
     "name": "stdout",
     "output_type": "stream",
     "text": [
      "[779, 19, 41] 8087\n"
     ]
    },
    {
     "name": "stdout",
     "output_type": "stream",
     "text": [
      "[817, 19, 43] 23981\n"
     ]
    },
    {
     "name": "stdout",
     "output_type": "stream",
     "text": [
      "[893, 19, 47] 13457\n"
     ]
    },
    {
     "name": "stdout",
     "output_type": "stream",
     "text": [
      "[1007, 19, 53] 8537\n"
     ]
    },
    {
     "name": "stdout",
     "output_type": "stream",
     "text": [
      "[667, 23, 29] 9013\n"
     ]
    },
    {
     "name": "stdout",
     "output_type": "stream",
     "text": [
      "[713, 23, 31] 4817\n"
     ]
    },
    {
     "name": "stdout",
     "output_type": "stream",
     "text": [
      "[851, 23, 37] 7309\n"
     ]
    },
    {
     "name": "stdout",
     "output_type": "stream",
     "text": [
      "[943, 23, 41] 2713\n"
     ]
    },
    {
     "name": "stdout",
     "output_type": "stream",
     "text": [
      "[989, 23, 43] 101\n"
     ]
    },
    {
     "name": "stdout",
     "output_type": "stream",
     "text": [
      "[1081, 23, 47] 2609\n"
     ]
    },
    {
     "name": "stdout",
     "output_type": "stream",
     "text": [
      "[899, 29, 31] 11113\n"
     ]
    },
    {
     "name": "stdout",
     "output_type": "stream",
     "text": [
      "[1073, 29, 37] 1399\n"
     ]
    },
    {
     "name": "stdout",
     "output_type": "stream",
     "text": [
      "[1147, 31, 37] 15131\n"
     ]
    }
   ],
   "source": [
    "P=Primes()\n",
    "N=10**5\n",
    "for q in q_list: \n",
    "    p=q \n",
    "    while p*q < 1000:\n",
    "        p = P.next(p)\n",
    "        f = fekete(q,p)\n",
    "        if is_discriminant_a_square(q,p):\n",
    "            print([p*q, q,p], search_two_four_cycle(f,N))\n",
    "        else:\n",
    "            print([p*q, q, p],two_cycle(f,N) )\n",
    "            \n"
   ]
  },
  {
   "cell_type": "markdown",
   "metadata": {
    "collapsed": false
   },
   "source": [
    "# Galois group for $g_{n}$ with $n = pq$ and $1000<n<1500$. \n"
   ]
  },
  {
   "cell_type": "code",
   "execution_count": 43,
   "metadata": {
    "collapsed": false
   },
   "outputs": [
    {
     "name": "stdout",
     "output_type": "stream",
     "text": [
      "[1027, 13, 79] [6703, 8999, 281]\n"
     ]
    },
    {
     "name": "stdout",
     "output_type": "stream",
     "text": [
      "[1079, 13, 83] [359, 2521, 61]\n"
     ]
    },
    {
     "name": "stdout",
     "output_type": "stream",
     "text": [
      "[1157, 13, 89] [4861, 6197, 31]\n"
     ]
    },
    {
     "name": "stdout",
     "output_type": "stream",
     "text": [
      "[1003, 17, 59] [2699, 1607, 359]\n"
     ]
    },
    {
     "name": "stdout",
     "output_type": "stream",
     "text": [
      "[1037, 17, 61] [317, 5227, 353]\n"
     ]
    },
    {
     "name": "stdout",
     "output_type": "stream",
     "text": [
      "[1139, 17, 67] [3347, 191, 821]\n"
     ]
    },
    {
     "name": "stdout",
     "output_type": "stream",
     "text": [
      "[1007, 19, 53] [1103, 1163, 337]\n"
     ]
    },
    {
     "name": "stdout",
     "output_type": "stream",
     "text": [
      "[1121, 19, 59] [5021, 1493, 1637]\n"
     ]
    },
    {
     "name": "stdout",
     "output_type": "stream",
     "text": [
      "[1081, 23, 47] [563, 2609, 173]\n"
     ]
    },
    {
     "name": "stdout",
     "output_type": "stream",
     "text": [
      "[1219, 23, 53] [1429, 1993, 5]\n"
     ]
    },
    {
     "name": "stdout",
     "output_type": "stream",
     "text": [
      "[1073, 29, 37] [1873, 1399, 59]\n"
     ]
    },
    {
     "name": "stdout",
     "output_type": "stream",
     "text": [
      "[1189, 29, 41] [7621, 7109, 83]\n"
     ]
    },
    {
     "name": "stdout",
     "output_type": "stream",
     "text": [
      "[1147, 31, 37] [19, 15173, 103]\n",
      "CPU times: user 11min 46s, sys: 3.4 s, total: 11min 49s\n",
      "Wall time: 12min 10s\n"
     ]
    }
   ],
   "source": [
    "%%time\n",
    "P=Primes()\n",
    "N=10**5\n",
    "q=13\n",
    "p=q\n",
    "for q in q_list: \n",
    "    p= 1000//q\n",
    "    while p*q < 1100 and q<p: \n",
    "        p= P.next(p)\n",
    "        f=fekete(q,p)\n",
    "        g = reduced_fekete(f)\n",
    "        print([p*q, q, p], triple(g,N))"
   ]
  },
  {
   "cell_type": "code",
   "execution_count": 44,
   "metadata": {
    "collapsed": false
   },
   "outputs": [
    {
     "name": "stdout",
     "output_type": "stream",
     "text": [
      "[1157, 13, 89] [4861, 6197, 31]\n"
     ]
    },
    {
     "name": "stdout",
     "output_type": "stream",
     "text": [
      "[1261, 13, 97] [5839, 1301, 211]\n"
     ]
    },
    {
     "name": "stdout",
     "output_type": "stream",
     "text": [
      "[1313, 13, 101] [4987, 601, 71]\n"
     ]
    },
    {
     "name": "stdout",
     "output_type": "stream",
     "text": [
      "[1339, 13, 103] [12347, 71, 887]\n"
     ]
    },
    {
     "name": "stdout",
     "output_type": "stream",
     "text": [
      "[1391, 13, 107] [4271, 6007, 881]\n"
     ]
    },
    {
     "name": "stdout",
     "output_type": "stream",
     "text": [
      "[1417, 13, 109] [419, 9013, 389]\n"
     ]
    },
    {
     "name": "stdout",
     "output_type": "stream",
     "text": [
      "[1469, 13, 113] [9403, 1297, 587]\n"
     ]
    },
    {
     "name": "stdout",
     "output_type": "stream",
     "text": [
      "[1651, 13, 127] [373, 3089, 401]\n"
     ]
    },
    {
     "name": "stdout",
     "output_type": "stream",
     "text": [
      "[1139, 17, 67] [3347, 191, 821]\n"
     ]
    },
    {
     "name": "stdout",
     "output_type": "stream",
     "text": [
      "[1207, 17, 71] [5023, 2237, 373]\n"
     ]
    },
    {
     "name": "stdout",
     "output_type": "stream",
     "text": [
      "[1241, 17, 73] [503, 4649, 523]\n"
     ]
    },
    {
     "name": "stdout",
     "output_type": "stream",
     "text": [
      "[1343, 17, 79] [257, 1613, 251]\n"
     ]
    },
    {
     "name": "stdout",
     "output_type": "stream",
     "text": [
      "[1411, 17, 83] [1259, 3517, 97]\n"
     ]
    },
    {
     "name": "stdout",
     "output_type": "stream",
     "text": [
      "[1513, 17, 89] [1531, 8089, 1459]\n"
     ]
    },
    {
     "name": "stdout",
     "output_type": "stream",
     "text": [
      "[1121, 19, 59] [5021, 1493, 1637]\n"
     ]
    },
    {
     "name": "stdout",
     "output_type": "stream",
     "text": [
      "[1159, 19, 61] [227, 1879, 179]\n"
     ]
    },
    {
     "name": "stdout",
     "output_type": "stream",
     "text": [
      "[1273, 19, 67] [823, 9323, 269]\n"
     ]
    },
    {
     "name": "stdout",
     "output_type": "stream",
     "text": [
      "[1349, 19, 71] [5107, 163, 257]\n"
     ]
    },
    {
     "name": "stdout",
     "output_type": "stream",
     "text": [
      "[1387, 19, 73] [1459, 41, 1693]\n"
     ]
    },
    {
     "name": "stdout",
     "output_type": "stream",
     "text": [
      "[1501, 19, 79] [241, 1847, 137]\n"
     ]
    },
    {
     "name": "stdout",
     "output_type": "stream",
     "text": [
      "[1219, 23, 53] [1429, 1993, 5]\n"
     ]
    },
    {
     "name": "stdout",
     "output_type": "stream",
     "text": [
      "[1357, 23, 59] [2749, 2753, 251]\n"
     ]
    },
    {
     "name": "stdout",
     "output_type": "stream",
     "text": [
      "[1403, 23, 61] [7877, 8269, 673]\n"
     ]
    },
    {
     "name": "stdout",
     "output_type": "stream",
     "text": [
      "[1541, 23, 67] [6323, 739, 313]\n"
     ]
    },
    {
     "name": "stdout",
     "output_type": "stream",
     "text": [
      "[1189, 29, 41] [7621, 7109, 83]\n"
     ]
    },
    {
     "name": "stdout",
     "output_type": "stream",
     "text": [
      "[1247, 29, 43] [6257, 11447, 593]\n"
     ]
    },
    {
     "name": "stdout",
     "output_type": "stream",
     "text": [
      "[1363, 29, 47] [2647, 10067, 419]\n"
     ]
    },
    {
     "name": "stdout",
     "output_type": "stream",
     "text": [
      "[1537, 29, 53] [10601, 5087, 139]\n"
     ]
    },
    {
     "name": "stdout",
     "output_type": "stream",
     "text": [
      "[1147, 31, 37] [19, 15173, 103]\n"
     ]
    },
    {
     "name": "stdout",
     "output_type": "stream",
     "text": [
      "[1271, 31, 41] [11, 5563, 239]\n"
     ]
    },
    {
     "name": "stdout",
     "output_type": "stream",
     "text": [
      "[1333, 31, 43] [10729, 1439, 359]\n"
     ]
    },
    {
     "name": "stdout",
     "output_type": "stream",
     "text": [
      "[1457, 31, 47] [3323, 929, 463]\n"
     ]
    },
    {
     "name": "stdout",
     "output_type": "stream",
     "text": [
      "[1643, 31, 53] [6481, 167, 241]\n",
      "CPU times: user 52min 30s, sys: 13.3 s, total: 52min 43s\n",
      "Wall time: 55min 11s\n"
     ]
    }
   ],
   "source": [
    "%%time\n",
    "P=Primes()\n",
    "N=10**5\n",
    "for q in q_list: \n",
    "    p= 1100//q\n",
    "    while p*q < 1500 and q<p: \n",
    "        p= P.next(p)\n",
    "        f=fekete(q,p)\n",
    "        g = reduced_fekete(f)\n",
    "        print([p*q, q, p], triple(g,N))"
   ]
  },
  {
   "cell_type": "markdown",
   "metadata": {
    "collapsed": false
   },
   "source": [
    "# Galois group for $f_{n}$ with $n = pq$ and $1000<n<1500$. \n"
   ]
  },
  {
   "cell_type": "code",
   "execution_count": 45,
   "metadata": {
    "collapsed": false
   },
   "outputs": [
    {
     "name": "stdout",
     "output_type": "stream",
     "text": [
      "[1027, 13, 79] 109\n"
     ]
    },
    {
     "name": "stdout",
     "output_type": "stream",
     "text": [
      "[1079, 13, 83] 21157\n"
     ]
    },
    {
     "name": "stdout",
     "output_type": "stream",
     "text": [
      "[1157, 13, 89] 23623\n"
     ]
    },
    {
     "name": "stdout",
     "output_type": "stream",
     "text": [
      "[1261, 13, 97] 15427\n"
     ]
    },
    {
     "name": "stdout",
     "output_type": "stream",
     "text": [
      "[1313, 13, 101] 13679\n"
     ]
    },
    {
     "name": "stdout",
     "output_type": "stream",
     "text": [
      "[1339, 13, 103] 27997\n"
     ]
    },
    {
     "name": "stdout",
     "output_type": "stream",
     "text": [
      "[1391, 13, 107] 5501\n"
     ]
    },
    {
     "name": "stdout",
     "output_type": "stream",
     "text": [
      "[1417, 13, 109] 9467\n"
     ]
    },
    {
     "name": "stdout",
     "output_type": "stream",
     "text": [
      "[1469, 13, 113] 6491\n"
     ]
    },
    {
     "name": "stdout",
     "output_type": "stream",
     "text": [
      "[1651, 13, 127] 36389\n"
     ]
    },
    {
     "name": "stdout",
     "output_type": "stream",
     "text": [
      "[1003, 17, 59] 4603\n"
     ]
    },
    {
     "name": "stdout",
     "output_type": "stream",
     "text": [
      "[1037, 17, 61] 19\n"
     ]
    },
    {
     "name": "stdout",
     "output_type": "stream",
     "text": [
      "[1139, 17, 67] 2503\n"
     ]
    },
    {
     "name": "stdout",
     "output_type": "stream",
     "text": [
      "[1207, 17, 71] 1451\n"
     ]
    },
    {
     "name": "stdout",
     "output_type": "stream",
     "text": [
      "[1241, 17, 73] 10247\n"
     ]
    },
    {
     "name": "stdout",
     "output_type": "stream",
     "text": [
      "[1343, 17, 79] 23593\n"
     ]
    },
    {
     "name": "stdout",
     "output_type": "stream",
     "text": [
      "[1411, 17, 83] 36541\n"
     ]
    },
    {
     "name": "stdout",
     "output_type": "stream",
     "text": [
      "[1513, 17, 89] 2371\n"
     ]
    },
    {
     "name": "stdout",
     "output_type": "stream",
     "text": [
      "[1007, 19, 53] 8537\n"
     ]
    },
    {
     "name": "stdout",
     "output_type": "stream",
     "text": [
      "[1121, 19, 59] 3547\n"
     ]
    },
    {
     "name": "stdout",
     "output_type": "stream",
     "text": [
      "[1159, 19, 61] 1223\n"
     ]
    },
    {
     "name": "stdout",
     "output_type": "stream",
     "text": [
      "[1273, 19, 67] 42397\n"
     ]
    },
    {
     "name": "stdout",
     "output_type": "stream",
     "text": [
      "[1349, 19, 71] 25889\n"
     ]
    },
    {
     "name": "stdout",
     "output_type": "stream",
     "text": [
      "[1387, 19, 73] 5237\n"
     ]
    },
    {
     "name": "stdout",
     "output_type": "stream",
     "text": [
      "[1501, 19, 79] 25603\n"
     ]
    },
    {
     "name": "stdout",
     "output_type": "stream",
     "text": [
      "[1081, 23, 47] 2609\n"
     ]
    },
    {
     "name": "stdout",
     "output_type": "stream",
     "text": [
      "[1219, 23, 53] 36739\n"
     ]
    },
    {
     "name": "stdout",
     "output_type": "stream",
     "text": [
      "[1357, 23, 59] 5501\n"
     ]
    },
    {
     "name": "stdout",
     "output_type": "stream",
     "text": [
      "[1403, 23, 61] 2237\n"
     ]
    },
    {
     "name": "stdout",
     "output_type": "stream",
     "text": [
      "[1541, 23, 67] 37447\n"
     ]
    },
    {
     "name": "stdout",
     "output_type": "stream",
     "text": [
      "[1073, 29, 37] 1399\n"
     ]
    },
    {
     "name": "stdout",
     "output_type": "stream",
     "text": [
      "[1189, 29, 41] 1567\n"
     ]
    },
    {
     "name": "stdout",
     "output_type": "stream",
     "text": [
      "[1247, 29, 43] 5303\n"
     ]
    },
    {
     "name": "stdout",
     "output_type": "stream",
     "text": [
      "[1363, 29, 47] 991\n"
     ]
    },
    {
     "name": "stdout",
     "output_type": "stream",
     "text": [
      "[1537, 29, 53] 9203\n"
     ]
    },
    {
     "name": "stdout",
     "output_type": "stream",
     "text": [
      "[1147, 31, 37] 15131\n"
     ]
    },
    {
     "name": "stdout",
     "output_type": "stream",
     "text": [
      "[1271, 31, 41] 2711\n"
     ]
    },
    {
     "name": "stdout",
     "output_type": "stream",
     "text": [
      "[1333, 31, 43] 18637\n"
     ]
    },
    {
     "name": "stdout",
     "output_type": "stream",
     "text": [
      "[1457, 31, 47] 21773\n"
     ]
    },
    {
     "name": "stdout",
     "output_type": "stream",
     "text": [
      "[1643, 31, 53] 2477\n"
     ]
    }
   ],
   "source": [
    "P=Primes()\n",
    "N=10**5\n",
    "for q in q_list: \n",
    "    p= 1000//q \n",
    "    while p*q < 1500 and q<p:\n",
    "        p = P.next(p)\n",
    "        f = fekete(q,p)\n",
    "        if is_discriminant_a_square(q,p):\n",
    "            print([p*q, q,p], search_two_four_cycle(f,N))\n",
    "        else:\n",
    "            print([p*q, q, p],two_cycle(f,N) )\n",
    "            \n"
   ]
  },
  {
   "cell_type": "code",
   "execution_count": 0,
   "metadata": {
    "collapsed": false
   },
   "outputs": [
   ],
   "source": [
   ]
  }
 ],
 "metadata": {
  "kernelspec": {
   "argv": [
    "sage-9.4",
    "--python",
    "-m",
    "sage.repl.ipython_kernel",
    "--matplotlib=inline",
    "-f",
    "{connection_file}"
   ],
   "display_name": "SageMath 9.4",
   "env": {
   },
   "language": "sagemath",
   "metadata": {
    "cocalc": {
     "description": "Open-source mathematical software system",
     "priority": 1,
     "url": "https://www.sagemath.org/"
    }
   },
   "name": "sage-9.4",
   "resource_dir": "/ext/jupyter/kernels/sage-9.4"
  },
  "language_info": {
   "codemirror_mode": {
    "name": "ipython",
    "version": 3
   },
   "file_extension": ".py",
   "mimetype": "text/x-python",
   "name": "python",
   "nbconvert_exporter": "python",
   "pygments_lexer": "ipython3",
   "version": "3.9.5"
  }
 },
 "nbformat": 4,
 "nbformat_minor": 4
}