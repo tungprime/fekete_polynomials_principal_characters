{
 "cells": [
  {
   "cell_type": "code",
   "execution_count": 2,
   "metadata": {
    "collapsed": false
   },
   "outputs": [
   ],
   "source": [
    "K.<a> = NumberField(x - 1)\n",
    "from sage.rings.polynomial.cyclotomic import cyclotomic_coeffs\n",
    "S = ZZ['x']\n",
    "K.<w> = NumberField(x^2 - x + 1)\n",
    "R.<x> = PolynomialRing(ZZ)\n",
    "\n",
    "\n",
    "\n",
    "def is_relatively_prime(m,n):\n",
    "    if gcd(m,n) ==1:\n",
    "        return 1\n",
    "    else:\n",
    "        return 0 \n",
    "    \n",
    "def raw_fekete(n):\n",
    "    \"Fekete polynomial with Delta odd \"\n",
    "    D=n\n",
    "    v=[is_relatively_prime(a+1,n) for a in range(0,D-1)]\n",
    "    F_D=R(v)\n",
    "    return F_D*x  \n",
    "\n",
    "def fekete_by_last_factor(n):\n",
    "    F=raw_fekete(n)\n",
    "    f = F.factor()[-1][0]\n",
    "    return f\n",
    "\n",
    "\n",
    "def cyclotomic_factor(n):\n",
    "    \"\"\"\n",
    "    return the cyclotmic factor of F_{3p}\n",
    "    \"\"\"\n",
    "    p = n//3 \n",
    "    divisor_set = set()\n",
    "    for d in range(2,p):\n",
    "        if (p-1)%d ==0 and d!=3:\n",
    "            divisor_set.add(d)\n",
    "    if p % 4==1:\n",
    "        divisor_set.add(8)\n",
    "    cyc_factor = x\n",
    "    for d in divisor_set:\n",
    "        cyc_factor *=S(cyclotomic_coeffs(d))\n",
    "    return cyc_factor\n",
    "\n",
    "def fekete(n):\n",
    "    cyc_factor = cyclotomic_factor(n)\n",
    "    F= raw_fekete(n)\n",
    "    f,r =F.quo_rem(cyc_factor) \n",
    "    return f \n",
    "    \n",
    "        \n",
    "def reduced_fekete(d):\n",
    "    f=fekete(d)\n",
    "    u=f.trace_polynomial()\n",
    "    g_D=u[0]\n",
    "    return g_D\n",
    "\n",
    "def fekete_reduction(f, q):\n",
    "    f=f.change_ring(GF(q))\n",
    "    return f.factor()        \n",
    "\n",
    "def reduced_fekete_reduction(g,q):\n",
    "    g=g.change_ring(GF(q))\n",
    "    return g.factor()\n",
    "\n",
    "def two_four_cycle(f,q):\n",
    "    factor = fekete_reduction(f,q)\n",
    "    number_of_factor = len(factor)\n",
    "    #check that f is separable modulo q\n",
    "    for i in range(number_of_factor):\n",
    "        if factor[i][1] >1:\n",
    "            return False\n",
    "    number_two_cycle =0 \n",
    "    number_four_cycle =0 \n",
    "    number_even_cycle =0\n",
    "    for i in range(number_of_factor):\n",
    "        if factor[i][0].degree() ==2:\n",
    "            number_two_cycle +=1\n",
    "        if factor[i][0].degree() == 4:\n",
    "            number_four_cycle +=1 \n",
    "        if factor[i][0].degree() % 2 ==0:\n",
    "            number_even_cycle +=1\n",
    "    if number_two_cycle ==1 and number_four_cycle ==1 and number_even_cycle ==2:\n",
    "        return True\n",
    "    return False\n",
    "            \n",
    "    \n",
    "def search_two_four_cycle(f,n):\n",
    "    for q in range(n):\n",
    "        if is_prime(q):\n",
    "            if two_four_cycle(f,q):\n",
    "                return q\n",
    "    return -1 \n",
    "\n",
    "def search_two_four_cycle_2(f,m,n):\n",
    "    for q in range(m,n):\n",
    "        if is_prime(q):\n",
    "            if two_four_cycle(f,q):\n",
    "                return q\n",
    "    return -1 \n",
    "\n",
    "\n",
    "\n",
    "def almost_cycle(f,n):\n",
    "    for q in range(n):\n",
    "        if is_prime(q): \n",
    "            factor=fekete_reduction(f,q)\n",
    "            if len(factor)==3: \n",
    "                factor1=factor[0][0]\n",
    "                factor2=factor[1][0]\n",
    "                degree1=factor1.degree()\n",
    "                degree2=factor2.degree()\n",
    "                if degree1==1 and degree2==1 and factor[0][1]==1 and factor[1][1]==1 and factor[2][1]==1: \n",
    "                    return q\n",
    "    return  -1         \n",
    "                \n",
    "def irreducible(f,n):\n",
    "    for q in range(n):\n",
    "        if is_prime(q): \n",
    "            factor=fekete_reduction(f,q)\n",
    "            if len(factor)==1 and factor[0][1]==1:\n",
    "                    return q\n",
    "    return  -1         \n",
    "                \n",
    "       \n",
    "    \n",
    "def length_test_2(v):\n",
    "    #count the number of even entries in v\n",
    "    count2=0\n",
    "    for item in v:\n",
    "        if item==2:\n",
    "            count2 +=1\n",
    "    count_even=0     \n",
    "    for item in v:        \n",
    "        if item %2 ==0:\n",
    "            count_even +=1\n",
    "    if count2==count_even==1:\n",
    "        return True\n",
    "    return False    \n",
    "\n",
    "def length_test_4(v):\n",
    "    #count the number of even entries in v\n",
    "    count4=0\n",
    "    for item in v:\n",
    "        if item==4:\n",
    "            count4 +=1\n",
    "    count_even=0     \n",
    "    for item in v:        \n",
    "        if item %2 ==0:\n",
    "            count_even +=1\n",
    "    if count4==count_even==1:\n",
    "        return True\n",
    "    return False    \n",
    "\n",
    "    \n",
    "def two_cycle(f,n):\n",
    "    result=[]\n",
    "    for q in range(n):\n",
    "        v=[]\n",
    "        if is_prime(q):\n",
    "            factor=fekete_reduction(f,q)\n",
    "            for item in factor:\n",
    "                v.append(item[0].degree())\n",
    "        if sum(v)==f.degree() and length_test_2(v):\n",
    "            return q\n",
    "    return -1    \n",
    "\n",
    "def two_cycle_2(f,m,n):\n",
    "    result=[]\n",
    "    for q in range(m,n):\n",
    "        v=[]\n",
    "        if is_prime(q):\n",
    "            factor=fekete_reduction(f,q)\n",
    "            for item in factor:\n",
    "                v.append(item[0].degree())\n",
    "        if sum(v)==f.degree() and length_test_2(v):\n",
    "            return q\n",
    "    return -1 \n",
    "\n",
    "def four_cycle(f,n):\n",
    "    result=[]\n",
    "    for q in range(n):\n",
    "        v=[]\n",
    "        if is_prime(q):\n",
    "            factor=fekete_reduction(f,q)\n",
    "            for item in factor:\n",
    "                v.append(item[0].degree())\n",
    "        if sum(v)==f.degree() and length_test_4(v):\n",
    "            return q\n",
    "    return -1  \n",
    "\n",
    "def cycle(g,n):\n",
    "    for q in range(n):\n",
    "        if is_prime(q): \n",
    "            factor=fekete_reduction(g,q)\n",
    "            if len(factor)==2: \n",
    "                factor1=factor[0][0]\n",
    "                coef=factor1.degree()\n",
    "                if coef==1 and factor[0][1]==1 and factor[1][1]==1: \n",
    "                                   return q\n",
    "    return  -1   \n",
    "                    \n",
    "\n",
    "                    \n",
    "def search_quadruple(f,n):\n",
    "    irr=irreducible(f,n)\n",
    "    print(f\"f is irreducible at q= \", irr)\n",
    "    q_cycle=almost_cycle(f,n)\n",
    "    print(f\"f has an (2m-2) cycle at q=\", q_cycle)\n",
    "    q_tranposition=two_cycle(f,n)\n",
    "    print(f\"f has an 2-cycle at q=\", q_tranposition)\n",
    "    q_four_cycle=four_cycle(f,n)\n",
    "    print(f\"f has an 4-cycle at q=\", q_four_cycle)\n",
    "    \n",
    "\n",
    "def quadruple(f,n):\n",
    "    irr=irreducible(f,n)\n",
    "    q_cycle=almost_cycle(f,n)\n",
    "    q_tranposition=two_cycle(f,n)\n",
    "    q_four_cycle=four_cycle(f,n)\n",
    "    result=(irr, q_cycle, q_tranposition, q_four_cycle)\n",
    "    return result\n",
    "    \n",
    "    \n",
    "def triple(g,n):\n",
    "    irr=irreducible(g,n)\n",
    "    q_cycle=cycle(g,n)\n",
    "    q_tranposition=two_cycle(g,n)\n",
    "    result=[irr, q_cycle, q_tranposition]\n",
    "    return result"
   ]
  },
  {
   "cell_type": "code",
   "execution_count": 19,
   "metadata": {
    "collapsed": false
   },
   "outputs": [
    {
     "data": {
      "text/plain": [
       "x^6 - x^4 + x^3 - x^2 + 1"
      ]
     },
     "execution_count": 19,
     "metadata": {
     },
     "output_type": "execute_result"
    }
   ],
   "source": [
    "f=fekete(3*5)\n",
    "f"
   ]
  },
  {
   "cell_type": "code",
   "execution_count": 20,
   "metadata": {
    "collapsed": false
   },
   "outputs": [
    {
     "data": {
      "text/plain": [
       "x^3 - 4*x + 1"
      ]
     },
     "execution_count": 20,
     "metadata": {
     },
     "output_type": "execute_result"
    }
   ],
   "source": [
    "g=reduced_fekete(3*5)\n",
    "g"
   ]
  },
  {
   "cell_type": "code",
   "execution_count": 7,
   "metadata": {
    "collapsed": false
   },
   "outputs": [
    {
     "data": {
      "text/plain": [
       "(x^2 + x + 4) * (x^3 + 4) * (x^3 + 2*x + 1)"
      ]
     },
     "execution_count": 7,
     "metadata": {
     },
     "output_type": "execute_result"
    }
   ],
   "source": [
    "fekete_reduction(g, 7)"
   ]
  },
  {
   "cell_type": "code",
   "execution_count": 8,
   "metadata": {
    "collapsed": false
   },
   "outputs": [
    {
     "data": {
      "text/plain": [
       "(x^2 + 12*x + 1) * (x^7 + 78*x^6 + 173*x^5 + 18*x^4 + 119*x^3 + 129*x^2 + 107*x + 9) * (x^7 + 138*x^6 + 90*x^5 + 215*x^4 + 2*x^3 + 221*x^2 + 160*x + 101)"
      ]
     },
     "execution_count": 8,
     "metadata": {
     },
     "output_type": "execute_result"
    }
   ],
   "source": [
    "f=fekete(3*7)\n",
    "fekete_reduction(f,227)"
   ]
  },
  {
   "cell_type": "markdown",
   "metadata": {
    "collapsed": false
   },
   "source": [
    "# Galois group of $g_n$ where $n=3p$ and $p < 1000$"
   ]
  },
  {
   "cell_type": "code",
   "execution_count": 26,
   "metadata": {
    "collapsed": false
   },
   "outputs": [
    {
     "name": "stdout",
     "output_type": "stream",
     "text": [
      "5 [3, 2, 2]\n",
      "7 [5, 19, 7]\n",
      "11 [3, 5, 41]\n",
      "13 [29, 43, 71]\n",
      "17 [23, 199, 29]\n",
      "19 [197, 373, 7]\n",
      "23 [3, 41, 107]\n",
      "29 [43, 181, 19]\n",
      "31 [107, 23, 263]\n",
      "37 [19, 179, 67]\n",
      "41 [13, 5, 19]\n",
      "43 [73, 257, 137]\n",
      "47 [157, 547, 13]\n",
      "53 [31, 199, 37]\n",
      "59 [373, 103, 73]\n",
      "61 [751, 367, 53]\n",
      "67 [127, 73, 5]\n",
      "71 [43, 1553, 101]\n",
      "73 [173, 29, 13]\n",
      "79 [311, 101, 107]\n",
      "83 [307, 37, 541]\n",
      "89 [919, 1229, 281]\n",
      "97 [367, 149, 199]\n",
      "101 [19, 317, 17]\n"
     ]
    }
   ],
   "source": [
    "P=Primes()\n",
    "n=10**5\n",
    "p=3\n",
    "while p < 100: \n",
    "    p=P.next(p)\n",
    "    g = reduced_fekete(3*p)\n",
    "    print(p, triple(g,n))"
   ]
  },
  {
   "cell_type": "code",
   "execution_count": 27,
   "metadata": {
    "collapsed": false
   },
   "outputs": [
    {
     "name": "stdout",
     "output_type": "stream",
     "text": [
      "103 [101, 1571, 89]\n",
      "107 [401, 509, 47]\n",
      "109 [379, 211, 13]\n",
      "113 [193, 1847, 29]\n",
      "127 [5, 109, 53]\n",
      "131 [3, 367, 109]\n",
      "137 [157, 89, 211]\n",
      "139 [13, 2971, 109]\n",
      "149 [1033, 709, 461]\n",
      "151 [67, 509, 137]\n",
      "157 [1373, 83, 353]\n",
      "163 [829, 4397, 83]\n",
      "167 [739, 1567, 193]\n",
      "173 [3, 3359, 29]\n",
      "179 [331, 643, 109]\n",
      "181 [17, 197, 199]\n",
      "191 [613, 2731, 41]\n",
      "193 [967, 743, 359]\n",
      "197 [389, 349, 227]\n",
      "199 [1657, 1373, 13]\n",
      "211 [431, 167, 263]\n",
      "223 [97, 733, 1777]\n",
      "227 [229, 83, 107]\n",
      "229 [1627, 4133, 467]\n",
      "233 [3631, 1559, 89]\n",
      "239 [433, 4957, 41]\n",
      "241 [2417, 401, 317]\n",
      "251 [1549, 643, 19]\n",
      "257 [157, 2909, 137]\n",
      "263 [1249, 131, 313]\n",
      "269 [3371, 563, 281]\n",
      "271 [5, 1973, 11]\n",
      "277 [1117, 269, 467]\n",
      "281 [2459, 1097, 31]\n",
      "283 [3719, 2731, 317]\n",
      "293 [2083, 479, 109]\n",
      "307 [1231, 233, 5]\n"
     ]
    }
   ],
   "source": [
    "P=Primes()\n",
    "n=10**5\n",
    "p=101\n",
    "while p < 300: \n",
    "    p=P.next(p)\n",
    "    g = reduced_fekete(3*p)\n",
    "    print(p, triple(g,n))"
   ]
  },
  {
   "cell_type": "code",
   "execution_count": 28,
   "metadata": {
    "collapsed": false
   },
   "outputs": [
    {
     "name": "stdout",
     "output_type": "stream",
     "text": [
      "311 [1223, 1553, 37]\n",
      "313 [2389, 1597, 67]\n",
      "317 [103, 3433, 181]\n",
      "331 [5813, 401, 19]\n",
      "337 [881, 557, 7]\n",
      "347 [239, 2309, 269]\n",
      "349 [19571, 5653, 331]\n",
      "353 [2399, 2857, 227]\n",
      "359 [419, 4373, 41]\n",
      "367 [131, 3079, 83]\n",
      "373 [17519, 2039, 19]\n",
      "379 [113, 2203, 389]\n",
      "383 [1367, 1303, 751]\n",
      "389 [7237, 773, 223]\n",
      "397 [89, 1129, 131]\n",
      "401 [2879, 601, 557]\n"
     ]
    }
   ],
   "source": [
    "P=Primes()\n",
    "n=10**5\n",
    "p=307\n",
    "while p < 400: \n",
    "    p=P.next(p)\n",
    "    g = reduced_fekete(3*p)\n",
    "    print(p, triple(g,n))"
   ]
  },
  {
   "cell_type": "code",
   "execution_count": 36,
   "metadata": {
    "collapsed": false
   },
   "outputs": [
    {
     "name": "stdout",
     "output_type": "stream",
     "text": [
      "409 [1453, 997, 293]\n",
      "419 [127, 1297, 13]\n",
      "421 [6449, 3407, 103]\n",
      "431 [433, 1607, 41]\n",
      "433 [3701, 2647, 173]\n",
      "439 [31, 577, 7]\n",
      "443 [503, 1493, 11]\n",
      "449 [4733, 8581, 241]\n",
      "457 [2957, 1259, 593]\n",
      "CPU times: user 3min 33s, sys: 353 ms, total: 3min 33s\n",
      "Wall time: 3min 45s\n"
     ]
    }
   ],
   "source": [
    "%%time\n",
    "P=Primes()\n",
    "n=10**5\n",
    "p=401\n",
    "while p < 450: \n",
    "    p=P.next(p)\n",
    "    g = reduced_fekete(3*p)\n",
    "    print(p, triple(g,n))"
   ]
  },
  {
   "cell_type": "code",
   "execution_count": 37,
   "metadata": {
    "collapsed": false
   },
   "outputs": [
    {
     "name": "stdout",
     "output_type": "stream",
     "text": [
      "461 [1049, 3851, 211]\n",
      "463 [2699, 2417, 313]\n",
      "467 [2729, 131, 113]\n",
      "479 [1787, 2447, 313]\n",
      "487 [389, 4549, 7]\n",
      "491 [13691, 1153, 929]\n",
      "499 [227, 197, 5]\n",
      "503 [17, 1877, 2411]\n",
      "CPU times: user 4min 16s, sys: 278 ms, total: 4min 17s\n",
      "Wall time: 4min 21s\n"
     ]
    }
   ],
   "source": [
    "%%time\n",
    "P=Primes()\n",
    "n=10**5\n",
    "p=457\n",
    "while p < 500: \n",
    "    p=P.next(p)\n",
    "    g = reduced_fekete(3*p)\n",
    "    print(p, triple(g,n))"
   ]
  },
  {
   "cell_type": "code",
   "execution_count": 38,
   "metadata": {
    "collapsed": false
   },
   "outputs": [
    {
     "name": "stdout",
     "output_type": "stream",
     "text": [
      "509 [3, 17389, 859]\n",
      "521 [2237, 863, 349]\n",
      "523 [1973, 2843, 109]\n",
      "541 [787, 1567, 37]\n",
      "547 [2939, 457, 241]\n",
      "557 [2113, 6299, 443]\n",
      "563 [15629, 727, 241]\n",
      "569 [7757, 3919, 23]\n",
      "571 [10831, 1061, 2017]\n",
      "577 [571, 503, 7]\n",
      "587 [727, 1021, 157]\n",
      "593 [1103, 8039, 109]\n",
      "599 [4787, 7393, 47]\n",
      "601 [11117, 503, 349]\n",
      "CPU times: user 16min 34s, sys: 1.55 s, total: 16min 36s\n",
      "Wall time: 16min 50s\n"
     ]
    }
   ],
   "source": [
    "%%time\n",
    "P=Primes()\n",
    "n=10**5\n",
    "p=503\n",
    "while p < 600: \n",
    "    p=P.next(p)\n",
    "    g = reduced_fekete(3*p)\n",
    "    print(p, triple(g,n))"
   ]
  },
  {
   "cell_type": "code",
   "execution_count": 39,
   "metadata": {
    "collapsed": false
   },
   "outputs": [
    {
     "name": "stdout",
     "output_type": "stream",
     "text": [
      "607 [11149, 11351, 419]\n",
      "613 [659, 2797, 211]\n",
      "617 [2131, 6079, 151]\n",
      "619 [61, 4229, 5]\n",
      "631 [3613, 4903, 43]\n",
      "641 [6907, 577, 463]\n",
      "643 [101, 7717, 61]\n",
      "647 [3, 433, 11]\n",
      "653 [2017, 1811, 67]\n",
      "659 [2137, 10597, 631]\n",
      "661 [12107, 1973, 127]\n",
      "673 [2543, 103, 101]\n",
      "677 [3037, 4259, 587]\n",
      "683 [883, 131, 89]\n",
      "691 [2029, 1747, 83]\n",
      "701 [2819, 743, 47]\n",
      "CPU times: user 20min 51s, sys: 1.94 s, total: 20min 53s\n",
      "Wall time: 21min 40s\n"
     ]
    }
   ],
   "source": [
    "%%time\n",
    "P=Primes()\n",
    "n=10**5\n",
    "p=601\n",
    "while p < 700: \n",
    "    p=P.next(p)\n",
    "    g = reduced_fekete(3*p)\n",
    "    print(p, triple(g,n))"
   ]
  },
  {
   "cell_type": "code",
   "execution_count": 3,
   "metadata": {
    "collapsed": false
   },
   "outputs": [
    {
     "name": "stdout",
     "output_type": "stream",
     "text": [
      "709 [17389, 11497, 1187]\n",
      "719 [641, 17351, 47]\n",
      "727 [401, 32839, 1031]\n",
      "733 [2473, 8629, 251]\n",
      "739 [13, 151, 463]\n",
      "743 [101, 7829, 83]\n",
      "751 [6563, 4999, 491]\n",
      "CPU times: user 26min 23s, sys: 1.46 s, total: 26min 25s\n",
      "Wall time: 26min 51s\n"
     ]
    }
   ],
   "source": [
    "%%time\n",
    "P=Primes()\n",
    "n=10**5\n",
    "p=701\n",
    "while p < 750: \n",
    "    p=P.next(p)\n",
    "    g = reduced_fekete(3*p)\n",
    "    print(p, triple(g,n))"
   ]
  },
  {
   "cell_type": "code",
   "execution_count": 4,
   "metadata": {
    "collapsed": false
   },
   "outputs": [
    {
     "name": "stdout",
     "output_type": "stream",
     "text": [
      "757 [27107, 6529, 193]\n",
      "761 [3413, 373, 89]\n",
      "769 [12263, 4001, 31]\n",
      "773 [8681, 12979, 359]\n",
      "787 [2251, 7643, 1193]\n",
      "CPU times: user 22min 22s, sys: 1.21 s, total: 22min 23s\n",
      "Wall time: 22min 44s\n"
     ]
    }
   ],
   "source": [
    "%%time\n",
    "P=Primes()\n",
    "n=10**5\n",
    "p=751\n",
    "while p < 780: \n",
    "    p=P.next(p)\n",
    "    g = reduced_fekete(3*p)\n",
    "    print(p, triple(g,n))"
   ]
  },
  {
   "cell_type": "code",
   "execution_count": 5,
   "metadata": {
    "collapsed": false
   },
   "outputs": [
    {
     "name": "stdout",
     "output_type": "stream",
     "text": [
      "797 [6547, 6053, 193]\n",
      "809 [419, 5351, 101]\n",
      "811 [2083, 8093, 317]\n",
      "CPU times: user 8min 12s, sys: 386 ms, total: 8min 13s\n",
      "Wall time: 8min 17s\n"
     ]
    }
   ],
   "source": [
    "%%time\n",
    "P=Primes()\n",
    "n=10**5\n",
    "p=787\n",
    "while p < 810: \n",
    "    p=P.next(p)\n",
    "    g = reduced_fekete(3*p)\n",
    "    print(p, triple(g,n))"
   ]
  },
  {
   "cell_type": "code",
   "execution_count": 6,
   "metadata": {
    "collapsed": false
   },
   "outputs": [
    {
     "name": "stdout",
     "output_type": "stream",
     "text": [
      "821 [10771, 569, 521]\n",
      "823 [3709, 15937, 479]\n",
      "827 [1103, 751, 281]\n",
      "829 [2699, 337, 467]\n"
     ]
    }
   ],
   "source": [
    "%%time\n",
    "P=Primes()\n",
    "n=10**5\n",
    "p=811\n",
    "while p < 850: \n",
    "    p=P.next(p)\n",
    "    g = reduced_fekete(3*p)\n",
    "    print(p, triple(g,n))"
   ]
  },
  {
   "cell_type": "code",
   "execution_count": 4,
   "metadata": {
    "collapsed": false
   },
   "outputs": [
    {
     "name": "stdout",
     "output_type": "stream",
     "text": [
      "839 [46457, 2657, 587]\n",
      "853 [2069, 21871, 103]\n",
      "CPU times: user 24min 25s, sys: 4.01 s, total: 24min 30s\n",
      "Wall time: 25min 23s\n"
     ]
    }
   ],
   "source": [
    "%%time\n",
    "P=Primes()\n",
    "n=10**5\n",
    "p=829\n",
    "while p < 840: \n",
    "    p=P.next(p)\n",
    "    g = reduced_fekete(3*p)\n",
    "    print(p, triple(g,n))"
   ]
  },
  {
   "cell_type": "code",
   "execution_count": 5,
   "metadata": {
    "collapsed": false
   },
   "outputs": [
    {
     "name": "stdout",
     "output_type": "stream",
     "text": [
      "857 [2137, 491, 113]\n",
      "859 [1051, 8609, 347]\n",
      "863 [4733, 647, 809]\n",
      "877 [3761, 151, 659]\n",
      "CPU times: user 8min 7s, sys: 1.12 s, total: 8min 8s\n",
      "Wall time: 8min 18s\n"
     ]
    }
   ],
   "source": [
    "%%time\n",
    "P=Primes()\n",
    "n=10**5\n",
    "p=853\n",
    "while p < 870: \n",
    "    p=P.next(p)\n",
    "    g = reduced_fekete(3*p)\n",
    "    print(p, triple(g,n))"
   ]
  },
  {
   "cell_type": "code",
   "execution_count": 6,
   "metadata": {
    "collapsed": false
   },
   "outputs": [
    {
     "name": "stdout",
     "output_type": "stream",
     "text": [
      "881 [71, 347, 37]\n",
      "883 [3907, 2423, 241]\n",
      "887 [13297, 3253, 2609]\n",
      "907 [1061, 4057, 367]\n",
      "CPU times: user 11min 36s, sys: 1.49 s, total: 11min 38s\n",
      "Wall time: 11min 52s\n"
     ]
    }
   ],
   "source": [
    "%%time\n",
    "P=Primes()\n",
    "n=10**5\n",
    "p=877\n",
    "while p < 890: \n",
    "    p=P.next(p)\n",
    "    g = reduced_fekete(3*p)\n",
    "    print(p, triple(g,n))"
   ]
  },
  {
   "cell_type": "code",
   "execution_count": 3,
   "metadata": {
    "collapsed": false
   },
   "outputs": [
    {
     "name": "stdout",
     "output_type": "stream",
     "text": [
      "911 [33161, 5851, 313]\n",
      "919 [4201, 5839, 379]\n",
      "929 [397, 9733, 1607]\n",
      "CPU times: user 23min 47s, sys: 2.33 s, total: 23min 49s\n",
      "Wall time: 24min 8s\n"
     ]
    }
   ],
   "source": [
    "%%time\n",
    "P=Primes()\n",
    "n=10**5\n",
    "p=907\n",
    "while p < 920: \n",
    "    p=P.next(p)\n",
    "    g = reduced_fekete(3*p)\n",
    "    print(p, triple(g,n))"
   ]
  },
  {
   "cell_type": "code",
   "execution_count": 4,
   "metadata": {
    "collapsed": false
   },
   "outputs": [
    {
     "name": "stdout",
     "output_type": "stream",
     "text": [
      "937 [15053, 27697, 701]\n",
      "941 [5347, 1327, 19]\n",
      "947 [33703, 46769, 131]\n",
      "953 [757, 6679, 601]\n",
      "CPU times: user 57min 18s, sys: 5.36 s, total: 57min 23s\n",
      "Wall time: 58min 14s\n"
     ]
    }
   ],
   "source": [
    "%%time\n",
    "P=Primes()\n",
    "n=10**5\n",
    "p=929\n",
    "while p < 950: \n",
    "    p=P.next(p)\n",
    "    g = reduced_fekete(3*p)\n",
    "    print(p, triple(g,n))"
   ]
  },
  {
   "cell_type": "code",
   "execution_count": 4,
   "metadata": {
    "collapsed": false
   },
   "outputs": [
    {
     "name": "stdout",
     "output_type": "stream",
     "text": [
      "967 [6571, 6857, 19]\n",
      "971 [2663, 1657, 821]\n",
      "977 [3719, 607, 107]\n"
     ]
    }
   ],
   "source": [
    "%%time\n",
    "P=Primes()\n",
    "n=10**5\n",
    "p=953\n",
    "while p < 980: \n",
    "    p=P.next(p)\n",
    "    g = reduced_fekete(3*p)\n",
    "    print(p, triple(g,n))"
   ]
  },
  {
   "cell_type": "code",
   "execution_count": 3,
   "metadata": {
    "collapsed": false
   },
   "outputs": [
    {
     "name": "stdout",
     "output_type": "stream",
     "text": [
      "983 [2551, 6829, 101]\n",
      "991 [11971, 3389, 281]\n",
      "CPU times: user 11min 8s, sys: 928 ms, total: 11min 9s\n",
      "Wall time: 11min 20s\n"
     ]
    }
   ],
   "source": [
    "%%time\n",
    "P=Primes()\n",
    "n=10**5\n",
    "p=977\n",
    "while p < 990: \n",
    "    p=P.next(p)\n",
    "    g = reduced_fekete(3*p)\n",
    "    print(p, triple(g,n))"
   ]
  },
  {
   "cell_type": "code",
   "execution_count": 4,
   "metadata": {
    "collapsed": false
   },
   "outputs": [
    {
     "name": "stdout",
     "output_type": "stream",
     "text": [
      "997 [24197, 3739, 83]\n",
      "1009 [2131, 10559, 137]\n",
      "CPU times: user 18min 39s, sys: 1.24 s, total: 18min 41s\n",
      "Wall time: 18min 54s\n"
     ]
    }
   ],
   "source": [
    "%%time\n",
    "P=Primes()\n",
    "n=10**5\n",
    "p=991\n",
    "while p < 1000: \n",
    "    p=P.next(p)\n",
    "    g = reduced_fekete(3*p)\n",
    "    print(p, triple(g,n))"
   ]
  },
  {
   "cell_type": "markdown",
   "metadata": {
    "collapsed": false
   },
   "source": [
    "# Galois group of $f_{3p}$"
   ]
  },
  {
   "cell_type": "markdown",
   "metadata": {
    "collapsed": false
   },
   "source": [
    "First, we consider the case $p \\equiv 1 \\pmod{3}$. In this case, the discriminant of $f_{3p}$ is not a perfect square. To show that the Galois group of $f_{3p}$ is $(\\Z/2)^n \\rtimes S_n$ where $\\deg(f_{3p})=2n$, we need to show that the Galois group of $f_{3p}$ contains a 2-cycle. The following codes find the smallest prime $q$ such that the reduction of $f_{3p}$ modulo $q$ produces a 2-cycle. "
   ]
  },
  {
   "cell_type": "code",
   "execution_count": 5,
   "metadata": {
    "collapsed": false
   },
   "outputs": [
    {
     "name": "stdout",
     "output_type": "stream",
     "text": [
      "7 227\n",
      "13 557\n",
      "19 233\n",
      "31 641\n",
      "37 1049\n",
      "43 293\n",
      "61 11\n",
      "67 1871\n",
      "73 2699\n",
      "79 1217\n",
      "97 1091\n"
     ]
    }
   ],
   "source": [
    "P=Primes()\n",
    "n=10**5\n",
    "p=3\n",
    "while p < 100: \n",
    "    p=P.next(p)\n",
    "    if p % 3 ==1: \n",
    "        f = fekete(3*p)\n",
    "        print(p, two_cycle(f,n))"
   ]
  },
  {
   "cell_type": "code",
   "execution_count": 6,
   "metadata": {
    "collapsed": false
   },
   "outputs": [
    {
     "name": "stdout",
     "output_type": "stream",
     "text": [
      "103 1109\n",
      "109 929\n",
      "127 1163\n",
      "139 401\n",
      "151 509\n",
      "157 1061\n",
      "163 2579\n",
      "181 197\n",
      "193 11027\n",
      "199 2357\n",
      "211 9551\n",
      "223 2333\n",
      "229 557\n",
      "241 1163\n",
      "271 311\n",
      "277 269\n",
      "283 2579\n",
      "307 1223\n"
     ]
    }
   ],
   "source": [
    "P=Primes()\n",
    "n=10**5\n",
    "p=97\n",
    "while p < 300: \n",
    "    p=P.next(p)\n",
    "    if p % 3 ==1: \n",
    "        f = fekete(3*p)\n",
    "        print(p, two_cycle(f,n))"
   ]
  },
  {
   "cell_type": "code",
   "execution_count": 7,
   "metadata": {
    "collapsed": false
   },
   "outputs": [
    {
     "name": "stdout",
     "output_type": "stream",
     "text": [
      "313 2591\n",
      "331 821\n",
      "337 557\n",
      "349 881\n",
      "367 7757\n",
      "373 2039\n",
      "379 3911\n",
      "397 7817\n"
     ]
    }
   ],
   "source": [
    "P=Primes()\n",
    "n=10**5\n",
    "p=307\n",
    "while p < 400: \n",
    "    p=P.next(p)\n",
    "    if p % 3 ==1: \n",
    "        f = fekete(3*p)\n",
    "        print(p, two_cycle(f,n))"
   ]
  },
  {
   "cell_type": "code",
   "execution_count": 8,
   "metadata": {
    "collapsed": false
   },
   "outputs": [
    {
     "name": "stdout",
     "output_type": "stream",
     "text": [
      "409 827\n",
      "421 1559\n",
      "433 6323\n",
      "439 4751\n",
      "457 13163\n"
     ]
    }
   ],
   "source": [
    "P=Primes()\n",
    "n=10**5\n",
    "p=397\n",
    "while p < 450: \n",
    "    p=P.next(p)\n",
    "    if p % 3 ==1: \n",
    "        f = fekete(3*p)\n",
    "        print(p, two_cycle(f,n))"
   ]
  },
  {
   "cell_type": "code",
   "execution_count": 4,
   "metadata": {
    "collapsed": false
   },
   "outputs": [
    {
     "name": "stdout",
     "output_type": "stream",
     "text": [
      "463 227\n"
     ]
    }
   ],
   "source": [
    "P=Primes()\n",
    "n=10**5\n",
    "p=457\n",
    "while p < 500: \n",
    "    p=P.next(p)\n",
    "    if p % 3 ==1: \n",
    "        f = fekete(3*p)\n",
    "        print(p, two_cycle(f,n))"
   ]
  },
  {
   "cell_type": "code",
   "execution_count": 7,
   "metadata": {
    "collapsed": false
   },
   "outputs": [
    {
     "name": "stdout",
     "output_type": "stream",
     "text": [
      "487 8147\n",
      "499 1289\n"
     ]
    }
   ],
   "source": [
    "P=Primes()\n",
    "n=10**5\n",
    "p=463\n",
    "while p < 500: \n",
    "    p=P.next(p)\n",
    "    if p % 3 ==1: \n",
    "        f = fekete(3*p)\n",
    "        print(p, two_cycle(f,n))"
   ]
  },
  {
   "cell_type": "code",
   "execution_count": 5,
   "metadata": {
    "collapsed": false
   },
   "outputs": [
    {
     "name": "stdout",
     "output_type": "stream",
     "text": [
      "523 2039\n",
      "541 8243\n"
     ]
    }
   ],
   "source": [
    "P=Primes()\n",
    "n=10**5\n",
    "p=499\n",
    "while p < 530: \n",
    "    p=P.next(p)\n",
    "    if p % 3 ==1: \n",
    "        f = fekete(3*p)\n",
    "        print(p, two_cycle(f,n))"
   ]
  },
  {
   "cell_type": "code",
   "execution_count": 6,
   "metadata": {
    "collapsed": false
   },
   "outputs": [
    {
     "name": "stdout",
     "output_type": "stream",
     "text": [
      "547 719\n",
      "571 1061\n",
      "577 503\n",
      "601 1223\n"
     ]
    }
   ],
   "source": [
    "P=Primes()\n",
    "n=10**5\n",
    "p=541\n",
    "while p < 600: \n",
    "    p=P.next(p)\n",
    "    if p % 3 ==1: \n",
    "        f = fekete(3*p)\n",
    "        print(p, two_cycle(f,n))"
   ]
  },
  {
   "cell_type": "code",
   "execution_count": 3,
   "metadata": {
    "collapsed": false
   },
   "outputs": [
    {
     "name": "stdout",
     "output_type": "stream",
     "text": [
      "607 9491\n",
      "613 12347\n",
      "619 4229\n",
      "631 17327\n",
      "643 2531\n"
     ]
    }
   ],
   "source": [
    "P=Primes()\n",
    "n=10**5\n",
    "p=601\n",
    "while p < 650: \n",
    "    p=P.next(p)\n",
    "    if p % 3 ==1: \n",
    "        f = fekete(3*p)\n",
    "        print(p, two_cycle(f,n))"
   ]
  },
  {
   "cell_type": "code",
   "execution_count": 6,
   "metadata": {
    "collapsed": false
   },
   "outputs": [
    {
     "name": "stdout",
     "output_type": "stream",
     "text": [
      "661 257\n",
      "673 3539\n"
     ]
    }
   ],
   "source": [
    "P=Primes()\n",
    "n=10**5\n",
    "p=643\n",
    "while p < 680: \n",
    "    p=P.next(p)\n",
    "    if p % 3 ==1: \n",
    "        f = fekete(3*p)\n",
    "        print(p, two_cycle(f,n))"
   ]
  },
  {
   "cell_type": "code",
   "execution_count": 3,
   "metadata": {
    "collapsed": false
   },
   "outputs": [
    {
     "name": "stdout",
     "output_type": "stream",
     "text": [
      "691 18743\n"
     ]
    }
   ],
   "source": [
    "P=Primes()\n",
    "m=18000\n",
    "n=20000\n",
    "p=673\n",
    "while p < 690: \n",
    "    p=P.next(p)\n",
    "    if p % 3 ==1: \n",
    "        f = fekete(3*p)\n",
    "        print(p, two_cycle_2(f,m,n))"
   ]
  },
  {
   "cell_type": "code",
   "execution_count": 4,
   "metadata": {
    "collapsed": false
   },
   "outputs": [
    {
     "name": "stdout",
     "output_type": "stream",
     "text": [
      "709 3923\n",
      "727 137\n"
     ]
    }
   ],
   "source": [
    "P=Primes()\n",
    "n=10**5\n",
    "p=691\n",
    "while p < 720: \n",
    "    p=P.next(p)\n",
    "    if p % 3 ==1: \n",
    "        f = fekete(3*p)\n",
    "        print(p, two_cycle(f,n))"
   ]
  },
  {
   "cell_type": "code",
   "execution_count": 2,
   "metadata": {
    "collapsed": false
   },
   "outputs": [
    {
     "name": "stdout",
     "output_type": "stream",
     "text": [
      "733 13619\n"
     ]
    }
   ],
   "source": [
    "P=Primes()\n",
    "n=10**5\n",
    "p=727\n",
    "while p < 740: \n",
    "    p=P.next(p)\n",
    "    if p % 3 ==1: \n",
    "        f = fekete(3*p)\n",
    "        print(p, two_cycle(f,n))"
   ]
  },
  {
   "cell_type": "code",
   "execution_count": 2,
   "metadata": {
    "collapsed": false
   },
   "outputs": [
    {
     "name": "stdout",
     "output_type": "stream",
     "text": [
      "739 15233\n",
      "751 1283\n"
     ]
    }
   ],
   "source": [
    "P=Primes()\n",
    "n=10**5\n",
    "p=733\n",
    "while p < 750: \n",
    "    p=P.next(p)\n",
    "    if p % 3 ==1: \n",
    "        f = fekete(3*p)\n",
    "        print(p, two_cycle(f,n))"
   ]
  },
  {
   "cell_type": "code",
   "execution_count": 3,
   "metadata": {
    "collapsed": false
   },
   "outputs": [
    {
     "name": "stdout",
     "output_type": "stream",
     "text": [
      "757 5261\n"
     ]
    }
   ],
   "source": [
    "P=Primes()\n",
    "n=10**5\n",
    "p=751\n",
    "while p < 780: \n",
    "    p=P.next(p)\n",
    "    if p % 3 ==1: \n",
    "        f = fekete(3*p)\n",
    "        print(p, two_cycle(f,n))"
   ]
  },
  {
   "cell_type": "code",
   "execution_count": 2,
   "metadata": {
    "collapsed": false
   },
   "outputs": [
    {
     "name": "stdout",
     "output_type": "stream",
     "text": [
      "769 4673\n"
     ]
    }
   ],
   "source": [
    "P=Primes()\n",
    "n=10**5\n",
    "p=757\n",
    "while p < 770: \n",
    "    p=P.next(p)\n",
    "    if p % 3 ==1: \n",
    "        f = fekete(3*p)\n",
    "        print(p, two_cycle(f,n))"
   ]
  },
  {
   "cell_type": "code",
   "execution_count": 3,
   "metadata": {
    "collapsed": false
   },
   "outputs": [
    {
     "name": "stdout",
     "output_type": "stream",
     "text": [
      "787 2141\n"
     ]
    }
   ],
   "source": [
    "P=Primes()\n",
    "n=10**5\n",
    "p=769\n",
    "while p < 780: \n",
    "    p=P.next(p)\n",
    "    if p % 3 ==1: \n",
    "        f = fekete(3*p)\n",
    "        print(p, two_cycle(f,n))"
   ]
  },
  {
   "cell_type": "code",
   "execution_count": 6,
   "metadata": {
    "collapsed": false
   },
   "outputs": [
    {
     "name": "stdout",
     "output_type": "stream",
     "text": [
      "811 8627\n"
     ]
    }
   ],
   "source": [
    "P=Primes()\n",
    "n=10**5\n",
    "p=787\n",
    "while p < 810: \n",
    "    p=P.next(p)\n",
    "    if p % 3 ==1: \n",
    "        f = fekete(3*p)\n",
    "        print(p, two_cycle(f,n))"
   ]
  },
  {
   "cell_type": "code",
   "execution_count": 7,
   "metadata": {
    "collapsed": false
   },
   "outputs": [
    {
     "name": "stdout",
     "output_type": "stream",
     "text": [
      "823 22367\n",
      "829 773\n"
     ]
    }
   ],
   "source": [
    "P=Primes()\n",
    "n=10**5\n",
    "p=811\n",
    "while p < 830: \n",
    "    p=P.next(p)\n",
    "    if p % 3 ==1: \n",
    "        f = fekete(3*p)\n",
    "        print(p, two_cycle(f,n))"
   ]
  },
  {
   "cell_type": "code",
   "execution_count": 8,
   "metadata": {
    "collapsed": false
   },
   "outputs": [
    {
     "name": "stdout",
     "output_type": "stream",
     "text": [
      "853 14549\n"
     ]
    }
   ],
   "source": [
    "P=Primes()\n",
    "n=10**5\n",
    "p=829\n",
    "while p < 840: \n",
    "    p=P.next(p)\n",
    "    if p % 3 ==1: \n",
    "        f = fekete(3*p)\n",
    "        print(p, two_cycle(f,n))"
   ]
  },
  {
   "cell_type": "code",
   "execution_count": 2,
   "metadata": {
    "collapsed": false
   },
   "outputs": [
    {
     "name": "stdout",
     "output_type": "stream",
     "text": [
      "859 8609\n"
     ]
    }
   ],
   "source": [
    "P=Primes()\n",
    "n=10**5\n",
    "p=853\n",
    "while p < 860: \n",
    "    p=P.next(p)\n",
    "    if p % 3 ==1: \n",
    "        f = fekete(3*p)\n",
    "        print(p, two_cycle(f,n))"
   ]
  },
  {
   "cell_type": "code",
   "execution_count": 3,
   "metadata": {
    "collapsed": false
   },
   "outputs": [
    {
     "name": "stdout",
     "output_type": "stream",
     "text": [
      "877 -1\n",
      "CPU times: user 14min 18s, sys: 1.27 s, total: 14min 19s\n",
      "Wall time: 14min 35s\n"
     ]
    }
   ],
   "source": [
    "%%time \n",
    "m= 1000\n",
    "n= m+2000\n",
    "p=877\n",
    "f = fekete(3*p)\n",
    "print(p, two_cycle_2(f,m,n))"
   ]
  },
  {
   "cell_type": "code",
   "execution_count": 3,
   "metadata": {
    "collapsed": false
   },
   "outputs": [
    {
     "name": "stdout",
     "output_type": "stream",
     "text": [
      "5000\n",
      "877 -1\n",
      "CPU times: user 11min 6s, sys: 1.29 s, total: 11min 7s\n",
      "Wall time: 11min 18s\n"
     ]
    }
   ],
   "source": [
    "%%time \n",
    "m= 3000\n",
    "n= m+2000\n",
    "print(n)\n",
    "p=877\n",
    "f = fekete(3*p)\n",
    "print(p, two_cycle_2(f,m,n))"
   ]
  },
  {
   "cell_type": "code",
   "execution_count": 4,
   "metadata": {
    "collapsed": false
   },
   "outputs": [
    {
     "name": "stdout",
     "output_type": "stream",
     "text": [
      "7000\n",
      "877 -1\n",
      "CPU times: user 16min 58s, sys: 1.59 s, total: 17min\n",
      "Wall time: 17min 21s\n"
     ]
    }
   ],
   "source": [
    "%%time \n",
    "m= 5000\n",
    "n= m+2000\n",
    "print(n)\n",
    "p=877\n",
    "f = fekete(3*p)\n",
    "print(p, two_cycle_2(f,m,n))"
   ]
  },
  {
   "cell_type": "code",
   "execution_count": 5,
   "metadata": {
    "collapsed": false
   },
   "outputs": [
    {
     "name": "stdout",
     "output_type": "stream",
     "text": [
      "9000\n",
      "877 -1\n",
      "CPU times: user 14min 51s, sys: 2.5 s, total: 14min 53s\n",
      "Wall time: 15min 16s\n"
     ]
    }
   ],
   "source": [
    "%%time \n",
    "m= 7000\n",
    "n= m+2000\n",
    "print(n)\n",
    "p=877\n",
    "f = fekete(3*p)\n",
    "print(p, two_cycle_2(f,m,n))"
   ]
  },
  {
   "cell_type": "code",
   "execution_count": 6,
   "metadata": {
    "collapsed": false
   },
   "outputs": [
    {
     "name": "stdout",
     "output_type": "stream",
     "text": [
      "11000\n",
      "877 -1\n",
      "CPU times: user 13min 52s, sys: 1.59 s, total: 13min 53s\n",
      "Wall time: 14min 7s\n"
     ]
    }
   ],
   "source": [
    "%%time \n",
    "m= 9000\n",
    "n= m+2000\n",
    "print(n)\n",
    "p=877\n",
    "f = fekete(3*p)\n",
    "print(p, two_cycle_2(f,m,n))"
   ]
  },
  {
   "cell_type": "code",
   "execution_count": 7,
   "metadata": {
    "collapsed": false
   },
   "outputs": [
    {
     "name": "stdout",
     "output_type": "stream",
     "text": [
      "14000\n",
      "877 -1\n",
      "CPU times: user 22min, sys: 4.27 s, total: 22min 4s\n",
      "Wall time: 22min 40s\n"
     ]
    }
   ],
   "source": [
    "%%time \n",
    "m= 11000\n",
    "n= m+3000\n",
    "print(n)\n",
    "p=877\n",
    "f = fekete(3*p)\n",
    "print(p, two_cycle_2(f,m,n))"
   ]
  },
  {
   "cell_type": "code",
   "execution_count": 8,
   "metadata": {
    "collapsed": false
   },
   "outputs": [
    {
     "name": "stdout",
     "output_type": "stream",
     "text": [
      "17000\n",
      "877 14783\n",
      "CPU times: user 5min 10s, sys: 735 ms, total: 5min 11s\n",
      "Wall time: 5min 17s\n"
     ]
    }
   ],
   "source": [
    "%%time \n",
    "m= 14000\n",
    "n= m+3000\n",
    "print(n)\n",
    "p=877\n",
    "f = fekete(3*p)\n",
    "print(p, two_cycle_2(f,m,n))"
   ]
  },
  {
   "cell_type": "code",
   "execution_count": 11,
   "metadata": {
    "collapsed": false
   },
   "outputs": [
    {
     "name": "stdout",
     "output_type": "stream",
     "text": [
      "[883, 907, 919, 937, 967, 991, 997, 1009]\n"
     ]
    }
   ],
   "source": [
    "p = 877\n",
    "P=Primes()\n",
    "result = []\n",
    "while p<1000:\n",
    "    p=P.next(p)\n",
    "    if p % 3 ==1:\n",
    "        result.append(p)\n",
    "print(result)    "
   ]
  },
  {
   "cell_type": "code",
   "execution_count": 12,
   "metadata": {
    "collapsed": false
   },
   "outputs": [
    {
     "name": "stdout",
     "output_type": "stream",
     "text": [
      "3000\n",
      "883 2423\n",
      "CPU times: user 14min 20s, sys: 2.49 s, total: 14min 23s\n",
      "Wall time: 14min 44s\n"
     ]
    }
   ],
   "source": [
    "%%time \n",
    "m= 0\n",
    "n= m+3000\n",
    "print(n)\n",
    "p=883\n",
    "f = fekete(3*p)\n",
    "print(p, two_cycle_2(f,m,n))"
   ]
  },
  {
   "cell_type": "code",
   "execution_count": 13,
   "metadata": {
    "collapsed": false
   },
   "outputs": [
    {
     "name": "stdout",
     "output_type": "stream",
     "text": [
      "3000\n",
      "907 -1\n",
      "CPU times: user 18min 29s, sys: 3.67 s, total: 18min 33s\n",
      "Wall time: 19min 3s\n"
     ]
    }
   ],
   "source": [
    "%%time \n",
    "m= 0\n",
    "n= m+3000\n",
    "print(n)\n",
    "p=907\n",
    "f = fekete(3*p)\n",
    "print(p, two_cycle_2(f,m,n))"
   ]
  },
  {
   "cell_type": "code",
   "execution_count": 14,
   "metadata": {
    "collapsed": false
   },
   "outputs": [
    {
     "name": "stdout",
     "output_type": "stream",
     "text": [
      "6000\n",
      "907 -1\n",
      "CPU times: user 22min 26s, sys: 3.45 s, total: 22min 29s\n",
      "Wall time: 23min 4s\n"
     ]
    }
   ],
   "source": [
    "%%time \n",
    "m= 3000\n",
    "n= m+3000\n",
    "print(n)\n",
    "p=907\n",
    "f = fekete(3*p)\n",
    "print(p, two_cycle_2(f,m,n))"
   ]
  },
  {
   "cell_type": "code",
   "execution_count": 15,
   "metadata": {
    "collapsed": false
   },
   "outputs": [
    {
     "name": "stdout",
     "output_type": "stream",
     "text": [
      "9000\n",
      "907 -1\n",
      "CPU times: user 22min 58s, sys: 3.22 s, total: 23min 1s\n",
      "Wall time: 23min 38s\n"
     ]
    }
   ],
   "source": [
    "%%time \n",
    "m= 6000\n",
    "n= m+3000\n",
    "print(n)\n",
    "p=907\n",
    "f = fekete(3*p)\n",
    "print(p, two_cycle_2(f,m,n))"
   ]
  },
  {
   "cell_type": "code",
   "execution_count": 16,
   "metadata": {
    "collapsed": false
   },
   "outputs": [
    {
     "name": "stdout",
     "output_type": "stream",
     "text": [
      "12000\n",
      "907 -1\n",
      "CPU times: user 26min 16s, sys: 4.64 s, total: 26min 20s\n",
      "Wall time: 26min 56s\n"
     ]
    }
   ],
   "source": [
    "%%time \n",
    "m= 9000\n",
    "n= m+3000\n",
    "print(n)\n",
    "p=907\n",
    "f = fekete(3*p)\n",
    "print(p, two_cycle_2(f,m,n))"
   ]
  },
  {
   "cell_type": "code",
   "execution_count": 17,
   "metadata": {
    "collapsed": false
   },
   "outputs": [
    {
     "name": "stdout",
     "output_type": "stream",
     "text": [
      "15000\n",
      "907 -1\n",
      "CPU times: user 23min 45s, sys: 4.57 s, total: 23min 49s\n",
      "Wall time: 24min 19s\n"
     ]
    }
   ],
   "source": [
    "%%time \n",
    "m= 12000\n",
    "n= m+3000\n",
    "print(n)\n",
    "p=907\n",
    "f = fekete(3*p)\n",
    "print(p, two_cycle_2(f,m,n))"
   ]
  },
  {
   "cell_type": "code",
   "execution_count": 18,
   "metadata": {
    "collapsed": false
   },
   "outputs": [
    {
     "name": "stdout",
     "output_type": "stream",
     "text": [
      "18000\n",
      "907 -1\n",
      "CPU times: user 27min 3s, sys: 4.84 s, total: 27min 8s\n",
      "Wall time: 28min 5s\n"
     ]
    }
   ],
   "source": [
    "%%time \n",
    "m= 15000\n",
    "n= m+3000\n",
    "print(n)\n",
    "p=907\n",
    "f = fekete(3*p)\n",
    "print(p, two_cycle_2(f,m,n))"
   ]
  },
  {
   "cell_type": "code",
   "execution_count": 19,
   "metadata": {
    "collapsed": false
   },
   "outputs": [
    {
     "name": "stdout",
     "output_type": "stream",
     "text": [
      "21000\n",
      "907 20327\n",
      "CPU times: user 21min 48s, sys: 3.03 s, total: 21min 51s\n",
      "Wall time: 22min 45s\n"
     ]
    }
   ],
   "source": [
    "%%time \n",
    "m= 18000\n",
    "n= m+3000\n",
    "print(n)\n",
    "p=907\n",
    "f = fekete(3*p)\n",
    "print(p, two_cycle_2(f,m,n))"
   ]
  },
  {
   "cell_type": "code",
   "execution_count": 20,
   "metadata": {
    "collapsed": false
   },
   "outputs": [
    {
     "name": "stdout",
     "output_type": "stream",
     "text": [
      "3000\n",
      "919 -1\n",
      "CPU times: user 21min 39s, sys: 2.88 s, total: 21min 42s\n",
      "Wall time: 22min 19s\n"
     ]
    }
   ],
   "source": [
    "%%time \n",
    "m= 0\n",
    "n= m+3000\n",
    "print(n)\n",
    "p=919\n",
    "f = fekete(3*p)\n",
    "print(p, two_cycle_2(f,m,n))"
   ]
  },
  {
   "cell_type": "code",
   "execution_count": 21,
   "metadata": {
    "collapsed": false
   },
   "outputs": [
    {
     "name": "stdout",
     "output_type": "stream",
     "text": [
      "6000\n",
      "919 3491\n",
      "CPU times: user 2min 49s, sys: 512 ms, total: 2min 49s\n",
      "Wall time: 2min 53s\n"
     ]
    }
   ],
   "source": [
    "%%time \n",
    "m= 3000\n",
    "n= m+3000\n",
    "print(n)\n",
    "p=919\n",
    "f = fekete(3*p)\n",
    "print(p, two_cycle_2(f,m,n))"
   ]
  },
  {
   "cell_type": "code",
   "execution_count": 2,
   "metadata": {
    "collapsed": false
   },
   "outputs": [
    {
     "name": "stdout",
     "output_type": "stream",
     "text": [
      "3000\n",
      "937 509\n",
      "CPU times: user 3min 12s, sys: 441 ms, total: 3min 13s\n",
      "Wall time: 3min 17s\n"
     ]
    }
   ],
   "source": [
    "%%time \n",
    "m= 0\n",
    "n= m+3000\n",
    "print(n)\n",
    "p=937\n",
    "f = fekete(3*p)\n",
    "print(p, two_cycle_2(f,m,n))"
   ]
  },
  {
   "cell_type": "code",
   "execution_count": 3,
   "metadata": {
    "collapsed": false
   },
   "outputs": [
    {
     "name": "stdout",
     "output_type": "stream",
     "text": [
      "3000\n",
      "967 -1\n",
      "CPU times: user 24min 12s, sys: 4.56 s, total: 24min 16s\n",
      "Wall time: 25min 10s\n"
     ]
    }
   ],
   "source": [
    "%%time \n",
    "m= 0\n",
    "n= m+3000\n",
    "print(n)\n",
    "p=967\n",
    "f = fekete(3*p)\n",
    "print(p, two_cycle_2(f,m,n))"
   ]
  },
  {
   "cell_type": "code",
   "execution_count": 5,
   "metadata": {
    "collapsed": false
   },
   "outputs": [
    {
     "name": "stdout",
     "output_type": "stream",
     "text": [
      "6000\n",
      "967 -1\n",
      "CPU times: user 24min 19s, sys: 2.6 s, total: 24min 21s\n",
      "Wall time: 25min 27s\n"
     ]
    }
   ],
   "source": [
    "%%time \n",
    "m= 3000\n",
    "n= m+3000\n",
    "print(n)\n",
    "p=967\n",
    "f = fekete(3*p)\n",
    "print(p, two_cycle_2(f,m,n))"
   ]
  },
  {
   "cell_type": "code",
   "execution_count": 6,
   "metadata": {
    "collapsed": false
   },
   "outputs": [
    {
     "name": "stdout",
     "output_type": "stream",
     "text": [
      "9000\n",
      "967 6857\n",
      "CPU times: user 7min 20s, sys: 502 ms, total: 7min 21s\n",
      "Wall time: 7min 27s\n"
     ]
    }
   ],
   "source": [
    "%%time \n",
    "m= 6000\n",
    "n= m+3000\n",
    "print(n)\n",
    "p=967\n",
    "f = fekete(3*p)\n",
    "print(p, two_cycle_2(f,m,n))"
   ]
  },
  {
   "cell_type": "code",
   "execution_count": 7,
   "metadata": {
    "collapsed": false
   },
   "outputs": [
    {
     "name": "stdout",
     "output_type": "stream",
     "text": [
      "3000\n",
      "991 1091\n",
      "CPU times: user 8min 14s, sys: 533 ms, total: 8min 15s\n",
      "Wall time: 8min 22s\n"
     ]
    }
   ],
   "source": [
    "%%time \n",
    "m= 0\n",
    "n= m+3000\n",
    "print(n)\n",
    "p=991\n",
    "f = fekete(3*p)\n",
    "print(p, two_cycle_2(f,m,n))"
   ]
  },
  {
   "cell_type": "code",
   "execution_count": 8,
   "metadata": {
    "collapsed": false
   },
   "outputs": [
    {
     "name": "stdout",
     "output_type": "stream",
     "text": [
      "3000\n",
      "997 -1\n",
      "CPU times: user 25min 21s, sys: 1.87 s, total: 25min 23s\n",
      "Wall time: 26min 12s\n"
     ]
    }
   ],
   "source": [
    "%%time \n",
    "m= 0\n",
    "n= m+3000\n",
    "print(n)\n",
    "p=997\n",
    "f = fekete(3*p)\n",
    "print(p, two_cycle_2(f,m,n))"
   ]
  },
  {
   "cell_type": "code",
   "execution_count": 10,
   "metadata": {
    "collapsed": false
   },
   "outputs": [
    {
     "name": "stdout",
     "output_type": "stream",
     "text": [
      "6000\n",
      "997 -1\n",
      "CPU times: user 30min 51s, sys: 4.3 s, total: 30min 55s\n",
      "Wall time: 31min 30s\n"
     ]
    }
   ],
   "source": [
    "%%time \n",
    "m= 3000\n",
    "n= m+3000\n",
    "print(n)\n",
    "p=997\n",
    "f = fekete(3*p)\n",
    "print(p, two_cycle_2(f,m,n))"
   ]
  },
  {
   "cell_type": "code",
   "execution_count": 11,
   "metadata": {
    "collapsed": false
   },
   "outputs": [
    {
     "name": "stdout",
     "output_type": "stream",
     "text": [
      "9000\n",
      "997 7673\n",
      "CPU times: user 15min 9s, sys: 1.44 s, total: 15min 11s\n",
      "Wall time: 15min 29s\n"
     ]
    }
   ],
   "source": [
    "%%time \n",
    "m= 6000\n",
    "n= m+3000\n",
    "print(n)\n",
    "p=997\n",
    "f = fekete(3*p)\n",
    "print(p, two_cycle_2(f,m,n))"
   ]
  },
  {
   "cell_type": "markdown",
   "metadata": {
    "collapsed": false
   },
   "source": [
    "# Galois group of $f_{3p}$ when $p \\equiv 2 \\pmod{3}$\n",
    "\n",
    "In this case, the discrimiant of $f_{3p}$ is a perfect square. To verify that it is maximal, we need to find a 2-4 cycle. "
   ]
  },
  {
   "cell_type": "code",
   "execution_count": 12,
   "metadata": {
    "collapsed": false
   },
   "outputs": [
    {
     "name": "stdout",
     "output_type": "stream",
     "text": [
      "5 2\n",
      "11 193\n",
      "17 29\n",
      "23 257\n",
      "29 953\n",
      "41 263\n",
      "47 13\n",
      "53 1237\n",
      "59 719\n",
      "71 2207\n",
      "83 877\n",
      "89 281\n",
      "101 4519\n"
     ]
    }
   ],
   "source": [
    "P=Primes()\n",
    "n=10**5\n",
    "p=3\n",
    "while p < 100: \n",
    "    p=P.next(p)\n",
    "    if p % 3 ==2: \n",
    "        f = fekete(3*p)\n",
    "        print(p, search_two_four_cycle(f,n))"
   ]
  },
  {
   "cell_type": "code",
   "execution_count": 13,
   "metadata": {
    "collapsed": false
   },
   "outputs": [
    {
     "name": "stdout",
     "output_type": "stream",
     "text": [
      "107 3079\n",
      "113 1009\n",
      "131 10531\n",
      "137 2677\n",
      "149 4783\n",
      "167 3733\n",
      "173 7607\n",
      "179 5801\n",
      "191 13309\n",
      "197 4451\n",
      "CPU times: user 8min 14s, sys: 1.54 s, total: 8min 15s\n",
      "Wall time: 8min 49s\n"
     ]
    }
   ],
   "source": [
    "%%time\n",
    "P=Primes()\n",
    "n=10**5\n",
    "p=101\n",
    "while p < 200: \n",
    "    p=P.next(p)\n",
    "    if p % 3 ==2: \n",
    "        f = fekete(3*p)\n",
    "        print(p, search_two_four_cycle(f,n))"
   ]
  },
  {
   "cell_type": "code",
   "execution_count": 4,
   "metadata": {
    "collapsed": false
   },
   "outputs": [
    {
     "name": "stdout",
     "output_type": "stream",
     "text": [
      "227 7321\n",
      "233 89\n"
     ]
    }
   ],
   "source": [
    "%%time\n",
    "P=Primes()\n",
    "n=10**5\n",
    "p=197\n",
    "while p < 250: \n",
    "    p=P.next(p)\n",
    "    if p % 3 ==2: \n",
    "        f = fekete(3*p)\n",
    "        print(p, search_two_four_cycle(f,n))"
   ]
  },
  {
   "cell_type": "code",
   "execution_count": 3,
   "metadata": {
    "collapsed": false
   },
   "outputs": [
    {
     "name": "stdout",
     "output_type": "stream",
     "text": [
      "239 27791\n",
      "251 5167\n",
      "CPU times: user 12min 6s, sys: 1.58 s, total: 12min 8s\n",
      "Wall time: 12min 26s\n"
     ]
    }
   ],
   "source": [
    "%%time\n",
    "P=Primes()\n",
    "n=10**5\n",
    "p=233\n",
    "while p < 250: \n",
    "    p=P.next(p)\n",
    "    if p % 3 ==2: \n",
    "        f = fekete(3*p)\n",
    "        print(p, search_two_four_cycle(f,n))"
   ]
  },
  {
   "cell_type": "code",
   "execution_count": 4,
   "metadata": {
    "collapsed": false
   },
   "outputs": [
    {
     "name": "stdout",
     "output_type": "stream",
     "text": [
      "257 3461\n",
      "263 1997\n",
      "269 281\n",
      "CPU times: user 2min 2s, sys: 282 ms, total: 2min 2s\n",
      "Wall time: 2min 9s\n"
     ]
    }
   ],
   "source": [
    "%%time\n",
    "P=Primes()\n",
    "n=10**5\n",
    "p=251\n",
    "while p < 270: \n",
    "    p=P.next(p)\n",
    "    if p % 3 ==2: \n",
    "        f = fekete(3*p)\n",
    "        print(p, search_two_four_cycle(f,n))"
   ]
  },
  {
   "cell_type": "code",
   "execution_count": 5,
   "metadata": {
    "collapsed": false
   },
   "outputs": [
    {
     "name": "stdout",
     "output_type": "stream",
     "text": [
      "281 11657\n",
      "CPU times: user 5min 55s, sys: 1.14 s, total: 5min 56s\n",
      "Wall time: 6min 2s\n"
     ]
    }
   ],
   "source": [
    "%%time\n",
    "P=Primes()\n",
    "n=10**5\n",
    "p=269\n",
    "while p < 280: \n",
    "    p=P.next(p)\n",
    "    if p % 3 ==2: \n",
    "        f = fekete(3*p)\n",
    "        print(p, search_two_four_cycle(f,n))"
   ]
  },
  {
   "cell_type": "code",
   "execution_count": 3,
   "metadata": {
    "collapsed": false
   },
   "outputs": [
    {
     "name": "stdout",
     "output_type": "stream",
     "text": [
      "293 17053\n",
      "CPU times: user 9min 28s, sys: 1.56 s, total: 9min 30s\n",
      "Wall time: 9min 41s\n"
     ]
    }
   ],
   "source": [
    "%%time\n",
    "P=Primes()\n",
    "n=10**5\n",
    "p=281\n",
    "while p < 300: \n",
    "    p=P.next(p)\n",
    "    if p % 3 ==2: \n",
    "        f = fekete(3*p)\n",
    "        print(p, search_two_four_cycle(f,n))"
   ]
  },
  {
   "cell_type": "code",
   "execution_count": 4,
   "metadata": {
    "collapsed": false
   },
   "outputs": [
    {
     "name": "stdout",
     "output_type": "stream",
     "text": [
      "311 37\n",
      "CPU times: user 1.15 s, sys: 7.95 ms, total: 1.15 s\n",
      "Wall time: 1.26 s\n"
     ]
    }
   ],
   "source": [
    "%%time\n",
    "P=Primes()\n",
    "n=10**5\n",
    "p=293\n",
    "while p < 310: \n",
    "    p=P.next(p)\n",
    "    if p % 3 ==2: \n",
    "        f = fekete(3*p)\n",
    "        print(p, search_two_four_cycle(f,n))"
   ]
  },
  {
   "cell_type": "code",
   "execution_count": 5,
   "metadata": {
    "collapsed": false
   },
   "outputs": [
    {
     "name": "stdout",
     "output_type": "stream",
     "text": [
      "317 5081\n",
      "CPU times: user 3min 2s, sys: 278 ms, total: 3min 3s\n",
      "Wall time: 3min 12s\n"
     ]
    }
   ],
   "source": [
    "%%time\n",
    "P=Primes()\n",
    "n=10**5\n",
    "p=311\n",
    "while p < 320: \n",
    "    p=P.next(p)\n",
    "    if p % 3 ==2: \n",
    "        f = fekete(3*p)\n",
    "        print(p, search_two_four_cycle(f,n))"
   ]
  },
  {
   "cell_type": "code",
   "execution_count": 7,
   "metadata": {
    "collapsed": false
   },
   "outputs": [
    {
     "name": "stdout",
     "output_type": "stream",
     "text": [
      "347 733\n",
      "CPU times: user 25.9 s, sys: 31.9 ms, total: 25.9 s\n",
      "Wall time: 26.3 s\n"
     ]
    }
   ],
   "source": [
    "%%time\n",
    "P=Primes()\n",
    "n=10**5\n",
    "p=317\n",
    "while p < 340: \n",
    "    p=P.next(p)\n",
    "    if p % 3 ==2: \n",
    "        f = fekete(3*p)\n",
    "        print(p, search_two_four_cycle(f,n))"
   ]
  },
  {
   "cell_type": "code",
   "execution_count": 8,
   "metadata": {
    "collapsed": false
   },
   "outputs": [
    {
     "name": "stdout",
     "output_type": "stream",
     "text": [
      "353 811\n",
      "359 12239\n",
      "CPU times: user 10min 34s, sys: 1.47 s, total: 10min 35s\n",
      "Wall time: 10min 48s\n"
     ]
    }
   ],
   "source": [
    "%%time\n",
    "P=Primes()\n",
    "n=10**5\n",
    "p=347\n",
    "while p < 360: \n",
    "    p=P.next(p)\n",
    "    if p % 3 ==2: \n",
    "        f = fekete(3*p)\n",
    "        print(p, search_two_four_cycle(f,n))"
   ]
  },
  {
   "cell_type": "code",
   "execution_count": 8,
   "metadata": {
    "collapsed": false
   },
   "outputs": [
    {
     "name": "stdout",
     "output_type": "stream",
     "text": [
      "[383, 389, 401, 419, 431, 443, 449, 461, 467, 479, 491, 503, 509, 521, 557, 563, 569, 587, 593, 599]\n",
      "CPU times: user 0 ns, sys: 5.14 ms, total: 5.14 ms\n",
      "Wall time: 9.37 ms\n"
     ]
    }
   ],
   "source": [
    "%%time\n",
    "P=Primes()\n",
    "n=10**5\n",
    "p=359\n",
    "result =[]\n",
    "while p < 600:\n",
    "    p=P.next(p)\n",
    "    if p % 3 ==2:\n",
    "        result.append(p)\n",
    "print(result)    "
   ]
  },
  {
   "cell_type": "code",
   "execution_count": 9,
   "metadata": {
    "collapsed": false
   },
   "outputs": [
    {
     "name": "stdout",
     "output_type": "stream",
     "text": [
      "3000\n",
      "383 -1\n",
      "CPU times: user 2min 49s, sys: 326 ms, total: 2min 49s\n",
      "Wall time: 2min 56s\n"
     ]
    }
   ],
   "source": [
    "%%time \n",
    "m= 0\n",
    "n= m+3000\n",
    "print(n)\n",
    "p=383\n",
    "f = fekete(3*p)\n",
    "print(p, search_two_four_cycle_2(f,m,n))"
   ]
  },
  {
   "cell_type": "code",
   "execution_count": 10,
   "metadata": {
    "collapsed": false
   },
   "outputs": [
    {
     "name": "stdout",
     "output_type": "stream",
     "text": [
      "6000\n",
      "383 -1\n",
      "CPU times: user 3min 4s, sys: 282 ms, total: 3min 4s\n",
      "Wall time: 3min 15s\n"
     ]
    }
   ],
   "source": [
    "%%time \n",
    "m= 3000\n",
    "n= m+3000\n",
    "print(n)\n",
    "p=383\n",
    "f = fekete(3*p)\n",
    "print(p, search_two_four_cycle_2(f,m,n))"
   ]
  },
  {
   "cell_type": "code",
   "execution_count": 11,
   "metadata": {
    "collapsed": false
   },
   "outputs": [
    {
     "name": "stdout",
     "output_type": "stream",
     "text": [
      "9000\n",
      "383 -1\n",
      "CPU times: user 3min 6s, sys: 334 ms, total: 3min 7s\n",
      "Wall time: 3min 11s\n"
     ]
    }
   ],
   "source": [
    "%%time \n",
    "m= 6000\n",
    "n= m+3000\n",
    "print(n)\n",
    "p=383\n",
    "f = fekete(3*p)\n",
    "print(p, search_two_four_cycle_2(f,m,n))"
   ]
  },
  {
   "cell_type": "code",
   "execution_count": 12,
   "metadata": {
    "collapsed": false
   },
   "outputs": [
    {
     "name": "stdout",
     "output_type": "stream",
     "text": [
      "12000\n",
      "383 -1\n",
      "CPU times: user 3min 16s, sys: 581 ms, total: 3min 16s\n",
      "Wall time: 3min 28s\n"
     ]
    }
   ],
   "source": [
    "%%time \n",
    "m= 9000\n",
    "n= m+3000\n",
    "print(n)\n",
    "p=383\n",
    "f = fekete(3*p)\n",
    "print(p, search_two_four_cycle_2(f,m,n))"
   ]
  },
  {
   "cell_type": "code",
   "execution_count": 8,
   "metadata": {
    "collapsed": false
   },
   "outputs": [
    {
     "name": "stdout",
     "output_type": "stream",
     "text": [
      "15000\n",
      "367 -1\n",
      "CPU times: user 2min 51s, sys: 231 ms, total: 2min 51s\n",
      "Wall time: 2min 57s\n"
     ]
    }
   ],
   "source": [
    "%%time \n",
    "m= 12000\n",
    "n= m+3000\n",
    "print(n)\n",
    "p=383\n",
    "f = fekete(3*p)\n",
    "print(p, search_two_four_cycle_2(f,m,n))"
   ]
  },
  {
   "cell_type": "code",
   "execution_count": 13,
   "metadata": {
    "collapsed": false
   },
   "outputs": [
    {
     "name": "stdout",
     "output_type": "stream",
     "text": [
      "18000\n",
      "383 -1\n",
      "CPU times: user 3min 33s, sys: 350 ms, total: 3min 34s\n",
      "Wall time: 3min 50s\n"
     ]
    }
   ],
   "source": [
    "%%time \n",
    "m= 15000\n",
    "n= m+3000\n",
    "print(n)\n",
    "p=383\n",
    "f = fekete(3*p)\n",
    "print(p, search_two_four_cycle_2(f,m,n))"
   ]
  },
  {
   "cell_type": "code",
   "execution_count": 14,
   "metadata": {
    "collapsed": false
   },
   "outputs": [
    {
     "name": "stdout",
     "output_type": "stream",
     "text": [
      "21000\n",
      "383 -1\n",
      "CPU times: user 3min 9s, sys: 330 ms, total: 3min 9s\n",
      "Wall time: 3min 22s\n"
     ]
    }
   ],
   "source": [
    "%%time \n",
    "m= 18000\n",
    "n= m+3000\n",
    "print(n)\n",
    "p=383\n",
    "f = fekete(3*p)\n",
    "print(p, search_two_four_cycle_2(f,m,n))"
   ]
  },
  {
   "cell_type": "code",
   "execution_count": 3,
   "metadata": {
    "collapsed": false
   },
   "outputs": [
    {
     "name": "stdout",
     "output_type": "stream",
     "text": [
      "24000\n",
      "383 23539\n",
      "CPU times: user 2min 41s, sys: 219 ms, total: 2min 41s\n",
      "Wall time: 2min 43s\n"
     ]
    }
   ],
   "source": [
    "%%time \n",
    "m= 21000\n",
    "n= m+3000\n",
    "print(n)\n",
    "p=383\n",
    "f = fekete(3*p)\n",
    "print(p, search_two_four_cycle_2(f,m,n))"
   ]
  },
  {
   "cell_type": "code",
   "execution_count": 4,
   "metadata": {
    "collapsed": false
   },
   "outputs": [
    {
     "name": "stdout",
     "output_type": "stream",
     "text": [
      "3000\n",
      "389 -1\n",
      "CPU times: user 2min 41s, sys: 182 ms, total: 2min 41s\n",
      "Wall time: 2min 45s\n"
     ]
    }
   ],
   "source": [
    "%%time \n",
    "m= 0\n",
    "n= m+3000\n",
    "print(n)\n",
    "p=389\n",
    "f = fekete(3*p)\n",
    "print(p, search_two_four_cycle_2(f,m,n))"
   ]
  },
  {
   "cell_type": "code",
   "execution_count": 7,
   "metadata": {
    "collapsed": false
   },
   "outputs": [
    {
     "name": "stdout",
     "output_type": "stream",
     "text": [
      "6000\n",
      "389 -1\n",
      "CPU times: user 3min, sys: 182 ms, total: 3min 1s\n",
      "Wall time: 3min 3s\n"
     ]
    }
   ],
   "source": [
    "%%time \n",
    "m= 3000\n",
    "n= m+3000\n",
    "print(n)\n",
    "p=389\n",
    "f = fekete(3*p)\n",
    "print(p, search_two_four_cycle_2(f,m,n))"
   ]
  },
  {
   "cell_type": "code",
   "execution_count": 8,
   "metadata": {
    "collapsed": false
   },
   "outputs": [
    {
     "name": "stdout",
     "output_type": "stream",
     "text": [
      "9000\n",
      "389 6733\n",
      "CPU times: user 52.5 s, sys: 151 ms, total: 52.7 s\n",
      "Wall time: 53.4 s\n"
     ]
    }
   ],
   "source": [
    "%%time \n",
    "m= 6000\n",
    "n= m+3000\n",
    "print(n)\n",
    "p=389\n",
    "f = fekete(3*p)\n",
    "print(p, search_two_four_cycle_2(f,m,n))"
   ]
  },
  {
   "cell_type": "code",
   "execution_count": 9,
   "metadata": {
    "collapsed": false
   },
   "outputs": [
    {
     "name": "stdout",
     "output_type": "stream",
     "text": [
      "3000\n",
      "401 -1\n",
      "CPU times: user 2min 57s, sys: 381 ms, total: 2min 57s\n",
      "Wall time: 3min\n"
     ]
    }
   ],
   "source": [
    "%%time \n",
    "m= 0\n",
    "n= m+3000\n",
    "print(n)\n",
    "p=401\n",
    "f = fekete(3*p)\n",
    "print(p, search_two_four_cycle_2(f,m,n))"
   ]
  },
  {
   "cell_type": "code",
   "execution_count": 10,
   "metadata": {
    "collapsed": false
   },
   "outputs": [
    {
     "name": "stdout",
     "output_type": "stream",
     "text": [
      "6000\n",
      "401 -1\n",
      "CPU times: user 3min 47s, sys: 238 ms, total: 3min 47s\n",
      "Wall time: 3min 51s\n"
     ]
    }
   ],
   "source": [
    "%%time \n",
    "m= 3000\n",
    "n= m+3000\n",
    "print(n)\n",
    "p=401\n",
    "f = fekete(3*p)\n",
    "print(p, search_two_four_cycle_2(f,m,n))"
   ]
  },
  {
   "cell_type": "code",
   "execution_count": 12,
   "metadata": {
    "collapsed": false
   },
   "outputs": [
    {
     "name": "stdout",
     "output_type": "stream",
     "text": [
      "9000\n",
      "401 -1\n",
      "CPU times: user 3min 2s, sys: 167 ms, total: 3min 2s\n",
      "Wall time: 3min 4s\n"
     ]
    }
   ],
   "source": [
    "%%time \n",
    "m= 6000\n",
    "n= m+3000\n",
    "print(n)\n",
    "p=401\n",
    "f = fekete(3*p)\n",
    "print(p, search_two_four_cycle_2(f,m,n))"
   ]
  },
  {
   "cell_type": "code",
   "execution_count": 13,
   "metadata": {
    "collapsed": false
   },
   "outputs": [
    {
     "name": "stdout",
     "output_type": "stream",
     "text": [
      "12000\n",
      "401 -1\n",
      "CPU times: user 3min 36s, sys: 333 ms, total: 3min 36s\n",
      "Wall time: 3min 45s\n"
     ]
    }
   ],
   "source": [
    "%%time \n",
    "m= 9000\n",
    "n= m+3000\n",
    "print(n)\n",
    "p=401\n",
    "f = fekete(3*p)\n",
    "print(p, search_two_four_cycle_2(f,m,n))"
   ]
  },
  {
   "cell_type": "code",
   "execution_count": 14,
   "metadata": {
    "collapsed": false
   },
   "outputs": [
    {
     "name": "stdout",
     "output_type": "stream",
     "text": [
      "15000\n",
      "401 -1\n",
      "CPU times: user 3min 23s, sys: 226 ms, total: 3min 24s\n",
      "Wall time: 3min 29s\n"
     ]
    }
   ],
   "source": [
    "%%time \n",
    "m= 12000\n",
    "n= m+3000\n",
    "print(n)\n",
    "p=401\n",
    "f = fekete(3*p)\n",
    "print(p, search_two_four_cycle_2(f,m,n))"
   ]
  },
  {
   "cell_type": "code",
   "execution_count": 15,
   "metadata": {
    "collapsed": false
   },
   "outputs": [
    {
     "name": "stdout",
     "output_type": "stream",
     "text": [
      "18000\n",
      "401 17987\n",
      "CPU times: user 3min 35s, sys: 313 ms, total: 3min 35s\n",
      "Wall time: 3min 39s\n"
     ]
    }
   ],
   "source": [
    "%%time \n",
    "m= 15000\n",
    "n= m+3000\n",
    "print(n)\n",
    "p=401\n",
    "f = fekete(3*p)\n",
    "print(p, search_two_four_cycle_2(f,m,n))"
   ]
  },
  {
   "cell_type": "code",
   "execution_count": 16,
   "metadata": {
    "collapsed": false
   },
   "outputs": [
    {
     "name": "stdout",
     "output_type": "stream",
     "text": [
      "3000\n",
      "419 -1\n",
      "CPU times: user 3min 21s, sys: 218 ms, total: 3min 21s\n",
      "Wall time: 3min 30s\n"
     ]
    }
   ],
   "source": [
    "%%time \n",
    "m= 0\n",
    "n= m+3000\n",
    "print(n)\n",
    "p=419\n",
    "f = fekete(3*p)\n",
    "print(p, search_two_four_cycle_2(f,m,n))"
   ]
  },
  {
   "cell_type": "code",
   "execution_count": 18,
   "metadata": {
    "collapsed": false
   },
   "outputs": [
    {
     "name": "stdout",
     "output_type": "stream",
     "text": [
      "6000\n",
      "419 -1\n",
      "CPU times: user 3min 18s, sys: 290 ms, total: 3min 19s\n",
      "Wall time: 3min 21s\n"
     ]
    }
   ],
   "source": [
    "%%time \n",
    "m= 3000\n",
    "n= m+3000\n",
    "print(n)\n",
    "p=419\n",
    "f = fekete(3*p)\n",
    "print(p, search_two_four_cycle_2(f,m,n))"
   ]
  },
  {
   "cell_type": "code",
   "execution_count": 19,
   "metadata": {
    "collapsed": false
   },
   "outputs": [
    {
     "name": "stdout",
     "output_type": "stream",
     "text": [
      "9000\n",
      "419 6871\n",
      "CPU times: user 1min 20s, sys: 91.1 ms, total: 1min 21s\n",
      "Wall time: 1min 25s\n"
     ]
    }
   ],
   "source": [
    "%%time \n",
    "m= 6000\n",
    "n= m+3000\n",
    "print(n)\n",
    "p=419\n",
    "f = fekete(3*p)\n",
    "print(p, search_two_four_cycle_2(f,m,n))"
   ]
  },
  {
   "cell_type": "code",
   "execution_count": 3,
   "metadata": {
    "collapsed": false
   },
   "outputs": [
    {
     "name": "stdout",
     "output_type": "stream",
     "text": [
      "3000\n",
      "431 -1\n",
      "CPU times: user 3min 29s, sys: 206 ms, total: 3min 30s\n",
      "Wall time: 3min 36s\n"
     ]
    }
   ],
   "source": [
    "%%time \n",
    "m= 0\n",
    "n= m+3000\n",
    "print(n)\n",
    "p=431\n",
    "f = fekete(3*p)\n",
    "print(p, search_two_four_cycle_2(f,m,n))"
   ]
  },
  {
   "cell_type": "code",
   "execution_count": 3,
   "metadata": {
    "collapsed": false
   },
   "outputs": [
    {
     "name": "stdout",
     "output_type": "stream",
     "text": [
      "100000\n",
      "431 9859\n",
      "CPU times: user 13min 27s, sys: 9.08 s, total: 13min 36s\n",
      "Wall time: 14min 4s\n"
     ]
    }
   ],
   "source": [
    "%%time \n",
    "m= 0\n",
    "n= 10**5\n",
    "print(n)\n",
    "p=431\n",
    "f = fekete(3*p)\n",
    "print(p, search_two_four_cycle_2(f,m,n))"
   ]
  },
  {
   "cell_type": "code",
   "execution_count": 2,
   "metadata": {
    "collapsed": false
   },
   "outputs": [
    {
     "name": "stdout",
     "output_type": "stream",
     "text": [
      "443 7127\n",
      "449 4651\n",
      "CPU times: user 15min 44s, sys: 6.29 s, total: 15min 50s\n",
      "Wall time: 16min 19s\n"
     ]
    }
   ],
   "source": [
    "%%time\n",
    "P=Primes()\n",
    "n=10**5\n",
    "p=431\n",
    "while p < 450: \n",
    "    p=P.next(p)\n",
    "    if p % 3 ==2: \n",
    "        f = fekete(3*p)\n",
    "        print(p, search_two_four_cycle(f,n))"
   ]
  },
  {
   "cell_type": "code",
   "execution_count": 4,
   "metadata": {
    "collapsed": false
   },
   "outputs": [
    {
     "name": "stdout",
     "output_type": "stream",
     "text": [
      "461 13781\n",
      "467 1483\n",
      "479 853\n"
     ]
    }
   ],
   "source": [
    "%%time\n",
    "P=Primes()\n",
    "n=10**5\n",
    "p=449\n",
    "while p < 500: \n",
    "    p=P.next(p)\n",
    "    if p % 3 ==2: \n",
    "        f = fekete(3*p)\n",
    "        print(p, search_two_four_cycle(f,n))"
   ]
  },
  {
   "cell_type": "code",
   "execution_count": 5,
   "metadata": {
    "collapsed": false
   },
   "outputs": [
    {
     "name": "stdout",
     "output_type": "stream",
     "text": [
      "491 3011\n"
     ]
    },
    {
     "name": "stdout",
     "output_type": "stream",
     "text": [
      "503 15749\n"
     ]
    },
    {
     "name": "stdout",
     "output_type": "stream",
     "text": [
      "509 16937\n"
     ]
    },
    {
     "name": "stdout",
     "output_type": "stream",
     "text": [
      "521 13009\n"
     ]
    },
    {
     "name": "stdout",
     "output_type": "stream",
     "text": [
      "557 7013\n"
     ]
    },
    {
     "name": "stdout",
     "output_type": "stream",
     "text": [
      "563 8783\n"
     ]
    },
    {
     "name": "stdout",
     "output_type": "stream",
     "text": [
      "569 157\n"
     ]
    },
    {
     "name": "stdout",
     "output_type": "stream",
     "text": [
      "587 15319\n"
     ]
    },
    {
     "name": "stdout",
     "output_type": "stream",
     "text": [
      "593 19709\n"
     ]
    },
    {
     "name": "stdout",
     "output_type": "stream",
     "text": [
      "599 5647\n",
      "CPU times: user 4h 19min 21s, sys: 1min 43s, total: 4h 21min 5s\n",
      "Wall time: 4h 28min 20s\n"
     ]
    }
   ],
   "source": [
    "%%time\n",
    "P=Primes()\n",
    "n=10**5\n",
    "p=479\n",
    "while p < 600: \n",
    "    p=P.next(p)\n",
    "    if p % 3 ==2: \n",
    "        f = fekete(3*p)\n",
    "        print(p, search_two_four_cycle(f,n))"
   ]
  },
  {
   "cell_type": "code",
   "execution_count": 6,
   "metadata": {
    "collapsed": false
   },
   "outputs": [
    {
     "name": "stdout",
     "output_type": "stream",
     "text": [
      "617 3877\n"
     ]
    },
    {
     "name": "stdout",
     "output_type": "stream",
     "text": [
      "641 1523\n"
     ]
    },
    {
     "name": "stdout",
     "output_type": "stream",
     "text": [
      "647 13723\n"
     ]
    },
    {
     "name": "stdout",
     "output_type": "stream",
     "text": [
      "653 3329\n"
     ]
    },
    {
     "name": "stdout",
     "output_type": "stream",
     "text": [
      "659 27011\n"
     ]
    },
    {
     "name": "stdout",
     "output_type": "stream",
     "text": [
      "677 20123\n"
     ]
    },
    {
     "name": "stdout",
     "output_type": "stream",
     "text": [
      "683 10993\n"
     ]
    },
    {
     "name": "stdout",
     "output_type": "stream",
     "text": [
      "701 11657\n",
      "CPU times: user 6h 3min 10s, sys: 2min 3s, total: 6h 5min 14s\n",
      "Wall time: 6h 49min 47s\n"
     ]
    }
   ],
   "source": [
    "%%time\n",
    "P=Primes()\n",
    "n=10**5\n",
    "p=599\n",
    "while p < 700: \n",
    "    p=P.next(p)\n",
    "    if p % 3 ==2: \n",
    "        f = fekete(3*p)\n",
    "        print(p, search_two_four_cycle(f,n))"
   ]
  },
  {
   "cell_type": "code",
   "execution_count": 7,
   "metadata": {
    "collapsed": false
   },
   "outputs": [
    {
     "name": "stdout",
     "output_type": "stream",
     "text": [
      "719 9043\n"
     ]
    },
    {
     "name": "stdout",
     "output_type": "stream",
     "text": [
      "743 8543\n"
     ]
    },
    {
     "name": "stdout",
     "output_type": "stream",
     "text": [
      "761 87433\n"
     ]
    },
    {
     "name": "stdout",
     "output_type": "stream",
     "text": [
      "773 10247\n"
     ]
    },
    {
     "name": "stdout",
     "output_type": "stream",
     "text": [
      "797 35801\n"
     ]
    },
    {
     "name": "stdout",
     "output_type": "stream",
     "text": [
      "809 4733\n",
      "CPU times: user 15h 46min 58s, sys: 12min 6s, total: 15h 59min 4s\n",
      "Wall time: 18h 45min 49s\n"
     ]
    }
   ],
   "source": [
    "%%time\n",
    "P=Primes()\n",
    "n=10**5\n",
    "p=701\n",
    "while p < 800: \n",
    "    p=P.next(p)\n",
    "    if p % 3 ==2: \n",
    "        f = fekete(3*p)\n",
    "        print(p, search_two_four_cycle(f,n))"
   ]
  },
  {
   "cell_type": "code",
   "execution_count": 8,
   "metadata": {
    "collapsed": false
   },
   "outputs": [
    {
     "name": "stdout",
     "output_type": "stream",
     "text": [
      "821 3917\n"
     ]
    },
    {
     "name": "stdout",
     "output_type": "stream",
     "text": [
      "827 22189\n"
     ]
    },
    {
     "name": "stdout",
     "output_type": "stream",
     "text": [
      "839 1187\n"
     ]
    },
    {
     "name": "stdout",
     "output_type": "stream",
     "text": [
      "857 5437\n"
     ]
    },
    {
     "name": "stdout",
     "output_type": "stream",
     "text": [
      "863 4957\n"
     ]
    },
    {
     "name": "stdout",
     "output_type": "stream",
     "text": [
      "881 21467\n"
     ]
    },
    {
     "name": "stdout",
     "output_type": "stream",
     "text": [
      "887 2711\n",
      "CPU times: user 7h 44min 22s, sys: 5min 41s, total: 7h 50min 4s\n",
      "Wall time: 12h 17min 58s\n"
     ]
    }
   ],
   "source": [
    "%%time\n",
    "P=Primes()\n",
    "n=10**5\n",
    "p=809\n",
    "while p < 900: \n",
    "    p=P.next(p)\n",
    "    if p % 3 ==2: \n",
    "        f = fekete(3*p)\n",
    "        print(p, search_two_four_cycle(f,n))"
   ]
  },
  {
   "cell_type": "code",
   "execution_count": 9,
   "metadata": {
    "collapsed": false
   },
   "outputs": [
    {
     "name": "stdout",
     "output_type": "stream",
     "text": [
      "911 29191\n"
     ]
    },
    {
     "name": "stdout",
     "output_type": "stream",
     "text": [
      "929 2689\n"
     ]
    },
    {
     "name": "stdout",
     "output_type": "stream",
     "text": [
      "941 14929\n"
     ]
    },
    {
     "name": "stdout",
     "output_type": "stream",
     "text": [
      "947 22621\n"
     ]
    },
    {
     "name": "stdout",
     "output_type": "stream",
     "text": [
      "953 37463\n"
     ]
    },
    {
     "name": "stdout",
     "output_type": "stream",
     "text": [
      "971 15401\n"
     ]
    },
    {
     "name": "stdout",
     "output_type": "stream",
     "text": [
      "977 10889\n"
     ]
    },
    {
     "name": "stdout",
     "output_type": "stream",
     "text": [
      "983 443\n",
      "CPU times: user 21h 30min 13s, sys: 9min 51s, total: 21h 40min 4s\n",
      "Wall time: 1d 10h 14min 24s\n"
     ]
    }
   ],
   "source": [
    "%%time\n",
    "P=Primes()\n",
    "n=10**5\n",
    "p=887\n",
    "while p < 1000: \n",
    "    p=P.next(p)\n",
    "    if p % 3 ==2: \n",
    "        f = fekete(3*p)\n",
    "        print(p, search_two_four_cycle(f,n))"
   ]
  },
  {
   "cell_type": "markdown",
   "metadata": {
    "collapsed": false
   },
   "source": [
    "# Example "
   ]
  },
  {
   "cell_type": "markdown",
   "metadata": {
    "collapsed": false
   },
   "source": [
    "We discuss a concrete example in this case, namely the case $n=3 \\times 7$"
   ]
  },
  {
   "cell_type": "code",
   "execution_count": 12,
   "metadata": {
    "collapsed": false
   },
   "outputs": [
    {
     "data": {
      "text/plain": [
       "x^16 + x^15 + x^9 + x^7 + x + 1"
      ]
     },
     "execution_count": 12,
     "metadata": {
     },
     "output_type": "execute_result"
    }
   ],
   "source": [
    "f=fekete(3*7)\n",
    "f"
   ]
  },
  {
   "cell_type": "code",
   "execution_count": 14,
   "metadata": {
    "collapsed": false
   },
   "outputs": [
    {
     "data": {
      "text/plain": [
       "x^8 + x^7 - 8*x^6 - 7*x^5 + 20*x^4 + 14*x^3 - 16*x^2 - 6*x + 2"
      ]
     },
     "execution_count": 14,
     "metadata": {
     },
     "output_type": "execute_result"
    }
   ],
   "source": [
    "g=reduced_fekete(3*7)\n",
    "g"
   ]
  },
  {
   "cell_type": "code",
   "execution_count": 15,
   "metadata": {
    "collapsed": false
   },
   "outputs": [
    {
     "data": {
      "text/plain": [
       "x^8 + x^7 + 2*x^6 + 3*x^5 + 4*x^3 + 4*x^2 + 4*x + 2"
      ]
     },
     "execution_count": 15,
     "metadata": {
     },
     "output_type": "execute_result"
    }
   ],
   "source": [
    "fekete_reduction(g, 5)"
   ]
  },
  {
   "cell_type": "code",
   "execution_count": 16,
   "metadata": {
    "collapsed": false
   },
   "outputs": [
    {
     "data": {
      "text/plain": [
       "(x + 8) * (x^7 + 12*x^6 + 10*x^5 + 8*x^4 + 13*x^3 + 5*x^2 + x + 5)"
      ]
     },
     "execution_count": 16,
     "metadata": {
     },
     "output_type": "execute_result"
    }
   ],
   "source": [
    "fekete_reduction(g, 19)"
   ]
  },
  {
   "cell_type": "code",
   "execution_count": 17,
   "metadata": {
    "collapsed": false
   },
   "outputs": [
    {
     "data": {
      "text/plain": [
       "(x^2 + x + 4) * (x^3 + 4) * (x^3 + 2*x + 1)"
      ]
     },
     "execution_count": 17,
     "metadata": {
     },
     "output_type": "execute_result"
    }
   ],
   "source": [
    "fekete_reduction(g, 7)"
   ]
  },
  {
   "cell_type": "code",
   "execution_count": 18,
   "metadata": {
    "collapsed": false
   },
   "outputs": [
    {
     "data": {
      "text/plain": [
       "(x^2 + 12*x + 1) * (x^7 + 78*x^6 + 173*x^5 + 18*x^4 + 119*x^3 + 129*x^2 + 107*x + 9) * (x^7 + 138*x^6 + 90*x^5 + 215*x^4 + 2*x^3 + 221*x^2 + 160*x + 101)"
      ]
     },
     "execution_count": 18,
     "metadata": {
     },
     "output_type": "execute_result"
    }
   ],
   "source": [
    "fekete_reduction(f, 227)"
   ]
  }
 ],
 "metadata": {
  "kernelspec": {
   "display_name": "SageMath 9.4",
   "language": "sagemath",
   "metadata": {
    "cocalc": {
     "description": "Open-source mathematical software system",
     "priority": 1,
     "url": "https://www.sagemath.org/"
    }
   },
   "name": "sage-9.4",
   "resource_dir": "/ext/jupyter/kernels/sage-9.4"
  },
  "language_info": {
   "codemirror_mode": {
    "name": "ipython",
    "version": 3
   },
   "file_extension": ".py",
   "mimetype": "text/x-python",
   "name": "python",
   "nbconvert_exporter": "python",
   "pygments_lexer": "ipython3",
   "version": "3.9.5"
  },
  "latex_envs": {
   "LaTeX_envs_menu_present": true,
   "autoclose": false,
   "autocomplete": true,
   "bibliofile": "biblio.bib",
   "cite_by": "apalike",
   "current_citInitial": 1,
   "eqLabelWithNumbers": true,
   "eqNumInitial": 1,
   "hotkeys": {
    "equation": "Ctrl-E",
    "itemize": "Ctrl-I"
   },
   "labels_anchors": false,
   "latex_user_defs": false,
   "report_style_numbering": false,
   "user_envs_cfg": false
  }
 },
 "nbformat": 4,
 "nbformat_minor": 4
}